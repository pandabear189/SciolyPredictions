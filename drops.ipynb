{
 "cells": [
  {
   "cell_type": "markdown",
   "id": "8c14d85bfc3cfff8",
   "metadata": {
    "collapsed": false
   },
   "source": [
    "# Setup/Imports"
   ]
  },
  {
   "cell_type": "code",
   "execution_count": 1,
   "id": "35c184f9ceb9fffe",
   "metadata": {
    "collapsed": false,
    "ExecuteTime": {
     "end_time": "2023-12-04T03:56:14.667508500Z",
     "start_time": "2023-12-04T03:56:14.002551700Z"
    }
   },
   "outputs": [],
   "source": [
    "from __future__ import annotations\n",
    "\n",
    "import typing\n",
    "\n",
    "import yaml\n",
    "import numpy as np\n",
    "\n",
    "with open(\"data/2023-05-20_nationals_c.yaml\", 'r') as file:\n",
    "    data = yaml.safe_load(file)"
   ]
  },
  {
   "cell_type": "markdown",
   "id": "3dced3407f6b6df5",
   "metadata": {
    "collapsed": false
   },
   "source": [
    "## Event Scoring"
   ]
  },
  {
   "cell_type": "code",
   "execution_count": 2,
   "id": "a73b82c384b424da",
   "metadata": {
    "collapsed": false,
    "ExecuteTime": {
     "end_time": "2023-12-04T03:56:14.682920900Z",
     "start_time": "2023-12-04T03:56:14.668510400Z"
    }
   },
   "outputs": [],
   "source": [
    "# Team List in order index of team number - 1 (0-indexed)\n",
    "teams = [team['school'] for team in data.get('Teams')]\n",
    "\n",
    "# Event Order (0-indexed)\n",
    "events = [event['name'] for event in data.get('Events')]\n"
   ]
  },
  {
   "cell_type": "code",
   "execution_count": 3,
   "id": "f3129f09b1a92b8c",
   "metadata": {
    "collapsed": false,
    "ExecuteTime": {
     "end_time": "2023-12-04T03:56:14.713753200Z",
     "start_time": "2023-12-04T03:56:14.687932500Z"
    }
   },
   "outputs": [],
   "source": [
    "trial_events = [d['name'] for d in data.get('Events') if d.get('trial', False)]\n",
    "total_scores: dict[str, int] = {t: 0 for t in teams} # team number : total score (sum)\n",
    "full_scores: dict[str, list[int]] = {t: [] for t in teams} # full array of scores for each team\n",
    "\n",
    "for placement in data.get('Placings'):\n",
    "    total_scores[teams[placement['team']-1]] += placement.get('place', len(teams)) if not placement['event'] in trial_events else 0\n",
    "    full_scores[teams[placement['team']-1]].append(placement.get('place', len(teams))) if not placement['event'] in trial_events else 0\n",
    "    \n",
    "# print(total_scores)\n",
    "# print(full_scores)\n"
   ]
  },
  {
   "cell_type": "markdown",
   "source": [
    "## Average Score Per School"
   ],
   "metadata": {
    "collapsed": false
   },
   "id": "686fbc16fd1d60d9"
  },
  {
   "cell_type": "code",
   "execution_count": 4,
   "outputs": [
    {
     "name": "stdout",
     "output_type": "stream",
     "text": [
      "{'Syosset High School': 16.565217391304348, 'Ward Melville High School': 20.73913043478261, 'Troy High School': 12.130434782608695, 'Castro Valley High School': 13.956521739130435, 'William G. Enloe High School': 15.956521739130435, 'North Carolina School of Science and Mathematics': 20.434782608695652, 'Grand Haven High School': 17.608695652173914, 'Pioneer High School': 23.608695652173914, 'Harriton High School': 12.73913043478261, 'Lower Merion High School': 18.130434782608695, 'Adlai E. Stevenson High School': 9.043478260869565, 'New Trier High School': 14.478260869565217, 'F.W. Buchholz High School': 21.73913043478261, 'Boca Raton Community High School': 26.434782608695652, 'Solon High School': 9.91304347826087, 'Mason High School': 10.130434782608695, 'Seven Lakes High School': 14.173913043478262, 'William P. Clements High School': 20.08695652173913, 'Fulton Science Academy': 29.26086956521739, 'Brookwood High School': 24.434782608695652, 'Thomas Jefferson High School for Science and Technology': 25.08695652173913, 'Marquette University High School': 16.08695652173913, 'Ladue Horton Watkins High School': 23.26086956521739, 'West Windsor-Plainsboro High School North': 18.391304347826086, 'Centennial High School': 23.391304347826086, 'Carmel High School': 20.434782608695652, 'Acton-Boxborough Regional High School': 12.956521739130435, 'Mounds View High School': 29.91304347826087, 'Tesla STEM High School': 25.434782608695652, 'Ravenwood High School': 36.43478260869565, 'Homeschool Science Colorado': 32.91304347826087, 'Blue Valley North High School': 35.04347826086956, 'Millard North High School': 49.43478260869565, 'Charter School of Wilmington': 43.04347826086956, 'James Clemens High School': 43.82608695652174, 'Bismarck High School': 45.869565217391305, 'South Windsor High School': 39.0, 'Hamilton High School': 47.82608695652174, 'duPont Manual High School': 21.91304347826087, 'Albuquerque Academy': 46.08695652173913, 'University High School': 41.65217391304348, 'Iolani School': 25.434782608695652, 'Ames High School': 35.26086956521739, 'Barrington High School': 45.43478260869565, 'Ed W. Clark High School': 26.91304347826087, 'Northwest Rankin High School': 46.08695652173913, 'Lebanon High School': 46.17391304347826, 'Clinton High School': 49.08695652173913, 'Casady School': 43.91304347826087, \"St. Mary's Academy\": 46.17391304347826, 'West High School': 43.869565217391305, 'Waynflete Upper School': 40.43478260869565, 'Baton Rouge Magnet High School': 52.69565217391305, 'Little Rock Central High School': 52.47826086956522, 'Kelly Walsh High School': 47.69565217391305, 'Morgantown High School': 39.47826086956522, 'Saint Johnsbury Academy': 52.04347826086956, 'BASIS Independent Washington, D.C.': 40.04347826086956, 'Pembroke Hill School': 34.08695652173913, 'Langley High School': 33.56521739130435}\n"
     ]
    }
   ],
   "source": [
    "averages = {t: total_scores[t]/(len(data.get('Events'))-len(trial_events)) for t in teams}\n",
    "print(averages)"
   ],
   "metadata": {
    "collapsed": false,
    "ExecuteTime": {
     "end_time": "2023-12-04T03:56:14.713753200Z",
     "start_time": "2023-12-04T03:56:14.699858300Z"
    }
   },
   "id": "bfe574e306c4d738"
  },
  {
   "cell_type": "markdown",
   "source": [
    "# Distinguishing \"Bombed\" Events\n",
    "### Using the following methods to determine \"bombed\" events:\n",
    "##### These values become the upper fence for the data\n",
    "- $\\alpha \\times \\overline{X} $\n",
    "- $\\alpha \\times (Q_3 - Q_1) + Q_3$ &nbsp; (IQR)\n",
    "- $\\alpha \\times \\sigma + \\overline{X} $&nbsp;&nbsp;&nbsp; (Standard Deviation)\n",
    "\n",
    "where $\\alpha$ is a multiplicative constant\n"
   ],
   "metadata": {
    "collapsed": false
   },
   "id": "e03e01c80a6d3cb7"
  },
  {
   "cell_type": "markdown",
   "source": [
    "### Mean Method (alpha = 2)"
   ],
   "metadata": {
    "collapsed": false
   },
   "id": "8ae06a38b271b960"
  },
  {
   "cell_type": "code",
   "execution_count": 5,
   "outputs": [
    {
     "name": "stdout",
     "output_type": "stream",
     "text": [
      "\"Bombed\" events by school: {'Syosset High School': ['Bridge', 'Flight', 'Remote Sensing'], 'Ward Melville High School': [], 'Troy High School': ['Chemistry Lab', 'Forensics', 'WiFi Lab'], 'Castro Valley High School': ['Scrambler', 'Write It Do It'], 'William G. Enloe High School': ['Astronomy', 'Scrambler'], 'North Carolina School of Science and Mathematics': ['Environmental Chemistry', 'Forensics'], 'Grand Haven High School': ['Cell Biology', 'Chemistry Lab', 'Detector Building'], 'Pioneer High School': ['Write It Do It'], 'Harriton High School': ['Dynamic Planet', 'Fermi Questions'], 'Lower Merion High School': ['Remote Sensing'], 'Adlai E. Stevenson High School': ['Experimental Design', 'Trajectory'], 'New Trier High School': ['Experimental Design', 'Scrambler', 'Trajectory'], 'F.W. Buchholz High School': ['Experimental Design', 'Write It Do It'], 'Boca Raton Community High School': [], 'Solon High School': ['Experimental Design', 'Remote Sensing'], 'Mason High School': ['Trajectory', 'Write It Do It'], 'Seven Lakes High School': ['Bridge'], 'William P. Clements High School': ['Forensics', 'Scrambler', 'Write It Do It'], 'Fulton Science Academy': [], 'Brookwood High School': [], 'Thomas Jefferson High School for Science and Technology': ['Write It Do It'], 'Marquette University High School': ['Dynamic Planet', 'Remote Sensing'], 'Ladue Horton Watkins High School': [], 'West Windsor-Plainsboro High School North': ['Detector Building', 'Fermi Questions', \"It's About Time\", 'WiFi Lab'], 'Centennial High School': ['Detector Building'], 'Carmel High School': ['Bridge', 'Green Generation'], 'Acton-Boxborough Regional High School': ['Chemistry Lab', 'Detector Building'], 'Mounds View High School': [], 'Tesla STEM High School': [], 'Ravenwood High School': [], 'Homeschool Science Colorado': [], 'Blue Valley North High School': [], 'Millard North High School': [], 'Charter School of Wilmington': [], 'James Clemens High School': [], 'Bismarck High School': [], 'South Windsor High School': [], 'Hamilton High School': [], 'duPont Manual High School': ['Forensics', 'Forestry', 'Rocks and Minerals', 'Scrambler', 'WiFi Lab'], 'Albuquerque Academy': [], 'University High School': [], 'Iolani School': [], 'Ames High School': [], 'Barrington High School': [], 'Ed W. Clark High School': [], 'Northwest Rankin High School': [], 'Lebanon High School': [], 'Clinton High School': [], 'Casady School': [], \"St. Mary's Academy\": [], 'West High School': [], 'Waynflete Upper School': [], 'Baton Rouge Magnet High School': [], 'Little Rock Central High School': [], 'Kelly Walsh High School': [], 'Morgantown High School': [], 'Saint Johnsbury Academy': [], 'BASIS Independent Washington, D.C.': [], 'Pembroke Hill School': [], 'Langley High School': []} \n",
      "\n",
      "Average \"bombed events\":  0.85\n"
     ]
    }
   ],
   "source": [
    "bombed_events = {t: [] for t in teams}\n",
    "\n",
    "def mean(alpha: int = 2):\n",
    "    for placement in data.get('Placings'):\n",
    "        if placement.get('place', len(teams)) > averages[teams[placement['team']-1]] * alpha and not placement['event'] in trial_events:\n",
    "            bombed_events[teams[placement['team']-1]].append(placement['event'])\n",
    "            \n",
    "    print(\"\\\"Bombed\\\" events by school:\", bombed_events, \"\\n\")\n",
    "    print(\"Average \\\"bombed events\\\": \", sum([len(bombed_events[t]) for t in bombed_events])/len(teams))\n",
    "\n",
    "mean()"
   ],
   "metadata": {
    "collapsed": false,
    "ExecuteTime": {
     "end_time": "2023-12-04T03:56:14.729163400Z",
     "start_time": "2023-12-04T03:56:14.718156600Z"
    }
   },
   "id": "834164a368868bc1"
  },
  {
   "cell_type": "markdown",
   "source": [
    "### IQR Method (alpha = 1.5, standard outlier formula)"
   ],
   "metadata": {
    "collapsed": false
   },
   "id": "3ab2dd5968448b6e"
  },
  {
   "cell_type": "code",
   "execution_count": 6,
   "outputs": [
    {
     "name": "stdout",
     "output_type": "stream",
     "text": [
      "\"Bombed\" events by school: {'Syosset High School': ['Flight'], 'Ward Melville High School': [], 'Troy High School': [], 'Castro Valley High School': ['Scrambler'], 'William G. Enloe High School': [], 'North Carolina School of Science and Mathematics': [], 'Grand Haven High School': [], 'Pioneer High School': [], 'Harriton High School': ['Fermi Questions'], 'Lower Merion High School': ['Remote Sensing'], 'Adlai E. Stevenson High School': ['Experimental Design', 'Trajectory'], 'New Trier High School': ['Scrambler'], 'F.W. Buchholz High School': ['Experimental Design', 'Write It Do It'], 'Boca Raton Community High School': [], 'Solon High School': ['Experimental Design', 'Remote Sensing'], 'Mason High School': ['Trajectory'], 'Seven Lakes High School': [], 'William P. Clements High School': [], 'Fulton Science Academy': [], 'Brookwood High School': ['Fermi Questions'], 'Thomas Jefferson High School for Science and Technology': ['Write It Do It'], 'Marquette University High School': [], 'Ladue Horton Watkins High School': [], 'West Windsor-Plainsboro High School North': [], 'Centennial High School': [], 'Carmel High School': [], 'Acton-Boxborough Regional High School': ['Chemistry Lab', 'Detector Building'], 'Mounds View High School': [], 'Tesla STEM High School': [], 'Ravenwood High School': [], 'Homeschool Science Colorado': [], 'Blue Valley North High School': [], 'Millard North High School': [], 'Charter School of Wilmington': [], 'James Clemens High School': [], 'Bismarck High School': [], 'South Windsor High School': [], 'Hamilton High School': [], 'duPont Manual High School': [], 'Albuquerque Academy': [], 'University High School': [], 'Iolani School': [], 'Ames High School': [], 'Barrington High School': [], 'Ed W. Clark High School': [], 'Northwest Rankin High School': [], 'Lebanon High School': [], 'Clinton High School': [], 'Casady School': [], \"St. Mary's Academy\": [], 'West High School': [], 'Waynflete Upper School': [], 'Baton Rouge Magnet High School': [], 'Little Rock Central High School': [], 'Kelly Walsh High School': [], 'Morgantown High School': ['Fermi Questions'], 'Saint Johnsbury Academy': [], 'BASIS Independent Washington, D.C.': [], 'Pembroke Hill School': [], 'Langley High School': []} \n",
      "\n",
      "Average \"bombed events\":  0.2833333333333333\n"
     ]
    }
   ],
   "source": [
    "bombed_events = {t: [] for t in teams}\n",
    "\n",
    "def iqr(alpha: int = 1.5):\n",
    "    for placement in data.get('Placings'):\n",
    "        q1 = np.quantile(full_scores[teams[placement['team']-1]], 0.25)\n",
    "        q3 = np.quantile(full_scores[teams[placement['team']-1]], 0.75)\n",
    "        if placement.get('place', len(teams)) > ((q3 - q1) * alpha + q3) and not placement['event'] in trial_events:\n",
    "            bombed_events[teams[placement['team']-1]].append(placement['event'])\n",
    "            \n",
    "    print(\"\\\"Bombed\\\" events by school:\", bombed_events, \"\\n\")\n",
    "    print(\"Average \\\"bombed events\\\": \", sum([len(bombed_events[t]) for t in bombed_events])/len(teams))\n",
    "    \n",
    "iqr()"
   ],
   "metadata": {
    "collapsed": false,
    "ExecuteTime": {
     "end_time": "2023-12-04T03:56:15.009309900Z",
     "start_time": "2023-12-04T03:56:14.733900700Z"
    }
   },
   "id": "6cc22dd35bd4041b"
  },
  {
   "cell_type": "code",
   "execution_count": 7,
   "outputs": [
    {
     "name": "stdout",
     "output_type": "stream",
     "text": [
      "\"Bombed\" events by school: {'Syosset High School': ['Bridge', 'Flight', 'Remote Sensing'], 'Ward Melville High School': ['Environmental Chemistry'], 'Troy High School': ['Chemistry Lab', 'Forensics', 'WiFi Lab', 'Write It Do It'], 'Castro Valley High School': ['Scrambler'], 'William G. Enloe High School': ['Astronomy', 'Scrambler'], 'North Carolina School of Science and Mathematics': ['Environmental Chemistry', 'Forensics'], 'Grand Haven High School': ['Chemistry Lab', 'Detector Building'], 'Pioneer High School': ['Anatomy and Physiology', 'Write It Do It'], 'Harriton High School': ['Detector Building', 'Dynamic Planet', 'Fermi Questions'], 'Lower Merion High School': ['Remote Sensing'], 'Adlai E. Stevenson High School': ['Experimental Design', 'Trajectory'], 'New Trier High School': ['Experimental Design', 'Scrambler'], 'F.W. Buchholz High School': ['Experimental Design', 'Write It Do It'], 'Boca Raton Community High School': ['Environmental Chemistry'], 'Solon High School': ['Experimental Design', 'Remote Sensing'], 'Mason High School': ['Trajectory'], 'Seven Lakes High School': ['Bridge'], 'William P. Clements High School': ['Forensics', 'Scrambler', 'Write It Do It'], 'Fulton Science Academy': ['Disease Detectives', 'Green Generation'], 'Brookwood High School': ['Chemistry Lab', 'Fermi Questions'], 'Thomas Jefferson High School for Science and Technology': ['Scrambler', 'Trajectory', 'Write It Do It'], 'Marquette University High School': ['Dynamic Planet', 'Remote Sensing'], 'Ladue Horton Watkins High School': ['Fermi Questions'], 'West Windsor-Plainsboro High School North': ['Fermi Questions', \"It's About Time\", 'WiFi Lab'], 'Centennial High School': ['Detector Building'], 'Carmel High School': ['Bridge', 'Green Generation'], 'Acton-Boxborough Regional High School': ['Chemistry Lab', 'Detector Building'], 'Mounds View High School': ['Detector Building'], 'Tesla STEM High School': ['Forestry', 'Write It Do It'], 'Ravenwood High School': [], 'Homeschool Science Colorado': ['Fermi Questions', 'WiFi Lab'], 'Blue Valley North High School': [], 'Millard North High School': ['Forestry'], 'Charter School of Wilmington': [], 'James Clemens High School': [], 'Bismarck High School': [], 'South Windsor High School': ['Forensics', 'Remote Sensing'], 'Hamilton High School': [], 'duPont Manual High School': ['Forestry', 'WiFi Lab'], 'Albuquerque Academy': [], 'University High School': [], 'Iolani School': ['Anatomy and Physiology', 'Environmental Chemistry'], 'Ames High School': ['Forensics'], 'Barrington High School': [], 'Ed W. Clark High School': ['Cell Biology'], 'Northwest Rankin High School': [], 'Lebanon High School': [], 'Clinton High School': [], 'Casady School': ['Chemistry Lab', 'Codebusters', 'Experimental Design'], \"St. Mary's Academy\": [], 'West High School': [], 'Waynflete Upper School': [], 'Baton Rouge Magnet High School': [], 'Little Rock Central High School': ['Scrambler'], 'Kelly Walsh High School': [], 'Morgantown High School': ['Fermi Questions', 'Rocks and Minerals'], 'Saint Johnsbury Academy': [], 'BASIS Independent Washington, D.C.': [], 'Pembroke Hill School': ['Cell Biology', 'Detector Building', 'Trajectory'], 'Langley High School': ['Fermi Questions', 'Flight']} \n",
      "\n",
      "Average \"bombed events\":  1.3\n"
     ]
    }
   ],
   "source": [
    "bombed_events = {t: [] for t in teams}\n",
    "\n",
    "def std_deviation(alpha: int = 1.5):\n",
    "    for placement in data.get('Placings'):\n",
    "        mean = np.mean(full_scores[teams[placement['team']-1]])\n",
    "        std = np.std(full_scores[teams[placement['team']-1]])\n",
    "        if placement.get('place', len(teams)) > (mean + alpha * std) and not placement['event'] in trial_events:\n",
    "            bombed_events[teams[placement['team']-1]].append(placement['event'])\n",
    "            \n",
    "    print(\"\\\"Bombed\\\" events by school:\", bombed_events, \"\\n\")\n",
    "    print(\"Average \\\"bombed events\\\": \", sum([len(bombed_events[t]) for t in bombed_events])/len(teams))\n",
    "    \n",
    "std_deviation()"
   ],
   "metadata": {
    "collapsed": false,
    "ExecuteTime": {
     "end_time": "2023-12-04T03:56:15.096190300Z",
     "start_time": "2023-12-04T03:56:15.012808Z"
    }
   },
   "id": "7547b3b58c508cee"
  },
  {
   "cell_type": "markdown",
   "source": [
    "## Consistent Flaws\n",
    "All of these methods are too sensitive to \"top\" teams while do not account nearly as well for lower ranked teams. A possible solution would be a scalar multiplier based on the team's rank. This would have a greater account for bombs even when the mean/median place on a team is lower. "
   ],
   "metadata": {
    "collapsed": false
   },
   "id": "4dd2768f4c1749a2"
  },
  {
   "cell_type": "markdown",
   "source": [
    "# Recalculating scores with auto drop \"bombed\" events\n"
   ],
   "metadata": {
    "collapsed": false
   },
   "id": "dc791eecd885c4dd"
  },
  {
   "cell_type": "code",
   "execution_count": 8,
   "outputs": [
    {
     "name": "stdout",
     "output_type": "stream",
     "text": [
      "\"Bombed\" events by school: {'Syosset High School': ['Bridge', 'Flight', 'Remote Sensing', 'Flight'], 'Ward Melville High School': ['Environmental Chemistry'], 'Troy High School': ['Chemistry Lab', 'Forensics', 'WiFi Lab', 'Write It Do It'], 'Castro Valley High School': ['Scrambler', 'Scrambler'], 'William G. Enloe High School': ['Astronomy', 'Scrambler', 'Scrambler'], 'North Carolina School of Science and Mathematics': ['Environmental Chemistry', 'Forensics', 'Environmental Chemistry', 'Forensics'], 'Grand Haven High School': ['Chemistry Lab', 'Detector Building', 'Detector Building'], 'Pioneer High School': ['Anatomy and Physiology', 'Write It Do It', 'Write It Do It'], 'Harriton High School': ['Detector Building', 'Dynamic Planet', 'Fermi Questions', 'Fermi Questions'], 'Lower Merion High School': ['Remote Sensing', 'Remote Sensing'], 'Adlai E. Stevenson High School': ['Experimental Design', 'Trajectory', 'Experimental Design', 'Trajectory'], 'New Trier High School': ['Experimental Design', 'Scrambler', 'Scrambler'], 'F.W. Buchholz High School': ['Experimental Design', 'Write It Do It', 'Experimental Design'], 'Boca Raton Community High School': ['Environmental Chemistry'], 'Solon High School': ['Experimental Design', 'Remote Sensing', 'Experimental Design', 'Remote Sensing'], 'Mason High School': ['Trajectory', 'Trajectory'], 'Seven Lakes High School': ['Bridge', 'Bridge'], 'William P. Clements High School': ['Forensics', 'Scrambler', 'Write It Do It', 'Forensics'], 'Fulton Science Academy': ['Disease Detectives', 'Green Generation'], 'Brookwood High School': ['Chemistry Lab', 'Fermi Questions', 'Fermi Questions'], 'Thomas Jefferson High School for Science and Technology': ['Scrambler', 'Trajectory', 'Write It Do It', 'Write It Do It'], 'Marquette University High School': ['Dynamic Planet', 'Remote Sensing'], 'Ladue Horton Watkins High School': ['Fermi Questions'], 'West Windsor-Plainsboro High School North': ['Fermi Questions', \"It's About Time\", 'WiFi Lab'], 'Centennial High School': ['Detector Building', 'Detector Building'], 'Carmel High School': ['Bridge', 'Green Generation', 'Bridge', 'Green Generation'], 'Acton-Boxborough Regional High School': ['Chemistry Lab', 'Detector Building', 'Detector Building'], 'Mounds View High School': ['Detector Building', 'Detector Building'], 'Tesla STEM High School': ['Forestry', 'Write It Do It'], 'Ravenwood High School': [], 'Homeschool Science Colorado': ['Fermi Questions', 'WiFi Lab', 'WiFi Lab'], 'Blue Valley North High School': [], 'Millard North High School': ['Forestry'], 'Charter School of Wilmington': [], 'James Clemens High School': [], 'Bismarck High School': [], 'South Windsor High School': ['Forensics', 'Remote Sensing'], 'Hamilton High School': [], 'duPont Manual High School': ['Forestry', 'WiFi Lab'], 'Albuquerque Academy': [], 'University High School': [], 'Iolani School': ['Anatomy and Physiology', 'Environmental Chemistry'], 'Ames High School': ['Forensics'], 'Barrington High School': [], 'Ed W. Clark High School': ['Cell Biology'], 'Northwest Rankin High School': [], 'Lebanon High School': [], 'Clinton High School': [], 'Casady School': ['Chemistry Lab', 'Codebusters', 'Experimental Design'], \"St. Mary's Academy\": [], 'West High School': [], 'Waynflete Upper School': [], 'Baton Rouge Magnet High School': [], 'Little Rock Central High School': ['Scrambler'], 'Kelly Walsh High School': [], 'Morgantown High School': ['Fermi Questions', 'Rocks and Minerals', 'Fermi Questions'], 'Saint Johnsbury Academy': [], 'BASIS Independent Washington, D.C.': [], 'Pembroke Hill School': ['Cell Biology', 'Detector Building', 'Trajectory', 'Trajectory'], 'Langley High School': ['Fermi Questions', 'Flight', 'Flight']} \n",
      "\n",
      "Average \"bombed events\":  1.7833333333333334\n"
     ]
    }
   ],
   "source": [
    "method: typing.Callable = std_deviation\n",
    "\n",
    "# run method\n",
    "alpha = 2\n",
    "method(alpha)\n",
    "\n",
    "score_copy = full_scores.copy()\n",
    "drops = round(sum([len(bombed_events[t]) for t in bombed_events])/len(teams))\n",
    "\n",
    "for _ in range(drops):\n",
    "    for team in score_copy:\n",
    "        score_copy[team].remove(max(score_copy[team]))\n"
   ],
   "metadata": {
    "collapsed": false,
    "ExecuteTime": {
     "end_time": "2023-12-04T03:56:15.193137500Z",
     "start_time": "2023-12-04T03:56:15.099221900Z"
    }
   },
   "id": "60ee2ba6a57560cc"
  },
  {
   "cell_type": "markdown",
   "source": [
    "## Recalculate Ranking"
   ],
   "metadata": {
    "collapsed": false
   },
   "id": "32488e302035d11c"
  },
  {
   "cell_type": "code",
   "execution_count": 9,
   "outputs": [
    {
     "name": "stdout",
     "output_type": "stream",
     "text": [
      "{'Solon High School': 160, 'Adlai E. Stevenson High School': 161, 'Mason High School': 171, 'Acton-Boxborough Regional High School': 217, 'Troy High School': 225, 'Harriton High School': 236, 'Castro Valley High School': 242, 'New Trier High School': 247, 'Seven Lakes High School': 254, 'Syosset High School': 291, 'William G. Enloe High School': 298, 'Marquette University High School': 304, 'Grand Haven High School': 319, 'West Windsor-Plainsboro High School North': 343, 'Lower Merion High School': 346, 'North Carolina School of Science and Mathematics': 369, 'William P. Clements High School': 372, 'Carmel High School': 373, 'F.W. Buchholz High School': 403, 'Ward Melville High School': 404, 'duPont Manual High School': 404, 'Pioneer High School': 440, 'Centennial High School': 452, 'Ladue Horton Watkins High School': 454, 'Brookwood High School': 470, 'Thomas Jefferson High School for Science and Technology': 472, 'Iolani School': 487, 'Tesla STEM High School': 502, 'Boca Raton Community High School': 517, 'Ed W. Clark High School': 520, 'Fulton Science Academy': 564, 'Mounds View High School': 591, 'Homeschool Science Colorado': 651, 'Langley High School': 663, 'Pembroke Hill School': 675, 'Blue Valley North High School': 701, 'Ames High School': 701, 'Ravenwood High School': 726, 'South Windsor High School': 781, 'Morgantown High School': 792, 'BASIS Independent Washington, D.C.': 814, 'Waynflete Upper School': 818, 'University High School': 841, 'Charter School of Wilmington': 873, 'James Clemens High School': 889, 'West High School': 892, 'Casady School': 893, 'Barrington High School': 927, 'Bismarck High School': 937, 'Albuquerque Academy': 940, 'Northwest Rankin High School': 942, 'Lebanon High School': 946, \"St. Mary's Academy\": 946, 'Kelly Walsh High School': 978, 'Hamilton High School': 980, 'Clinton High School': 1010, 'Millard North High School': 1020, 'Saint Johnsbury Academy': 1077, 'Little Rock Central High School': 1089, 'Baton Rouge Magnet High School': 1092}\n"
     ]
    }
   ],
   "source": [
    "score_with_drops = {t: sum(score_copy[t]) for t in score_copy}\n",
    "\n",
    "print(dict(sorted(score_with_drops.items(), key=lambda item: item[1])))"
   ],
   "metadata": {
    "collapsed": false,
    "ExecuteTime": {
     "end_time": "2023-12-04T03:56:15.278277300Z",
     "start_time": "2023-12-04T03:56:15.193634900Z"
    }
   },
   "id": "ae14a71920de410a"
  },
  {
   "cell_type": "code",
   "execution_count": 9,
   "outputs": [],
   "source": [],
   "metadata": {
    "collapsed": false,
    "ExecuteTime": {
     "end_time": "2023-12-04T03:56:15.291672400Z",
     "start_time": "2023-12-04T03:56:15.210761Z"
    }
   },
   "id": "bd80c3c19aa175bc"
  },
  {
   "cell_type": "code",
   "execution_count": 9,
   "outputs": [],
   "source": [],
   "metadata": {
    "collapsed": false,
    "ExecuteTime": {
     "end_time": "2023-12-04T03:56:15.293668400Z",
     "start_time": "2023-12-04T03:56:15.223190200Z"
    }
   },
   "id": "9b4c526bc50de713"
  }
 ],
 "metadata": {
  "kernelspec": {
   "display_name": "Python 3 (ipykernel)",
   "language": "python",
   "name": "python3"
  },
  "language_info": {
   "codemirror_mode": {
    "name": "ipython",
    "version": 3
   },
   "file_extension": ".py",
   "mimetype": "text/x-python",
   "name": "python",
   "nbconvert_exporter": "python",
   "pygments_lexer": "ipython3",
   "version": "3.9.13"
  }
 },
 "nbformat": 4,
 "nbformat_minor": 5
}
