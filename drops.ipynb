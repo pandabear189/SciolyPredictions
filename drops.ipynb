{
 "cells": [
  {
   "cell_type": "markdown",
   "id": "8c14d85bfc3cfff8",
   "metadata": {
    "collapsed": false
   },
   "source": [
    "# Setup/Imports"
   ]
  },
  {
   "cell_type": "code",
   "execution_count": 106,
   "id": "35c184f9ceb9fffe",
   "metadata": {
    "collapsed": false,
    "ExecuteTime": {
     "end_time": "2023-12-04T06:16:07.227273700Z",
     "start_time": "2023-12-04T06:16:06.678149300Z"
    }
   },
   "outputs": [],
   "source": [
    "from __future__ import annotations\n",
    "\n",
    "import typing\n",
    "\n",
    "import yaml\n",
    "import numpy as np\n",
    "\n",
    "with open(\"data/2023-02-04_solon_invitational_c.yaml\", 'r') as file:\n",
    "    data = yaml.safe_load(file)\n"
   ]
  },
  {
   "cell_type": "markdown",
   "id": "3dced3407f6b6df5",
   "metadata": {
    "collapsed": false
   },
   "source": [
    "## Event Scoring"
   ]
  },
  {
   "cell_type": "code",
   "execution_count": 107,
   "id": "a73b82c384b424da",
   "metadata": {
    "collapsed": false,
    "ExecuteTime": {
     "end_time": "2023-12-04T06:16:07.239841Z",
     "start_time": "2023-12-04T06:16:07.225137500Z"
    }
   },
   "outputs": [],
   "source": [
    "# Team List in order index of team number - 1 (0-indexed)\n",
    "team_list: list[dict[str, str | int]] = sorted(data.get(\"Teams\"), key=lambda x: x['number'])\n",
    "teams = [team['school'] + \" \" + team.get('suffix', \"\") for team in team_list]\n",
    "\n",
    "# Event Order (0-indexed)\n",
    "events = [event['name'] for event in data.get('Events')]\n"
   ]
  },
  {
   "cell_type": "code",
   "execution_count": 108,
   "id": "f3129f09b1a92b8c",
   "metadata": {
    "collapsed": false,
    "ExecuteTime": {
     "end_time": "2023-12-04T06:16:07.263785700Z",
     "start_time": "2023-12-04T06:16:07.249638200Z"
    }
   },
   "outputs": [],
   "source": [
    "trial_events = [d['name'] for d in data.get('Events') if d.get('trial', False)]\n",
    "total_scores: dict[str, int] = {t: 0 for t in teams} # team number : total score (sum)\n",
    "full_scores: dict[str, list[int]] = {t: [] for t in teams} # full array of scores for each team\n",
    "\n",
    "for placement in data.get('Placings'):\n",
    "    total_scores[teams[placement['team']-1]] += placement.get('place', len(teams)) if not placement['event'] in trial_events else 0\n",
    "    full_scores[teams[placement['team']-1]].append(placement.get('place', len(teams))) if not placement['event'] in trial_events else 0\n",
    "    \n",
    "# print(total_scores)\n",
    "# print(full_scores)\n"
   ]
  },
  {
   "cell_type": "markdown",
   "source": [
    "## Average Score Per School"
   ],
   "metadata": {
    "collapsed": false
   },
   "id": "686fbc16fd1d60d9"
  },
  {
   "cell_type": "code",
   "execution_count": 109,
   "outputs": [
    {
     "name": "stdout",
     "output_type": "stream",
     "text": [
      "{'Adlai E. Stevenson High School Gold': 8.08695652173913, 'Adlai E. Stevenson High School Green': 15.826086956521738, 'Archbishop Hoban High School Blue': 40.21739130434783, 'Archbishop Hoban High School Gold': 66.26086956521739, 'Athens Area High School ': 134.0, 'Beachwood High School Gold': 19.869565217391305, 'Beachwood High School White': 50.26086956521739, 'Boyceville High School JV': 34.69565217391305, 'Boyceville High School Varsity': 53.95652173913044, 'Brecksville-Broadview Heights High School ': 44.26086956521739, 'Canal Winchester High School ': 43.69565217391305, 'Centerville High School Black': 13.304347826086957, 'Centerville High School Gold': 24.130434782608695, 'Centerville High School White': 24.52173913043478, 'Chardon High School ': 28.130434782608695, 'Cleveland Heights High School ': 55.95652173913044, 'Columbus Academy ': 59.30434782608695, 'Cumberland Valley High School X': 11.0, 'Cumberland Valley High School Y': 17.608695652173914, 'duPont Manual High School Red': 12.434782608695652, 'duPont Manual High School White': 24.347826086956523, 'Granville High School ': 45.91304347826087, 'Hawken School ': 30.0, 'Hudson High School Blue': 25.08695652173913, 'Hudson High School White': 38.130434782608695, 'International Academy Central ': 27.304347826086957, 'International Academy Central JV': 41.130434782608695, 'Kenston High School Blue': 24.565217391304348, 'Kenston High School Bombers': 28.52173913043478, 'Kenston High School White': 65.91304347826087, 'Mason High School Green': 11.217391304347826, 'Mason High School White': 13.826086956521738, 'Mayfield High School Green': 19.869565217391305, 'Mayfield High School White': 39.69565217391305, 'Medina High School ': 38.26086956521739, 'Mentor High School Gray': 23.26086956521739, 'Mentor High School Red': 32.69565217391305, 'New Albany High School JV': 33.43478260869565, 'New Albany High School Varsity': 16.782608695652176, 'New Trier High School Bass Fishing': 11.478260869565217, 'New Trier High School Bowling': 24.695652173913043, 'New Trier High School E-sports': 63.82608695652174, 'Northmont High School Thunder': 32.82608695652174, 'Northville High School ': 67.0, 'Olentangy Orange High School A': 30.043478260869566, 'Olentangy Orange High School B': 39.73913043478261, 'Olentangy Orange High School C': 47.56521739130435, 'Orange High School ': 62.73913043478261, 'Pioneer High School ': 15.608695652173912, 'Saint Ignatius High School Blue': 32.130434782608695, 'Saint Ignatius High School Gold': 57.08695652173913, 'Saline High School Blue': 19.869565217391305, 'Saline High School Gold': 48.30434782608695, 'St. Edward High School ': 32.608695652173914, 'Stow-Munroe Falls High School ': 44.869565217391305, 'Thomas Worthington High School ': 38.95652173913044, 'Westlake High School White': 36.130434782608695, 'Westlake High School Green': 21.608695652173914, 'Whitney M. Young Magnet High School A': 67.0, 'Whitney M. Young Magnet High School B': 67.0, 'Worthington Kilbourne High School ': 53.52173913043478, 'Fairview High School ': 48.95652173913044, 'Solon High School A': 5.304347826086956, 'Solon High School B': 15.521739130434783, 'Solon High School C': 23.82608695652174, 'Solon High School D': 37.21739130434783}\n"
     ]
    }
   ],
   "source": [
    "averages = {t: total_scores[t]/(len(data.get('Events'))-len(trial_events)) for t in teams}\n",
    "print(averages)"
   ],
   "metadata": {
    "collapsed": false,
    "ExecuteTime": {
     "end_time": "2023-12-04T06:16:07.295425Z",
     "start_time": "2023-12-04T06:16:07.262276Z"
    }
   },
   "id": "bfe574e306c4d738"
  },
  {
   "cell_type": "markdown",
   "source": [
    "# Distinguishing \"Bombed\" Events\n",
    "### Using the following methods to determine \"bombed\" events:\n",
    "##### These values become the upper fence for the data\n",
    "- $\\alpha \\times \\overline{X} $\n",
    "- $\\alpha \\times (Q_3 - Q_1) + Q_3$ &nbsp; (IQR)\n",
    "- $\\alpha \\times \\sigma + \\overline{X} $&nbsp;&nbsp;&nbsp; (Standard Deviation)\n",
    "\n",
    "where $\\alpha$ is a multiplicative constant\n"
   ],
   "metadata": {
    "collapsed": false
   },
   "id": "e03e01c80a6d3cb7"
  },
  {
   "cell_type": "markdown",
   "source": [
    "### Mean Method (alpha = 2)"
   ],
   "metadata": {
    "collapsed": false
   },
   "id": "8ae06a38b271b960"
  },
  {
   "cell_type": "code",
   "execution_count": 110,
   "outputs": [
    {
     "name": "stdout",
     "output_type": "stream",
     "text": [
      "\"Bombed\" events by school: {'Adlai E. Stevenson High School Gold': ['Experimental Design', 'Flight'], 'Adlai E. Stevenson High School Green': ['Scrambler', 'Trajectory', 'Write It Do It'], 'Archbishop Hoban High School Blue': [], 'Archbishop Hoban High School Gold': [], 'Athens Area High School ': [], 'Beachwood High School Gold': ['Astronomy', 'Experimental Design', 'Flight', 'Write It Do It'], 'Beachwood High School White': [], 'Boyceville High School JV': [], 'Boyceville High School Varsity': [], 'Brecksville-Broadview Heights High School ': [], 'Canal Winchester High School ': [], 'Centerville High School Black': ['Cell Biology', 'Write It Do It'], 'Centerville High School Gold': ['Write It Do It'], 'Centerville High School White': [], 'Chardon High School ': [], 'Cleveland Heights High School ': [], 'Columbus Academy ': [], 'Cumberland Valley High School X': ['Write It Do It'], 'Cumberland Valley High School Y': ['Forensics', 'Remote Sensing'], 'duPont Manual High School Red': ['Fermi Questions', 'Forestry', \"It's About Time\"], 'duPont Manual High School White': ['Forensics'], 'Granville High School ': [], 'Hawken School ': [], 'Hudson High School Blue': ['Astronomy'], 'Hudson High School White': [], 'International Academy Central ': [], 'International Academy Central JV': [], 'Kenston High School Blue': [], 'Kenston High School Bombers': ['Scrambler'], 'Kenston High School White': [], 'Mason High School Green': ['Experimental Design', 'Flight'], 'Mason High School White': ['Chemistry Lab', 'Experimental Design', 'Flight'], 'Mayfield High School Green': ['Astronomy', 'Bridge', 'Detector Building'], 'Mayfield High School White': [], 'Medina High School ': [], 'Mentor High School Gray': [], 'Mentor High School Red': [], 'New Albany High School JV': ['Detector Building'], 'New Albany High School Varsity': ['Forensics', 'Write It Do It'], 'New Trier High School Bass Fishing': ['Bridge', 'Scrambler', 'Trajectory'], 'New Trier High School Bowling': [], 'New Trier High School E-sports': [], 'Northmont High School Thunder': [], 'Northville High School ': [], 'Olentangy Orange High School A': [], 'Olentangy Orange High School B': [], 'Olentangy Orange High School C': [], 'Orange High School ': [], 'Pioneer High School ': ['Bridge', 'Flight'], 'Saint Ignatius High School Blue': [], 'Saint Ignatius High School Gold': [], 'Saline High School Blue': [], 'Saline High School Gold': [], 'St. Edward High School ': [], 'Stow-Munroe Falls High School ': [], 'Thomas Worthington High School ': [], 'Westlake High School White': [], 'Westlake High School Green': ['Flight', 'Write It Do It'], 'Whitney M. Young Magnet High School A': [], 'Whitney M. Young Magnet High School B': [], 'Worthington Kilbourne High School ': [], 'Fairview High School ': [], 'Solon High School A': ['Bridge', 'Cell Biology'], 'Solon High School B': ['Detector Building', 'Fermi Questions'], 'Solon High School C': ['Codebusters'], 'Solon High School D': []} \n",
      "\n",
      "Average \"bombed events\":  0.6567164179104478\n"
     ]
    }
   ],
   "source": [
    "bombed_events = {t: [] for t in teams}\n",
    "\n",
    "def mean(alpha: int = 2):\n",
    "    for placement in data.get('Placings'):\n",
    "        if placement.get('place', len(teams)) > averages[teams[placement['team']-1]] * alpha and not placement['event'] in trial_events:\n",
    "            bombed_events[teams[placement['team']-1]].append(placement['event'])\n",
    "            \n",
    "    print(\"\\\"Bombed\\\" events by school:\", bombed_events, \"\\n\")\n",
    "    print(\"Average \\\"bombed events\\\": \", sum([len(bombed_events[t]) for t in bombed_events])/len(teams))\n",
    "\n",
    "mean()"
   ],
   "metadata": {
    "collapsed": false,
    "ExecuteTime": {
     "end_time": "2023-12-04T06:16:07.365681500Z",
     "start_time": "2023-12-04T06:16:07.294432200Z"
    }
   },
   "id": "834164a368868bc1"
  },
  {
   "cell_type": "markdown",
   "source": [
    "### IQR Method (alpha = 1.5, standard outlier formula)"
   ],
   "metadata": {
    "collapsed": false
   },
   "id": "3ab2dd5968448b6e"
  },
  {
   "cell_type": "code",
   "execution_count": 111,
   "outputs": [
    {
     "name": "stdout",
     "output_type": "stream",
     "text": [
      "\"Bombed\" events by school: {'Adlai E. Stevenson High School Gold': ['Flight'], 'Adlai E. Stevenson High School Green': ['Trajectory'], 'Archbishop Hoban High School Blue': [], 'Archbishop Hoban High School Gold': [], 'Athens Area High School ': [], 'Beachwood High School Gold': ['Write It Do It'], 'Beachwood High School White': [], 'Boyceville High School JV': [], 'Boyceville High School Varsity': [], 'Brecksville-Broadview Heights High School ': ['Detector Building', 'Environmental Chemistry', 'Scrambler', 'Trajectory'], 'Canal Winchester High School ': [], 'Centerville High School Black': ['Write It Do It'], 'Centerville High School Gold': ['Write It Do It'], 'Centerville High School White': [], 'Chardon High School ': [], 'Cleveland Heights High School ': [], 'Columbus Academy ': [], 'Cumberland Valley High School X': ['Write It Do It'], 'Cumberland Valley High School Y': [], 'duPont Manual High School Red': ['Fermi Questions'], 'duPont Manual High School White': ['Forensics'], 'Granville High School ': [], 'Hawken School ': [], 'Hudson High School Blue': ['Astronomy'], 'Hudson High School White': ['Trajectory'], 'International Academy Central ': [], 'International Academy Central JV': [], 'Kenston High School Blue': [], 'Kenston High School Bombers': ['Scrambler'], 'Kenston High School White': [], 'Mason High School Green': ['Flight'], 'Mason High School White': ['Chemistry Lab'], 'Mayfield High School Green': ['Bridge'], 'Mayfield High School White': [], 'Medina High School ': [], 'Mentor High School Gray': [], 'Mentor High School Red': [], 'New Albany High School JV': [], 'New Albany High School Varsity': ['Forensics', 'Write It Do It'], 'New Trier High School Bass Fishing': ['Bridge'], 'New Trier High School Bowling': [], 'New Trier High School E-sports': [], 'Northmont High School Thunder': [], 'Northville High School ': [], 'Olentangy Orange High School A': [], 'Olentangy Orange High School B': ['WiFi Lab'], 'Olentangy Orange High School C': [], 'Orange High School ': [], 'Pioneer High School ': ['Bridge', 'Flight'], 'Saint Ignatius High School Blue': [], 'Saint Ignatius High School Gold': [], 'Saline High School Blue': [], 'Saline High School Gold': [], 'St. Edward High School ': [], 'Stow-Munroe Falls High School ': [], 'Thomas Worthington High School ': [], 'Westlake High School White': [], 'Westlake High School Green': [], 'Whitney M. Young Magnet High School A': [], 'Whitney M. Young Magnet High School B': [], 'Worthington Kilbourne High School ': [], 'Fairview High School ': [], 'Solon High School A': ['Bridge', 'Cell Biology'], 'Solon High School B': [], 'Solon High School C': [], 'Solon High School D': []} \n",
      "\n",
      "Average \"bombed events\":  0.3880597014925373\n"
     ]
    }
   ],
   "source": [
    "bombed_events = {t: [] for t in teams}\n",
    "\n",
    "def iqr(alpha: int = 1.5):\n",
    "    for placement in data.get('Placings'):\n",
    "        q1 = np.quantile(full_scores[teams[placement['team']-1]], 0.25)\n",
    "        q3 = np.quantile(full_scores[teams[placement['team']-1]], 0.75)\n",
    "        if placement.get('place', len(teams)) > ((q3 - q1) * alpha + q3) and not placement['event'] in trial_events:\n",
    "            bombed_events[teams[placement['team']-1]].append(placement['event'])\n",
    "            \n",
    "    print(\"\\\"Bombed\\\" events by school:\", bombed_events, \"\\n\")\n",
    "    print(\"Average \\\"bombed events\\\": \", sum([len(bombed_events[t]) for t in bombed_events])/len(teams))\n",
    "    \n",
    "iqr()"
   ],
   "metadata": {
    "collapsed": false,
    "ExecuteTime": {
     "end_time": "2023-12-04T06:16:07.693216600Z",
     "start_time": "2023-12-04T06:16:07.321258700Z"
    }
   },
   "id": "6cc22dd35bd4041b"
  },
  {
   "cell_type": "code",
   "execution_count": 112,
   "outputs": [
    {
     "name": "stdout",
     "output_type": "stream",
     "text": [
      "\"Bombed\" events by school: {'Adlai E. Stevenson High School Gold': ['Experimental Design', 'Flight'], 'Adlai E. Stevenson High School Green': ['Scrambler', 'Trajectory', 'Write It Do It'], 'Archbishop Hoban High School Blue': [], 'Archbishop Hoban High School Gold': [], 'Athens Area High School ': [], 'Beachwood High School Gold': ['Flight', 'Write It Do It'], 'Beachwood High School White': [], 'Boyceville High School JV': ['Environmental Chemistry'], 'Boyceville High School Varsity': [], 'Brecksville-Broadview Heights High School ': ['Detector Building', 'Environmental Chemistry', 'Scrambler', 'Trajectory'], 'Canal Winchester High School ': ['Detector Building', 'Environmental Chemistry', 'Forensics'], 'Centerville High School Black': ['Write It Do It'], 'Centerville High School Gold': ['Remote Sensing', 'Write It Do It'], 'Centerville High School White': ['Astronomy', 'Trajectory'], 'Chardon High School ': ['Codebusters'], 'Cleveland Heights High School ': [], 'Columbus Academy ': [], 'Cumberland Valley High School X': ['Write It Do It'], 'Cumberland Valley High School Y': ['Forensics', 'Remote Sensing', 'Trajectory'], 'duPont Manual High School Red': ['Fermi Questions', 'Forestry'], 'duPont Manual High School White': ['Forensics'], 'Granville High School ': [], 'Hawken School ': ['Codebusters', 'Flight'], 'Hudson High School Blue': ['Astronomy', 'Rocks and Minerals'], 'Hudson High School White': ['Trajectory'], 'International Academy Central ': ['Remote Sensing'], 'International Academy Central JV': [], 'Kenston High School Blue': ['Trajectory'], 'Kenston High School Bombers': ['Scrambler'], 'Kenston High School White': [], 'Mason High School Green': ['Experimental Design', 'Flight'], 'Mason High School White': ['Chemistry Lab', 'Experimental Design', 'Flight'], 'Mayfield High School Green': ['Astronomy', 'Bridge', 'Detector Building'], 'Mayfield High School White': ['Chemistry Lab', 'Scrambler', 'Trajectory'], 'Medina High School ': [], 'Mentor High School Gray': ['Anatomy and Physiology', 'Bridge'], 'Mentor High School Red': [], 'New Albany High School JV': ['Detector Building'], 'New Albany High School Varsity': ['Forensics', 'Write It Do It'], 'New Trier High School Bass Fishing': ['Bridge'], 'New Trier High School Bowling': [\"It's About Time\"], 'New Trier High School E-sports': [], 'Northmont High School Thunder': [], 'Northville High School ': [], 'Olentangy Orange High School A': ['Anatomy and Physiology', 'Cell Biology'], 'Olentangy Orange High School B': ['WiFi Lab'], 'Olentangy Orange High School C': ['Detector Building', 'Environmental Chemistry', \"It's About Time\", 'Trajectory', 'WiFi Lab'], 'Orange High School ': [], 'Pioneer High School ': ['Bridge', 'Flight'], 'Saint Ignatius High School Blue': ['Astronomy', 'Detector Building', 'Flight', 'Green Generation'], 'Saint Ignatius High School Gold': [], 'Saline High School Blue': [], 'Saline High School Gold': [], 'St. Edward High School ': [], 'Stow-Munroe Falls High School ': ['Anatomy and Physiology', 'Bridge'], 'Thomas Worthington High School ': ['Flight', 'Forensics', 'Scrambler'], 'Westlake High School White': ['Environmental Chemistry', \"It's About Time\"], 'Westlake High School Green': ['Flight', 'Write It Do It'], 'Whitney M. Young Magnet High School A': [], 'Whitney M. Young Magnet High School B': [], 'Worthington Kilbourne High School ': [], 'Fairview High School ': [], 'Solon High School A': ['Bridge', 'Cell Biology'], 'Solon High School B': ['Detector Building', 'Fermi Questions'], 'Solon High School C': ['Codebusters', 'Rocks and Minerals'], 'Solon High School D': []} \n",
      "\n",
      "Average \"bombed events\":  1.2388059701492538\n"
     ]
    }
   ],
   "source": [
    "bombed_events = {t: [] for t in teams}\n",
    "\n",
    "def std_deviation(alpha: int = 1.5):\n",
    "    for placement in data.get('Placings'):\n",
    "        mean = np.mean(full_scores[teams[placement['team']-1]])\n",
    "        std = np.std(full_scores[teams[placement['team']-1]])\n",
    "        if placement.get('place', len(teams)) > (mean + alpha * std) and not placement['event'] in trial_events:\n",
    "            bombed_events[teams[placement['team']-1]].append(placement['event'])\n",
    "            \n",
    "    print(\"\\\"Bombed\\\" events by school:\", bombed_events, \"\\n\")\n",
    "    print(\"Average \\\"bombed events\\\": \", sum([len(bombed_events[t]) for t in bombed_events])/len(teams))\n",
    "    \n",
    "std_deviation()"
   ],
   "metadata": {
    "collapsed": false,
    "ExecuteTime": {
     "end_time": "2023-12-04T06:16:07.793696200Z",
     "start_time": "2023-12-04T06:16:07.682355600Z"
    }
   },
   "id": "7547b3b58c508cee"
  },
  {
   "cell_type": "markdown",
   "source": [
    "## Consistent Flaws\n",
    "All of these methods are too sensitive to \"top\" teams while do not account nearly as well for lower ranked teams. A possible solution would be a scalar multiplier based on the team's rank. This would have a greater account for bombs even when the mean/median place on a team is lower. "
   ],
   "metadata": {
    "collapsed": false
   },
   "id": "4dd2768f4c1749a2"
  },
  {
   "cell_type": "markdown",
   "source": [
    "# Recalculating scores with auto drop \"bombed\" events\n"
   ],
   "metadata": {
    "collapsed": false
   },
   "id": "dc791eecd885c4dd"
  },
  {
   "cell_type": "code",
   "execution_count": 113,
   "outputs": [
    {
     "name": "stdout",
     "output_type": "stream",
     "text": [
      "\"Bombed\" events by school: {'Adlai E. Stevenson High School Gold': ['Flight'], 'Adlai E. Stevenson High School Green': ['Trajectory'], 'Archbishop Hoban High School Blue': [], 'Archbishop Hoban High School Gold': [], 'Athens Area High School ': [], 'Beachwood High School Gold': ['Write It Do It'], 'Beachwood High School White': [], 'Boyceville High School JV': [], 'Boyceville High School Varsity': [], 'Brecksville-Broadview Heights High School ': [], 'Canal Winchester High School ': [], 'Centerville High School Black': ['Write It Do It'], 'Centerville High School Gold': ['Write It Do It'], 'Centerville High School White': [], 'Chardon High School ': ['Codebusters'], 'Cleveland Heights High School ': [], 'Columbus Academy ': [], 'Cumberland Valley High School X': ['Write It Do It'], 'Cumberland Valley High School Y': ['Remote Sensing'], 'duPont Manual High School Red': ['Fermi Questions', 'Forestry'], 'duPont Manual High School White': ['Forensics'], 'Granville High School ': [], 'Hawken School ': [], 'Hudson High School Blue': ['Astronomy'], 'Hudson High School White': ['Trajectory'], 'International Academy Central ': [], 'International Academy Central JV': [], 'Kenston High School Blue': ['Trajectory'], 'Kenston High School Bombers': ['Scrambler'], 'Kenston High School White': [], 'Mason High School Green': ['Flight'], 'Mason High School White': ['Chemistry Lab', 'Experimental Design'], 'Mayfield High School Green': ['Astronomy', 'Bridge', 'Detector Building'], 'Mayfield High School White': ['Chemistry Lab', 'Scrambler', 'Trajectory'], 'Medina High School ': [], 'Mentor High School Gray': [], 'Mentor High School Red': [], 'New Albany High School JV': ['Detector Building'], 'New Albany High School Varsity': ['Forensics', 'Write It Do It'], 'New Trier High School Bass Fishing': ['Bridge'], 'New Trier High School Bowling': [], 'New Trier High School E-sports': [], 'Northmont High School Thunder': [], 'Northville High School ': [], 'Olentangy Orange High School A': [], 'Olentangy Orange High School B': ['WiFi Lab'], 'Olentangy Orange High School C': [], 'Orange High School ': [], 'Pioneer High School ': ['Bridge', 'Flight'], 'Saint Ignatius High School Blue': [], 'Saint Ignatius High School Gold': [], 'Saline High School Blue': [], 'Saline High School Gold': [], 'St. Edward High School ': [], 'Stow-Munroe Falls High School ': [], 'Thomas Worthington High School ': [], 'Westlake High School White': ['Environmental Chemistry', \"It's About Time\"], 'Westlake High School Green': ['Flight', 'Write It Do It'], 'Whitney M. Young Magnet High School A': [], 'Whitney M. Young Magnet High School B': [], 'Worthington Kilbourne High School ': [], 'Fairview High School ': [], 'Solon High School A': ['Bridge', 'Cell Biology'], 'Solon High School B': ['Detector Building'], 'Solon High School C': ['Codebusters'], 'Solon High School D': []} \n",
      "\n",
      "Average \"bombed events\":  0.582089552238806\n"
     ]
    }
   ],
   "source": [
    "method: typing.Callable = std_deviation\n",
    "\n",
    "# run method\n",
    "bombed_events = {t: [] for t in teams} # clear map\n",
    "\n",
    "alpha = 2\n",
    "method(alpha)\n",
    "\n",
    "score_copy = full_scores.copy()\n",
    "drops = round(sum([len(bombed_events[t]) for t in bombed_events])/len(teams))\n",
    "\n",
    "for _ in range(drops):\n",
    "    for team in score_copy:\n",
    "        score_copy[team].remove(max(score_copy[team]))\n"
   ],
   "metadata": {
    "collapsed": false,
    "ExecuteTime": {
     "end_time": "2023-12-04T06:16:07.889520100Z",
     "start_time": "2023-12-04T06:16:07.793696200Z"
    }
   },
   "id": "60ee2ba6a57560cc"
  },
  {
   "cell_type": "markdown",
   "source": [
    "## Recalculate Ranking"
   ],
   "metadata": {
    "collapsed": false
   },
   "id": "32488e302035d11c"
  },
  {
   "cell_type": "code",
   "execution_count": 114,
   "outputs": [
    {
     "name": "stdout",
     "output_type": "stream",
     "text": [
      "{'Solon High School A': 107, 'Adlai E. Stevenson High School Gold': 148, 'New Trier High School Bass Fishing': 197, 'Cumberland Valley High School X': 209, 'Mason High School Green': 221, 'duPont Manual High School Red': 243, 'Centerville High School Black': 264, 'Mason High School White': 274, 'Pioneer High School ': 313, 'Solon High School B': 319, 'Adlai E. Stevenson High School Green': 321, 'New Albany High School Varsity': 333, 'Cumberland Valley High School Y': 366, 'Beachwood High School Gold': 399, 'Mayfield High School Green': 415, 'Saline High School Blue': 425, 'Westlake High School Green': 443, 'duPont Manual High School White': 493, 'Mentor High School Gray': 494, 'Solon High School C': 498, 'Centerville High School Gold': 499, 'Kenston High School Blue': 516, 'Centerville High School White': 519, 'Hudson High School Blue': 523, 'New Trier High School Bowling': 524, 'International Academy Central ': 580, 'Kenston High School Bombers': 589, 'Chardon High School ': 591, 'Olentangy Orange High School A': 637, 'Hawken School ': 639, 'Saint Ignatius High School Blue': 691, 'St. Edward High School ': 701, 'New Albany High School JV': 702, 'Mentor High School Red': 703, 'Northmont High School Thunder': 706, 'Boyceville High School JV': 731, 'Westlake High School White': 764, 'Solon High School D': 789, 'Hudson High School White': 810, 'Medina High School ': 826, 'Thomas Worthington High School ': 829, 'Mayfield High School White': 846, 'Olentangy Orange High School B': 847, 'Archbishop Hoban High School Blue': 870, 'International Academy Central JV': 894, 'Canal Winchester High School ': 938, 'Brecksville-Broadview Heights High School ': 951, 'Stow-Munroe Falls High School ': 965, 'Granville High School ': 989, 'Olentangy Orange High School C': 1027, 'Saline High School Gold': 1044, 'Fairview High School ': 1059, 'Beachwood High School White': 1089, 'Worthington Kilbourne High School ': 1164, 'Boyceville High School Varsity': 1174, 'Cleveland Heights High School ': 1220, 'Saint Ignatius High School Gold': 1246, 'Columbus Academy ': 1297, 'Orange High School ': 1376, 'New Trier High School E-sports': 1401, 'Kenston High School White': 1449, 'Archbishop Hoban High School Gold': 1457, 'Northville High School ': 1474, 'Whitney M. Young Magnet High School A': 1474, 'Whitney M. Young Magnet High School B': 1474, 'Athens Area High School ': 3015}\n"
     ]
    }
   ],
   "source": [
    "score_with_drops = {t: sum(score_copy[t]) for t in score_copy}\n",
    "\n",
    "print(dict(sorted(score_with_drops.items(), key=lambda item: item[1])))"
   ],
   "metadata": {
    "collapsed": false,
    "ExecuteTime": {
     "end_time": "2023-12-04T06:16:07.944390500Z",
     "start_time": "2023-12-04T06:16:07.890755500Z"
    }
   },
   "id": "ae14a71920de410a"
  },
  {
   "cell_type": "code",
   "execution_count": 114,
   "outputs": [],
   "source": [],
   "metadata": {
    "collapsed": false,
    "ExecuteTime": {
     "end_time": "2023-12-04T06:16:07.959140100Z",
     "start_time": "2023-12-04T06:16:07.907198300Z"
    }
   },
   "id": "bd80c3c19aa175bc"
  },
  {
   "cell_type": "code",
   "execution_count": 114,
   "outputs": [],
   "source": [],
   "metadata": {
    "collapsed": false,
    "ExecuteTime": {
     "end_time": "2023-12-04T06:16:07.961738900Z",
     "start_time": "2023-12-04T06:16:07.920294300Z"
    }
   },
   "id": "9b4c526bc50de713"
  }
 ],
 "metadata": {
  "kernelspec": {
   "display_name": "Python 3 (ipykernel)",
   "language": "python",
   "name": "python3"
  },
  "language_info": {
   "codemirror_mode": {
    "name": "ipython",
    "version": 3
   },
   "file_extension": ".py",
   "mimetype": "text/x-python",
   "name": "python",
   "nbconvert_exporter": "python",
   "pygments_lexer": "ipython3",
   "version": "3.9.13"
  }
 },
 "nbformat": 4,
 "nbformat_minor": 5
}
