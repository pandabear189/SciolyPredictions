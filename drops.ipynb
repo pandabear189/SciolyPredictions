{
 "cells": [
  {
   "cell_type": "markdown",
   "id": "8c14d85bfc3cfff8",
   "metadata": {
    "collapsed": false
   },
   "source": [
    "# Setup/Imports"
   ]
  },
  {
   "cell_type": "code",
   "execution_count": 129,
   "id": "35c184f9ceb9fffe",
   "metadata": {
    "collapsed": false,
    "ExecuteTime": {
     "end_time": "2023-12-05T01:55:59.915642200Z",
     "start_time": "2023-12-05T01:55:59.456470200Z"
    }
   },
   "outputs": [],
   "source": [
    "from __future__ import annotations\n",
    "\n",
    "import typing\n",
    "\n",
    "import yaml\n",
    "import numpy as np\n",
    "\n",
    "import utils\n",
    "\n",
    "with open(\"data/2019-02-02_solon_invitational_c.yaml\", 'r') as file:\n",
    "    data = yaml.safe_load(file)\n"
   ]
  },
  {
   "cell_type": "markdown",
   "id": "3dced3407f6b6df5",
   "metadata": {
    "collapsed": false
   },
   "source": [
    "## Event Scoring"
   ]
  },
  {
   "cell_type": "code",
   "execution_count": 130,
   "id": "a73b82c384b424da",
   "metadata": {
    "collapsed": false,
    "ExecuteTime": {
     "end_time": "2023-12-05T01:55:59.927697Z",
     "start_time": "2023-12-05T01:55:59.917223400Z"
    }
   },
   "outputs": [],
   "source": [
    "# Team List in order index of team number - 1 (0-indexed)\n",
    "team_list: list[dict[str, str | int]] = sorted(data.get(\"Teams\"), key=lambda x: x['number'])  \n",
    "teams: dict[int, str] = {team['number']: (team['school'] + \" \" + team.get('suffix', \"\")) for team in team_list} # team number : team name\n",
    "\n",
    "# Event Order (0-indexed)\n",
    "events = [event['name'] for event in data.get('Events')]\n"
   ]
  },
  {
   "cell_type": "code",
   "execution_count": 131,
   "id": "f3129f09b1a92b8c",
   "metadata": {
    "collapsed": false,
    "ExecuteTime": {
     "end_time": "2023-12-05T01:55:59.953698600Z",
     "start_time": "2023-12-05T01:55:59.933787300Z"
    }
   },
   "outputs": [],
   "source": [
    "trial_events = [d['name'] for d in data.get('Events') if d.get('trial', False)]\n",
    "total_scores: dict[str, int] = {t: 0 for t in teams} # team number : total score (sum) \n",
    "full_scores: dict[str, list[int]] = {t: [] for t in teams} # full array of scores for each team\n",
    "\n",
    "for placement in data.get('Placings'):\n",
    "    total_scores[placement['team']] += placement.get('place', len(teams)) if not placement['event'] in trial_events else 0\n",
    "    full_scores[placement['team']].append(placement.get('place', len(teams))) if not placement['event'] in trial_events else 0\n",
    "    \n",
    "# print(total_scores)\n",
    "# print(full_scores)\n"
   ]
  },
  {
   "cell_type": "markdown",
   "source": [
    "## Average Score Per School"
   ],
   "metadata": {
    "collapsed": false
   },
   "id": "686fbc16fd1d60d9"
  },
  {
   "cell_type": "code",
   "execution_count": 132,
   "outputs": [
    {
     "name": "stdout",
     "output_type": "stream",
     "text": [
      "{'Solon High School ': 7.434782608695652, 'New Trier High School A': 8.434782608695652, 'Adlai E. Stevenson High School A': 9.826086956521738, 'Adlai E. Stevenson High School B': 9.91304347826087, 'Mason High School A': 10.0, 'Mason High School B': 10.217391304347826, 'Bayard Rustin High School A': 11.565217391304348, 'Northville High School B': 12.26086956521739, 'Mentor High School A': 15.91304347826087, 'Mentor High School B': 15.956521739130435, 'International Academy Central A': 16.608695652173914, 'Shady Side Academy Senior School A': 17.0, 'Beachwood High School A': 17.130434782608695, 'duPont Manual High School A': 17.304347826086957, 'Mayfield High School A': 20.82608695652174, 'New Trier High School B': 21.217391304347824, 'Hudson High School A': 21.695652173913043, 'St. Ignatius High School A': 22.17391304347826, 'Northville High School A': 23.0, 'Westlake High School A': 26.0, 'Solon High School Trial A': 26.434782608695652, 'duPont Manual High School B': 27.608695652173914, 'Beachwood High School B': 27.869565217391305, 'Boyceville High School A': 28.043478260869566, 'St. Edward High School A': 28.52173913043478, 'Olentangy Liberty High School A': 28.565217391304348, 'Brecksville-Broadview Heights High School ': 30.217391304347824, 'Medina High School ': 31.26086956521739, 'Solon High School Trial B': 31.434782608695652, 'Revere High School A': 32.0, 'Mayfield High School B': 33.0, 'Olentangy High School A': 33.73913043478261, 'St. Xavier High School ': 34.08695652173913, 'Bayard Rustin High School B': 35.608695652173914, 'International Academy Central B': 35.78260869565217, 'Kenston High School ': 37.69565217391305, 'Olentangy Liberty High School B': 37.73913043478261, 'Chardon High School A': 38.21739130434783, 'Nordonia High School A': 38.65217391304348, 'Chardon High School B': 40.04347826086956, 'Stow-Munroe Falls High School ': 40.08695652173913, 'Westlake High School B': 41.78260869565217, 'Hudson High School B': 41.95652173913044, 'Archbishop Hoban High School A': 42.130434782608695, 'Rocky River High School ': 43.56521739130435, 'North Royalton High School ': 44.78260869565217, 'Olentangy High School B': 44.78260869565217, 'Shady Side Academy Senior School B': 44.869565217391305, 'Seneca High School A': 45.21739130434783, 'Revere High School B': 45.43478260869565, 'Aurora High School ': 48.391304347826086, 'Chagrin Falls High School A': 48.608695652173914, 'Worthington Kilbourne High School A': 48.95652173913044, 'Avon Lake High School ': 49.08695652173913, 'Bio-Med Science Academy ': 49.08695652173913, 'Thomas Worthington High School A': 49.52173913043478, 'Notre Dame-Cathedral Latin School ': 50.0, 'Boyceville High School B': 52.56521739130435, 'St. Edward High School B': 53.21739130434783, 'Archbishop Hoban High School B': 54.95652173913044, 'Charles F. Brush High School ': 58.04347826086956, 'Thomas Worthington High School B': 58.391304347826086, 'Shaker Heights High School ': 61.82608695652174, 'St. Ignatius High School B': 63.69565217391305, 'Horizon Science Academy Cleveland High School ': 64.30434782608695, 'Olentangy High School C': 64.95652173913044, 'Seneca High School B': 67.73913043478261, 'Chagrin Falls High School B': 70.1304347826087, 'Nordonia High School B': 71.17391304347827, 'Columbus Academy ': 72.0, 'Monroe Central High School ': 72.0, 'Worthington Kilbourne High School B': 72.0}\n"
     ]
    }
   ],
   "source": [
    "averages = {t: total_scores[t]/(len(data.get('Events'))-len(trial_events)) for t in teams}\n",
    "print(utils.pretty_print(teams, dict(sorted(averages.items(), key=lambda item: item[1]))))"
   ],
   "metadata": {
    "collapsed": false,
    "ExecuteTime": {
     "end_time": "2023-12-05T01:55:59.968712700Z",
     "start_time": "2023-12-05T01:55:59.945625500Z"
    }
   },
   "id": "bfe574e306c4d738"
  },
  {
   "cell_type": "markdown",
   "source": [
    "# Distinguishing \"Bombed\" Events\n",
    "### Using the following methods to determine \"bombed\" events:\n",
    "##### These values become the upper fence for the data\n",
    "- $\\alpha \\times \\overline{X} $\n",
    "- $\\alpha \\times (Q_3 - Q_1) + Q_3$ &nbsp; (IQR)\n",
    "- $\\alpha \\times \\sigma + \\overline{X} $&nbsp;&nbsp;&nbsp; (Standard Deviation)\n",
    "\n",
    "where $\\alpha$ is a multiplicative constant\n"
   ],
   "metadata": {
    "collapsed": false
   },
   "id": "e03e01c80a6d3cb7"
  },
  {
   "cell_type": "markdown",
   "source": [
    "### Mean Method (alpha = 2)"
   ],
   "metadata": {
    "collapsed": false
   },
   "id": "8ae06a38b271b960"
  },
  {
   "cell_type": "code",
   "execution_count": 133,
   "outputs": [
    {
     "name": "stdout",
     "output_type": "stream",
     "text": [
      "\"Bombed\" events by school: {'Adlai E. Stevenson High School A': ['Fermi Questions', 'Mission Possible', 'Wright Stuff'], 'Adlai E. Stevenson High School B': ['Herpetology', 'Wright Stuff', 'Write It Do It'], 'Archbishop Hoban High School A': [], 'Archbishop Hoban High School B': [], 'Aurora High School ': [], 'Avon Lake High School ': [], 'Bayard Rustin High School A': ['Designer Genes'], 'Bayard Rustin High School B': [], 'Beachwood High School A': ['Anatomy and Physiology', 'Geologic Mapping', 'Mission Possible', 'Wright Stuff'], 'Beachwood High School B': ['Fermi Questions'], 'Bio-Med Science Academy ': [], 'Boyceville High School A': [], 'Boyceville High School B': [], 'Brecksville-Broadview Heights High School ': [], 'Charles F. Brush High School ': [], 'Chagrin Falls High School A': [], 'Chagrin Falls High School B': [], 'Chardon High School A': [], 'Chardon High School B': [], 'Columbus Academy ': [], 'duPont Manual High School A': ['Mousetrap Vehicle'], 'duPont Manual High School B': [], 'Horizon Science Academy Cleveland High School ': [], 'Hudson High School A': ['Geologic Mapping', 'Write It Do It'], 'Hudson High School B': [], 'International Academy Central A': [], 'International Academy Central B': ['Circuit Lab'], 'Kenston High School ': [], 'Mason High School A': ['Mousetrap Vehicle', 'Wright Stuff', 'Write It Do It'], 'Mason High School B': ['Fermi Questions', 'Mission Possible', 'Mousetrap Vehicle'], 'Mayfield High School A': [], 'Mayfield High School B': [], 'Medina High School ': ['Write It Do It'], 'Mentor High School A': ['Designer Genes', 'Write It Do It'], 'Mentor High School B': ['Fermi Questions'], 'Monroe Central High School ': [], 'New Trier High School A': ['Mousetrap Vehicle', 'Wright Stuff', 'Write It Do It'], 'New Trier High School B': ['Thermodynamics'], 'Nordonia High School A': [], 'Nordonia High School B': [], 'Northville High School A': ['Circuit Lab', 'Designer Genes'], 'Northville High School B': ['Fermi Questions', 'Sounds of Music', 'Write It Do It'], 'North Royalton High School ': [], 'Notre Dame-Cathedral Latin School ': [], 'Olentangy High School A': [], 'Olentangy High School B': [], 'Olentangy High School C': [], 'Olentangy Liberty High School A': [], 'Olentangy Liberty High School B': [], 'Revere High School A': ['Mission Possible'], 'Revere High School B': [], 'Rocky River High School ': [], 'Seneca High School A': [], 'Seneca High School B': [], 'Shady Side Academy Senior School A': ['Fermi Questions', 'Write It Do It'], 'Shady Side Academy Senior School B': [], 'Shaker Heights High School ': [], 'St. Edward High School A': [], 'St. Edward High School B': [], 'St. Ignatius High School A': ['Designer Genes', 'Disease Detectives'], 'St. Ignatius High School B': [], 'St. Xavier High School ': [], 'Stow-Munroe Falls High School ': [], 'Thomas Worthington High School A': [], 'Thomas Worthington High School B': [], 'Westlake High School A': ['Boomilever', 'Protein Modeling'], 'Westlake High School B': [], 'Worthington Kilbourne High School A': [], 'Worthington Kilbourne High School B': [], 'Solon High School ': ['Codebusters', 'Water Quality'], 'Solon High School Trial A': ['Anatomy and Physiology', 'Fermi Questions'], 'Solon High School Trial B': ['Protein Modeling']} \n",
      "\n",
      "Average \"bombed events\":  0.6527777777777778\n"
     ]
    }
   ],
   "source": [
    "bombed_events = {t: [] for t in teams}\n",
    "\n",
    "def mean(alpha: int = 2):\n",
    "    for placement in data.get('Placings'):\n",
    "        if placement.get('place', len(teams)) > averages[placement['team']] * alpha and not placement['event'] in trial_events:\n",
    "            bombed_events[placement['team']].append(placement['event'])\n",
    "            \n",
    "    print(\"\\\"Bombed\\\" events by school:\", utils.pretty_print(teams, bombed_events), \"\\n\")\n",
    "    print(\"Average \\\"bombed events\\\": \", sum([len(bombed_events[t]) for t in bombed_events])/len(teams))\n",
    "\n",
    "mean()"
   ],
   "metadata": {
    "collapsed": false,
    "ExecuteTime": {
     "end_time": "2023-12-05T01:55:59.982955Z",
     "start_time": "2023-12-05T01:55:59.961783200Z"
    }
   },
   "id": "834164a368868bc1"
  },
  {
   "cell_type": "markdown",
   "source": [
    "### IQR Method (alpha = 1.5, standard outlier formula)"
   ],
   "metadata": {
    "collapsed": false
   },
   "id": "3ab2dd5968448b6e"
  },
  {
   "cell_type": "code",
   "execution_count": 134,
   "outputs": [
    {
     "name": "stdout",
     "output_type": "stream",
     "text": [
      "\"Bombed\" events by school: {'Adlai E. Stevenson High School A': ['Mission Possible', 'Wright Stuff'], 'Adlai E. Stevenson High School B': ['Write It Do It'], 'Archbishop Hoban High School A': [], 'Archbishop Hoban High School B': [], 'Aurora High School ': [], 'Avon Lake High School ': [], 'Bayard Rustin High School A': [], 'Bayard Rustin High School B': [], 'Beachwood High School A': ['Geologic Mapping'], 'Beachwood High School B': ['Fermi Questions'], 'Bio-Med Science Academy ': [], 'Boyceville High School A': [], 'Boyceville High School B': [], 'Brecksville-Broadview Heights High School ': [], 'Charles F. Brush High School ': [], 'Chagrin Falls High School A': [], 'Chagrin Falls High School B': [], 'Chardon High School A': [], 'Chardon High School B': [], 'Columbus Academy ': [], 'duPont Manual High School A': ['Mousetrap Vehicle'], 'duPont Manual High School B': [], 'Horizon Science Academy Cleveland High School ': [], 'Hudson High School A': [], 'Hudson High School B': [], 'International Academy Central A': [], 'International Academy Central B': [], 'Kenston High School ': [], 'Mason High School A': ['Mousetrap Vehicle'], 'Mason High School B': ['Mousetrap Vehicle'], 'Mayfield High School A': [], 'Mayfield High School B': [], 'Medina High School ': [], 'Mentor High School A': [], 'Mentor High School B': ['Fermi Questions'], 'Monroe Central High School ': [], 'New Trier High School A': ['Mousetrap Vehicle', 'Wright Stuff', 'Write It Do It'], 'New Trier High School B': [], 'Nordonia High School A': [], 'Nordonia High School B': [], 'Northville High School A': [], 'Northville High School B': ['Fermi Questions', 'Sounds of Music', 'Write It Do It'], 'North Royalton High School ': [], 'Notre Dame-Cathedral Latin School ': [], 'Olentangy High School A': [], 'Olentangy High School B': [], 'Olentangy High School C': [], 'Olentangy Liberty High School A': [], 'Olentangy Liberty High School B': [], 'Revere High School A': ['Mission Possible'], 'Revere High School B': [], 'Rocky River High School ': [], 'Seneca High School A': [], 'Seneca High School B': [], 'Shady Side Academy Senior School A': [], 'Shady Side Academy Senior School B': [], 'Shaker Heights High School ': [], 'St. Edward High School A': [], 'St. Edward High School B': [], 'St. Ignatius High School A': [], 'St. Ignatius High School B': [], 'St. Xavier High School ': [], 'Stow-Munroe Falls High School ': [], 'Thomas Worthington High School A': [], 'Thomas Worthington High School B': [], 'Westlake High School A': ['Boomilever'], 'Westlake High School B': [], 'Worthington Kilbourne High School A': [], 'Worthington Kilbourne High School B': [], 'Solon High School ': ['Codebusters'], 'Solon High School Trial A': [], 'Solon High School Trial B': []} \n",
      "\n",
      "Average \"bombed events\":  0.25\n"
     ]
    }
   ],
   "source": [
    "bombed_events = {t: [] for t in teams}\n",
    "\n",
    "def iqr(alpha: int = 1.5):\n",
    "    for placement in data.get('Placings'):\n",
    "        q1 = np.quantile(full_scores[placement['team']], 0.25)\n",
    "        q3 = np.quantile(full_scores[placement['team']], 0.75)\n",
    "        if placement.get('place', len(teams)) > ((q3 - q1) * alpha + q3) and not placement['event'] in trial_events:\n",
    "            bombed_events[placement['team']].append(placement['event'])\n",
    "            \n",
    "    print(\"\\\"Bombed\\\" events by school:\", utils.pretty_print(teams, bombed_events), \"\\n\")\n",
    "    print(\"Average \\\"bombed events\\\": \", sum([len(bombed_events[t]) for t in bombed_events])/len(teams))\n",
    "    \n",
    "iqr()"
   ],
   "metadata": {
    "collapsed": false,
    "ExecuteTime": {
     "end_time": "2023-12-05T01:56:00.209118300Z",
     "start_time": "2023-12-05T01:55:59.981814900Z"
    }
   },
   "id": "6cc22dd35bd4041b"
  },
  {
   "cell_type": "code",
   "execution_count": 135,
   "outputs": [
    {
     "name": "stdout",
     "output_type": "stream",
     "text": [
      "\"Bombed\" events by school: {'Adlai E. Stevenson High School A': ['Mission Possible', 'Wright Stuff'], 'Adlai E. Stevenson High School B': ['Wright Stuff', 'Write It Do It'], 'Archbishop Hoban High School A': ['Mousetrap Vehicle'], 'Archbishop Hoban High School B': [], 'Aurora High School ': [], 'Avon Lake High School ': [], 'Bayard Rustin High School A': ['Designer Genes'], 'Bayard Rustin High School B': [], 'Beachwood High School A': ['Anatomy and Physiology', 'Geologic Mapping', 'Mission Possible'], 'Beachwood High School B': ['Astronomy', 'Chemistry Lab', 'Fermi Questions'], 'Bio-Med Science Academy ': [], 'Boyceville High School A': ['Thermodynamics'], 'Boyceville High School B': [], 'Brecksville-Broadview Heights High School ': ['Circuit Lab', 'Designer Genes', 'Thermodynamics'], 'Charles F. Brush High School ': [], 'Chagrin Falls High School A': ['Experimental Design', 'Mission Possible', 'Wright Stuff'], 'Chagrin Falls High School B': [], 'Chardon High School A': ['Astronomy', 'Mousetrap Vehicle'], 'Chardon High School B': ['Geologic Mapping', 'Mission Possible', 'Sounds of Music'], 'Columbus Academy ': [], 'duPont Manual High School A': ['Mousetrap Vehicle'], 'duPont Manual High School B': ['Anatomy and Physiology', 'Experimental Design'], 'Horizon Science Academy Cleveland High School ': [], 'Hudson High School A': ['Geologic Mapping', 'Water Quality', 'Write It Do It'], 'Hudson High School B': ['Mousetrap Vehicle', 'Sounds of Music'], 'International Academy Central A': ['Designer Genes'], 'International Academy Central B': ['Circuit Lab'], 'Kenston High School ': ['Anatomy and Physiology'], 'Mason High School A': ['Mousetrap Vehicle', 'Write It Do It'], 'Mason High School B': ['Fermi Questions', 'Mousetrap Vehicle'], 'Mayfield High School A': ['Experimental Design'], 'Mayfield High School B': [], 'Medina High School ': ['Write It Do It'], 'Mentor High School A': ['Designer Genes', 'Write It Do It'], 'Mentor High School B': ['Codebusters', 'Fermi Questions'], 'Monroe Central High School ': [], 'New Trier High School A': ['Mousetrap Vehicle', 'Wright Stuff'], 'New Trier High School B': ['Protein Modeling', 'Thermodynamics'], 'Nordonia High School A': [], 'Nordonia High School B': [], 'Northville High School A': ['Circuit Lab', 'Designer Genes'], 'Northville High School B': ['Write It Do It'], 'North Royalton High School ': ['Boomilever', 'Wright Stuff'], 'Notre Dame-Cathedral Latin School ': [], 'Olentangy High School A': [], 'Olentangy High School B': ['Boomilever', 'Mousetrap Vehicle', 'Wright Stuff'], 'Olentangy High School C': [], 'Olentangy Liberty High School A': ['Boomilever', 'Sounds of Music'], 'Olentangy Liberty High School B': ['Forensics'], 'Revere High School A': ['Experimental Design', 'Mission Possible'], 'Revere High School B': [], 'Rocky River High School ': ['Mousetrap Vehicle'], 'Seneca High School A': ['Forensics'], 'Seneca High School B': [], 'Shady Side Academy Senior School A': ['Fermi Questions', 'Write It Do It'], 'Shady Side Academy Senior School B': ['Mission Possible', 'Mousetrap Vehicle', 'Sounds of Music', 'Wright Stuff'], 'Shaker Heights High School ': [], 'St. Edward High School A': ['Codebusters'], 'St. Edward High School B': [], 'St. Ignatius High School A': ['Designer Genes', 'Disease Detectives'], 'St. Ignatius High School B': [], 'St. Xavier High School ': ['Boomilever', 'Fossils'], 'Stow-Munroe Falls High School ': ['Dynamic Planet'], 'Thomas Worthington High School A': [], 'Thomas Worthington High School B': [], 'Westlake High School A': ['Boomilever', 'Protein Modeling', 'Wright Stuff'], 'Westlake High School B': ['Herpetology', 'Mousetrap Vehicle'], 'Worthington Kilbourne High School A': ['Boomilever', 'Mission Possible'], 'Worthington Kilbourne High School B': [], 'Solon High School ': ['Codebusters', 'Water Quality'], 'Solon High School Trial A': ['Anatomy and Physiology', 'Fermi Questions'], 'Solon High School Trial B': ['Fermi Questions', 'Protein Modeling', 'Write It Do It']} \n",
      "\n",
      "Average \"bombed events\":  1.25\n"
     ]
    }
   ],
   "source": [
    "bombed_events = {t: [] for t in teams}\n",
    "\n",
    "def std_deviation(alpha: int = 1.5):\n",
    "    for placement in data.get('Placings'):\n",
    "        mean = np.mean(full_scores[placement['team']])\n",
    "        std = np.std(full_scores[placement['team']])\n",
    "        if placement.get('place', len(teams)) > (mean + alpha * std) and not placement['event'] in trial_events:\n",
    "            bombed_events[placement['team']].append(placement['event'])\n",
    "            \n",
    "    print(\"\\\"Bombed\\\" events by school:\", utils.pretty_print(teams, bombed_events), \"\\n\")\n",
    "    print(\"Average \\\"bombed events\\\": \", sum([len(bombed_events[t]) for t in bombed_events])/len(teams))\n",
    "    \n",
    "std_deviation()"
   ],
   "metadata": {
    "collapsed": false,
    "ExecuteTime": {
     "end_time": "2023-12-05T01:56:00.274692200Z",
     "start_time": "2023-12-05T01:56:00.212109600Z"
    }
   },
   "id": "7547b3b58c508cee"
  },
  {
   "cell_type": "markdown",
   "source": [
    "## Consistent Flaws\n",
    "All of these methods are too sensitive to \"top\" teams while do not account nearly as well for lower ranked teams. A possible solution would be a scalar multiplier based on the team's rank. This would have a greater account for bombs even when the mean/median place on a team is lower. "
   ],
   "metadata": {
    "collapsed": false
   },
   "id": "4dd2768f4c1749a2"
  },
  {
   "cell_type": "markdown",
   "source": [
    "# Recalculating scores with auto drop \"bombed\" events\n"
   ],
   "metadata": {
    "collapsed": false
   },
   "id": "dc791eecd885c4dd"
  },
  {
   "cell_type": "code",
   "execution_count": 136,
   "outputs": [
    {
     "name": "stdout",
     "output_type": "stream",
     "text": [
      "\"Bombed\" events by school: {'Adlai E. Stevenson High School A': ['Fermi Questions', 'Mission Possible', 'Wright Stuff'], 'Adlai E. Stevenson High School B': ['Herpetology', 'Wright Stuff', 'Write It Do It'], 'Archbishop Hoban High School A': ['Astronomy', 'Mousetrap Vehicle', 'Water Quality'], 'Archbishop Hoban High School B': ['Disease Detectives', 'Geologic Mapping', 'Herpetology', 'Mission Possible', 'Mousetrap Vehicle', 'Protein Modeling', 'Thermodynamics', 'Wright Stuff'], 'Aurora High School ': ['Codebusters', 'Forensics', 'Mission Possible', 'Mousetrap Vehicle', 'Protein Modeling'], 'Avon Lake High School ': [], 'Bayard Rustin High School A': ['Chemistry Lab', 'Designer Genes', 'Experimental Design', 'Geologic Mapping'], 'Bayard Rustin High School B': ['Astronomy', 'Chemistry Lab', 'Designer Genes', 'Thermodynamics', 'Wright Stuff'], 'Beachwood High School A': ['Anatomy and Physiology', 'Geologic Mapping', 'Mission Possible', 'Wright Stuff'], 'Beachwood High School B': ['Astronomy', 'Chemistry Lab', 'Disease Detectives', 'Fermi Questions'], 'Bio-Med Science Academy ': ['Chemistry Lab', 'Experimental Design', 'Fossils', 'Geologic Mapping'], 'Boyceville High School A': ['Chemistry Lab', 'Designer Genes', 'Thermodynamics'], 'Boyceville High School B': [], 'Brecksville-Broadview Heights High School ': ['Boomilever', 'Circuit Lab', 'Designer Genes', 'Thermodynamics'], 'Charles F. Brush High School ': [], 'Chagrin Falls High School A': ['Experimental Design', 'Mission Possible', 'Wright Stuff'], 'Chagrin Falls High School B': [], 'Chardon High School A': ['Astronomy', 'Chemistry Lab', 'Mousetrap Vehicle', 'Water Quality'], 'Chardon High School B': ['Geologic Mapping', 'Herpetology', 'Mission Possible', 'Sounds of Music'], 'Columbus Academy ': [], 'duPont Manual High School A': ['Boomilever', 'Circuit Lab', 'Mousetrap Vehicle'], 'duPont Manual High School B': ['Anatomy and Physiology', 'Astronomy', 'Experimental Design', 'Forensics'], 'Horizon Science Academy Cleveland High School ': ['Astronomy', 'Chemistry Lab', 'Circuit Lab', 'Codebusters', 'Experimental Design', 'Mission Possible', 'Mousetrap Vehicle', 'Protein Modeling', 'Sounds of Music', 'Thermodynamics'], 'Hudson High School A': ['Geologic Mapping', 'Water Quality', 'Write It Do It'], 'Hudson High School B': ['Anatomy and Physiology', 'Mousetrap Vehicle', 'Sounds of Music', 'Thermodynamics'], 'International Academy Central A': ['Boomilever', 'Designer Genes', 'Fermi Questions', 'Thermodynamics', 'Wright Stuff'], 'International Academy Central B': ['Circuit Lab', 'Forensics', 'Sounds of Music', 'Water Quality'], 'Kenston High School ': ['Anatomy and Physiology', 'Astronomy', 'Circuit Lab', 'Designer Genes', 'Write It Do It'], 'Mason High School A': ['Mousetrap Vehicle', 'Wright Stuff', 'Write It Do It'], 'Mason High School B': ['Fermi Questions', 'Mission Possible', 'Mousetrap Vehicle'], 'Mayfield High School A': ['Boomilever', 'Dynamic Planet', 'Experimental Design', 'Fossils', 'Mousetrap Vehicle'], 'Mayfield High School B': ['Anatomy and Physiology', 'Boomilever', 'Chemistry Lab', 'Fossils', 'Herpetology'], 'Medina High School ': ['Dynamic Planet', 'Fermi Questions', 'Protein Modeling', 'Water Quality', 'Write It Do It'], 'Mentor High School A': ['Designer Genes', 'Write It Do It'], 'Mentor High School B': ['Codebusters', 'Fermi Questions'], 'Monroe Central High School ': [], 'New Trier High School A': ['Mousetrap Vehicle', 'Wright Stuff', 'Write It Do It'], 'New Trier High School B': ['Protein Modeling', 'Thermodynamics', 'Water Quality', 'Write It Do It'], 'Nordonia High School A': ['Fermi Questions', 'Write It Do It'], 'Nordonia High School B': [], 'Northville High School A': ['Anatomy and Physiology', 'Circuit Lab', 'Designer Genes', 'Forensics'], 'Northville High School B': ['Fermi Questions', 'Sounds of Music', 'Write It Do It'], 'North Royalton High School ': ['Boomilever', 'Wright Stuff'], 'Notre Dame-Cathedral Latin School ': ['Mission Possible', 'Mousetrap Vehicle', 'Sounds of Music'], 'Olentangy High School A': ['Circuit Lab', 'Designer Genes', 'Disease Detectives', 'Fermi Questions', 'Thermodynamics'], 'Olentangy High School B': ['Boomilever', 'Mousetrap Vehicle', 'Wright Stuff'], 'Olentangy High School C': [], 'Olentangy Liberty High School A': ['Boomilever', 'Herpetology', 'Sounds of Music', 'Water Quality'], 'Olentangy Liberty High School B': ['Boomilever', 'Forensics', 'Sounds of Music', 'Thermodynamics'], 'Revere High School A': ['Experimental Design', 'Mission Possible'], 'Revere High School B': ['Boomilever', 'Circuit Lab', 'Mission Possible', 'Mousetrap Vehicle', 'Sounds of Music'], 'Rocky River High School ': ['Astronomy', 'Dynamic Planet', 'Mousetrap Vehicle', 'Thermodynamics'], 'Seneca High School A': ['Codebusters', 'Forensics', 'Fossils'], 'Seneca High School B': [], 'Shady Side Academy Senior School A': ['Fermi Questions', 'Mission Possible', 'Write It Do It'], 'Shady Side Academy Senior School B': ['Mission Possible', 'Mousetrap Vehicle', 'Sounds of Music', 'Wright Stuff'], 'Shaker Heights High School ': [], 'St. Edward High School A': ['Codebusters', 'Fermi Questions', 'Sounds of Music', 'Water Quality'], 'St. Edward High School B': ['Chemistry Lab', 'Disease Detectives', 'Dynamic Planet', 'Mission Possible', 'Sounds of Music', 'Wright Stuff'], 'St. Ignatius High School A': ['Designer Genes', 'Disease Detectives', 'Fermi Questions', 'Sounds of Music'], 'St. Ignatius High School B': [], 'St. Xavier High School ': ['Boomilever', 'Experimental Design', 'Fossils', 'Geologic Mapping', 'Wright Stuff'], 'Stow-Munroe Falls High School ': ['Dynamic Planet', 'Experimental Design', 'Fermi Questions', 'Sounds of Music'], 'Thomas Worthington High School A': ['Boomilever', 'Mission Possible', 'Mousetrap Vehicle', 'Wright Stuff', 'Write It Do It'], 'Thomas Worthington High School B': [], 'Westlake High School A': ['Boomilever', 'Dynamic Planet', 'Protein Modeling', 'Wright Stuff'], 'Westlake High School B': ['Dynamic Planet', 'Herpetology', 'Mousetrap Vehicle'], 'Worthington Kilbourne High School A': ['Boomilever', 'Mission Possible'], 'Worthington Kilbourne High School B': [], 'Solon High School ': ['Codebusters', 'Water Quality', 'Wright Stuff'], 'Solon High School Trial A': ['Anatomy and Physiology', 'Codebusters', 'Disease Detectives', 'Fermi Questions'], 'Solon High School Trial B': ['Fermi Questions', 'Protein Modeling', 'Write It Do It']} \n",
      "\n",
      "Average \"bombed events\":  3.1805555555555554\n"
     ]
    }
   ],
   "source": [
    "method: typing.Callable = std_deviation\n",
    "\n",
    "# run method\n",
    "bombed_events = {t: [] for t in teams} # clear map\n",
    "\n",
    "alpha = 1\n",
    "method(alpha)\n",
    "\n",
    "score_copy = full_scores.copy()\n",
    "drops = round(sum([len(bombed_events[t]) for t in bombed_events])/len(teams))\n",
    "\n",
    "for _ in range(drops):\n",
    "    for team in score_copy:\n",
    "        score_copy[team].remove(max(score_copy[team]))\n"
   ],
   "metadata": {
    "collapsed": false,
    "ExecuteTime": {
     "end_time": "2023-12-05T01:56:00.334936900Z",
     "start_time": "2023-12-05T01:56:00.270705700Z"
    }
   },
   "id": "60ee2ba6a57560cc"
  },
  {
   "cell_type": "markdown",
   "source": [
    "## Recalculate Ranking"
   ],
   "metadata": {
    "collapsed": false
   },
   "id": "32488e302035d11c"
  },
  {
   "cell_type": "code",
   "execution_count": 137,
   "outputs": [
    {
     "name": "stdout",
     "output_type": "stream",
     "text": [
      "After dropping 3 events: \n",
      "\n",
      "{'Solon High School ': 112, 'New Trier High School A': 118, 'Adlai E. Stevenson High School B': 133, 'Mason High School A': 138, 'Mason High School B': 138, 'Adlai E. Stevenson High School A': 152, 'Northville High School B': 156, 'Bayard Rustin High School A': 200, 'Beachwood High School A': 258, 'Mentor High School A': 262, 'Mentor High School B': 264, 'Shady Side Academy Senior School A': 270, 'International Academy Central A': 302, 'duPont Manual High School A': 303, 'New Trier High School B': 364, 'Hudson High School A': 368, 'Mayfield High School A': 373, 'St. Ignatius High School A': 381, 'Northville High School A': 387, 'Westlake High School A': 438, 'Solon High School Trial A': 444, 'Beachwood High School B': 482, 'Boyceville High School A': 504, 'Olentangy Liberty High School A': 504, 'duPont Manual High School B': 507, 'St. Edward High School A': 514, 'Solon High School Trial B': 532, 'Brecksville-Broadview Heights High School ': 539, 'Medina High School ': 557, 'Revere High School A': 563, 'Mayfield High School B': 607, 'Olentangy High School A': 608, 'St. Xavier High School ': 625, 'International Academy Central B': 640, 'Bayard Rustin High School B': 651, 'Chardon High School A': 682, 'Kenston High School ': 689, 'Chardon High School B': 705, 'Nordonia High School A': 707, 'Olentangy Liberty High School B': 715, 'Stow-Munroe Falls High School ': 746, 'Hudson High School B': 759, 'Westlake High School B': 759, 'Archbishop Hoban High School A': 786, 'Rocky River High School ': 812, 'Olentangy High School B': 814, 'Shady Side Academy Senior School B': 816, 'North Royalton High School ': 827, 'Revere High School B': 829, 'Seneca High School A': 846, 'Aurora High School ': 897, 'Chagrin Falls High School A': 902, 'Avon Lake High School ': 913, 'Worthington Kilbourne High School A': 919, 'Thomas Worthington High School A': 923, 'Notre Dame-Cathedral Latin School ': 934, 'Bio-Med Science Academy ': 947, 'Boyceville High School B': 993, 'St. Edward High School B': 1008, 'Archbishop Hoban High School B': 1048, 'Charles F. Brush High School ': 1119, 'Thomas Worthington High School B': 1127, 'Shaker Heights High School ': 1206, 'St. Ignatius High School B': 1249, 'Horizon Science Academy Cleveland High School ': 1263, 'Olentangy High School C': 1278, 'Seneca High School B': 1342, 'Chagrin Falls High School B': 1397, 'Nordonia High School B': 1421, 'Columbus Academy ': 1440, 'Monroe Central High School ': 1440, 'Worthington Kilbourne High School B': 1440}\n"
     ]
    }
   ],
   "source": [
    "score_with_drops = {t: sum(score_copy[t]) for t in score_copy}\n",
    "\n",
    "sorted_scores = dict(sorted(score_with_drops.items(), key=lambda item: item[1]))\n",
    "print(f\"After dropping {drops} events: \\n\")\n",
    "print(utils.pretty_print(teams, sorted_scores))\n"
   ],
   "metadata": {
    "collapsed": false,
    "ExecuteTime": {
     "end_time": "2023-12-05T01:56:00.347085700Z",
     "start_time": "2023-12-05T01:56:00.333938200Z"
    }
   },
   "id": "ae14a71920de410a"
  },
  {
   "cell_type": "code",
   "execution_count": 137,
   "outputs": [],
   "source": [],
   "metadata": {
    "collapsed": false,
    "ExecuteTime": {
     "end_time": "2023-12-05T01:56:00.407323Z",
     "start_time": "2023-12-05T01:56:00.350077300Z"
    }
   },
   "id": "bd80c3c19aa175bc"
  },
  {
   "cell_type": "code",
   "execution_count": 137,
   "outputs": [],
   "source": [],
   "metadata": {
    "collapsed": false,
    "ExecuteTime": {
     "end_time": "2023-12-05T01:56:00.417525900Z",
     "start_time": "2023-12-05T01:56:00.366706600Z"
    }
   },
   "id": "9b4c526bc50de713"
  }
 ],
 "metadata": {
  "kernelspec": {
   "display_name": "Python 3 (ipykernel)",
   "language": "python",
   "name": "python3"
  },
  "language_info": {
   "codemirror_mode": {
    "name": "ipython",
    "version": 3
   },
   "file_extension": ".py",
   "mimetype": "text/x-python",
   "name": "python",
   "nbconvert_exporter": "python",
   "pygments_lexer": "ipython3",
   "version": "3.9.13"
  }
 },
 "nbformat": 4,
 "nbformat_minor": 5
}
