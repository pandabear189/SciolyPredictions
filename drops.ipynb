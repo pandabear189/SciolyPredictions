{
 "cells": [
  {
   "cell_type": "markdown",
   "id": "8c14d85bfc3cfff8",
   "metadata": {
    "collapsed": false
   },
   "source": [
    "# Setup/Imports"
   ]
  },
  {
   "cell_type": "code",
   "execution_count": 29,
   "id": "35c184f9ceb9fffe",
   "metadata": {
    "collapsed": false,
    "ExecuteTime": {
     "end_time": "2023-12-04T03:46:19.826296100Z",
     "start_time": "2023-12-04T03:46:19.306971900Z"
    }
   },
   "outputs": [],
   "source": [
    "from __future__ import annotations\n",
    "\n",
    "import typing\n",
    "\n",
    "import yaml\n",
    "import numpy as np\n",
    "\n",
    "with open(\"data/2023-05-20_nationals_c.yaml\", 'r') as file:\n",
    "    data = yaml.safe_load(file)"
   ]
  },
  {
   "cell_type": "markdown",
   "id": "3dced3407f6b6df5",
   "metadata": {
    "collapsed": false
   },
   "source": [
    "# Average Event Score Metric"
   ]
  },
  {
   "cell_type": "code",
   "execution_count": 30,
   "id": "a73b82c384b424da",
   "metadata": {
    "collapsed": false,
    "ExecuteTime": {
     "end_time": "2023-12-04T03:46:19.842105600Z",
     "start_time": "2023-12-04T03:46:19.828289Z"
    }
   },
   "outputs": [],
   "source": [
    "# Team List in order index of team number - 1 (0-indexed)\n",
    "teams = [team['school'] for team in data.get('Teams')]\n",
    "\n",
    "# Event Order (0-indexed)\n",
    "events = [event['name'] for event in data.get('Events')]\n"
   ]
  },
  {
   "cell_type": "code",
   "execution_count": 31,
   "id": "f3129f09b1a92b8c",
   "metadata": {
    "collapsed": false,
    "ExecuteTime": {
     "end_time": "2023-12-04T03:46:19.914960100Z",
     "start_time": "2023-12-04T03:46:19.841102300Z"
    }
   },
   "outputs": [
    {
     "name": "stdout",
     "output_type": "stream",
     "text": [
      "{'Syosset High School': 381, 'Ward Melville High School': 477, 'Troy High School': 279, 'Castro Valley High School': 321, 'William G. Enloe High School': 367, 'North Carolina School of Science and Mathematics': 470, 'Grand Haven High School': 405, 'Pioneer High School': 543, 'Harriton High School': 293, 'Lower Merion High School': 417, 'Adlai E. Stevenson High School': 208, 'New Trier High School': 333, 'F.W. Buchholz High School': 500, 'Boca Raton Community High School': 608, 'Solon High School': 228, 'Mason High School': 233, 'Seven Lakes High School': 326, 'William P. Clements High School': 462, 'Fulton Science Academy': 673, 'Brookwood High School': 562, 'Thomas Jefferson High School for Science and Technology': 577, 'Marquette University High School': 370, 'Ladue Horton Watkins High School': 535, 'West Windsor-Plainsboro High School North': 423, 'Centennial High School': 538, 'Carmel High School': 470, 'Acton-Boxborough Regional High School': 298, 'Mounds View High School': 688, 'Tesla STEM High School': 585, 'Ravenwood High School': 838, 'Homeschool Science Colorado': 757, 'Blue Valley North High School': 806, 'Millard North High School': 1137, 'Charter School of Wilmington': 990, 'James Clemens High School': 1008, 'Bismarck High School': 1055, 'South Windsor High School': 897, 'Hamilton High School': 1100, 'duPont Manual High School': 504, 'Albuquerque Academy': 1060, 'University High School': 958, 'Iolani School': 585, 'Ames High School': 811, 'Barrington High School': 1045, 'Ed W. Clark High School': 619, 'Northwest Rankin High School': 1060, 'Lebanon High School': 1062, 'Clinton High School': 1129, 'Casady School': 1010, \"St. Mary's Academy\": 1062, 'West High School': 1009, 'Waynflete Upper School': 930, 'Baton Rouge Magnet High School': 1212, 'Little Rock Central High School': 1207, 'Kelly Walsh High School': 1097, 'Morgantown High School': 908, 'Saint Johnsbury Academy': 1197, 'BASIS Independent Washington, D.C.': 921, 'Pembroke Hill School': 784, 'Langley High School': 772}\n",
      "{'Syosset High School': [23, 20, 36, 17, 21, 1, 10, 11, 1, 10, 17, 12, 53, 4, 5, 27, 8, 37, 4, 14, 16, 13, 21], 'Ward Melville High School': [17, 15, 30, 34, 30, 13, 11, 14, 24, 39, 5, 22, 14, 10, 26, 25, 5, 34, 23, 34, 18, 5, 29], 'Troy High School': [5, 7, 3, 19, 27, 11, 13, 15, 20, 3, 8, 7, 12, 25, 12, 5, 13, 12, 7, 2, 2, 27, 24], 'Castro Valley High School': [20, 23, 1, 7, 10, 27, 3, 25, 4, 11, 6, 1, 4, 16, 18, 3, 1, 26, 16, 51, 17, 3, 28], 'William G. Enloe High School': [15, 32, 12, 2, 6, 25, 19, 9, 15, 14, 10, 9, 27, 12, 7, 13, 16, 8, 20, 37, 26, 7, 26], 'North Carolina School of Science and Mathematics': [16, 8, 13, 3, 33, 15, 8, 32, 14, 47, 15, 19, 34, 54, 16, 11, 17, 3, 26, 11, 33, 32, 10], 'Grand Haven High School': [29, 29, 10, 37, 41, 12, 45, 18, 29, 31, 16, 4, 11, 8, 4, 2, 22, 29, 10, 3, 1, 6, 8], 'Pioneer High School': [47, 16, 8, 29, 23, 41, 21, 27, 2, 41, 2, 20, 6, 1, 24, 42, 11, 13, 25, 38, 28, 22, 56], 'Harriton High School': [14, 9, 9, 18, 15, 9, 25, 5, 26, 15, 12, 31, 10, 13, 1, 21, 2, 4, 5, 6, 13, 16, 14], 'Lower Merion High School': [25, 30, 18, 10, 28, 20, 17, 2, 19, 17, 13, 28, 7, 18, 25, 18, 19, 41, 21, 20, 4, 15, 2], 'Adlai E. Stevenson High School': [6, 14, 2, 9, 2, 6, 4, 10, 9, 7, 24, 2, 16, 7, 10, 16, 4, 11, 6, 9, 23, 10, 1], 'New Trier High School': [7, 2, 17, 6, 16, 4, 2, 22, 17, 1, 36, 24, 8, 5, 6, 14, 14, 5, 14, 50, 31, 20, 12], 'F.W. Buchholz High School': [21, 11, 15, 15, 7, 37, 40, 23, 3, 16, 51, 23, 37, 14, 30, 15, 23, 19, 13, 19, 14, 8, 46], 'Boca Raton Community High School': [26, 18, 16, 22, 43, 29, 32, 26, 35, 48, 42, 27, 9, 28, 37, 39, 30, 18, 38, 10, 6, 11, 18], 'Solon High School': [19, 17, 4, 5, 14, 7, 7, 3, 12, 4, 32, 15, 5, 2, 2, 7, 7, 36, 1, 4, 8, 12, 5], 'Mason High School': [12, 10, 5, 11, 20, 17, 1, 1, 6, 5, 1, 5, 3, 6, 13, 6, 9, 9, 12, 17, 40, 2, 22], 'Seven Lakes High School': [4, 3, 45, 14, 4, 10, 5, 16, 7, 8, 9, 26, 26, 26, 3, 17, 20, 1, 15, 22, 27, 1, 17], 'William P. Clements High School': [11, 26, 20, 13, 37, 2, 16, 28, 23, 27, 30, 3, 2, 48, 14, 26, 18, 6, 3, 41, 7, 19, 42], 'Fulton Science Academy': [44, 1, 52, 41, 36, 21, 9, 56, 16, 36, 19, 38, 35, 46, 21, 53, 41, 17, 8, 21, 25, 18, 19], 'Brookwood High School': [10, 24, 34, 20, 44, 14, 29, 20, 25, 22, 7, 48, 30, 21, 22, 19, 29, 28, 17, 7, 21, 31, 40], 'Thomas Jefferson High School for Science and Technology': [18, 13, 27, 28, 19, 23, 14, 13, 13, 21, 26, 32, 18, 22, 31, 37, 25, 2, 22, 44, 46, 24, 59], 'Marquette University High School': [22, 22, 11, 25, 13, 24, 6, 8, 33, 19, 20, 13, 25, 19, 9, 22, 10, 33, 11, 5, 5, 4, 11], 'Ladue Horton Watkins High School': [13, 35, 25, 33, 3, 22, 31, 19, 32, 6, 27, 45, 24, 36, 20, 9, 33, 27, 30, 1, 15, 17, 32], 'West Windsor-Plainsboro High School North': [2, 6, 31, 4, 34, 3, 38, 7, 11, 24, 11, 40, 33, 17, 15, 10, 40, 14, 9, 8, 24, 39, 3], 'Centennial High School': [8, 12, 19, 24, 9, 16, 48, 21, 31, 13, 18, 6, 32, 23, 23, 23, 21, 23, 29, 32, 38, 35, 34], 'Carmel High School': [3, 19, 51, 8, 1, 8, 26, 12, 22, 26, 14, 10, 22, 27, 8, 46, 12, 21, 28, 28, 30, 28, 20], 'Acton-Boxborough Regional High School': [9, 21, 7, 12, 31, 5, 50, 6, 8, 18, 3, 11, 13, 3, 11, 1, 15, 10, 18, 13, 3, 14, 16], 'Mounds View High School': [34, 37, 23, 32, 17, 45, 52, 42, 18, 20, 29, 21, 21, 29, 32, 36, 45, 30, 33, 15, 10, 30, 37], 'Tesla STEM High School': [35, 39, 22, 31, 12, 32, 24, 29, 28, 23, 23, 8, 20, 31, 42, 12, 35, 15, 19, 29, 12, 23, 41], 'Ravenwood High School': [40, 38, 24, 49, 57, 44, 23, 30, 49, 2, 39, 37, 48, 44, 29, 55, 3, 31, 40, 39, 19, 45, 53], 'Homeschool Science Colorado': [36, 25, 47, 27, 42, 34, 30, 41, 47, 28, 28, 51, 45, 11, 28, 30, 24, 24, 27, 16, 36, 55, 25], 'Blue Valley North High School': [46, 41, 14, 46, 5, 40, 27, 46, 27, 53, 35, 50, 23, 33, 17, 24, 37, 39, 35, 30, 50, 52, 36], 'Millard North High School': [58, 52, 49, 58, 55, 35, 57, 47, 48, 43, 41, 41, 46, 51, 59, 50, 56, 46, 52, 54, 45, 51, 43], 'Charter School of Wilmington': [24, 50, 43, 43, 26, 51, 35, 39, 37, 56, 54, 44, 50, 9, 47, 45, 46, 53, 57, 60, 22, 47, 52], 'James Clemens High School': [28, 59, 54, 39, 60, 49, 37, 24, 55, 34, 45, 17, 39, 40, 55, 57, 48, 49, 53, 26, 48, 43, 49], 'Bismarck High School': [38, 57, 40, 40, 39, 54, 42, 44, 60, 9, 49, 53, 58, 42, 34, 47, 31, 57, 50, 52, 55, 46, 58], 'South Windsor High School': [42, 43, 26, 38, 18, 31, 39, 48, 50, 40, 47, 36, 19, 57, 36, 32, 52, 59, 39, 40, 34, 21, 50], 'Hamilton High School': [55, 46, 32, 52, 52, 59, 47, 31, 53, 54, 33, 55, 42, 50, 57, 29, 60, 55, 59, 33, 51, 60, 35], 'duPont Manual High School': [1, 5, 38, 1, 8, 28, 12, 4, 5, 42, 22, 14, 29, 47, 50, 8, 28, 7, 44, 46, 11, 50, 4], 'Albuquerque Academy': [60, 40, 37, 57, 22, 50, 22, 54, 42, 37, 56, 35, 47, 53, 60, 58, 36, 44, 51, 42, 58, 42, 57], 'University High School': [41, 58, 58, 23, 11, 38, 18, 59, 54, 57, 43, 30, 43, 34, 48, 52, 43, 25, 45, 55, 39, 40, 44], 'Iolani School': [49, 4, 33, 21, 29, 19, 20, 38, 10, 49, 31, 34, 28, 20, 45, 20, 6, 16, 2, 23, 41, 9, 38], 'Ames High School': [31, 31, 46, 36, 25, 46, 28, 34, 36, 12, 37, 46, 15, 56, 19, 54, 49, 45, 32, 53, 29, 36, 15], 'Barrington High School': [50, 51, 21, 44, 49, 48, 54, 43, 58, 58, 48, 57, 51, 32, 46, 56, 51, 60, 47, 18, 32, 48, 23], 'Ed W. Clark High School': [33, 28, 6, 50, 48, 33, 34, 33, 30, 25, 4, 16, 1, 49, 27, 4, 42, 20, 34, 31, 20, 44, 7], 'Northwest Rankin High School': [45, 55, 41, 59, 46, 56, 44, 53, 34, 30, 44, 56, 44, 58, 38, 59, 34, 35, 48, 49, 52, 26, 54], 'Lebanon High School': [48, 54, 57, 42, 45, 43, 43, 57, 46, 44, 53, 43, 56, 38, 33, 34, 58, 58, 37, 24, 53, 57, 39], 'Clinton High School': [43, 48, 59, 56, 47, 60, 56, 51, 52, 46, 34, 58, 54, 55, 53, 49, 38, 43, 36, 47, 35, 54, 55], 'Casady School': [27, 49, 39, 54, 58, 58, 41, 36, 45, 45, 59, 39, 52, 41, 43, 51, 47, 42, 41, 35, 43, 34, 31], \"St. Mary's Academy\": [59, 56, 53, 48, 51, 30, 55, 50, 40, 55, 25, 47, 41, 35, 52, 38, 57, 56, 46, 25, 47, 49, 47], 'West High School': [56, 47, 29, 47, 35, 42, 49, 49, 56, 60, 52, 18, 38, 37, 51, 31, 50, 52, 49, 45, 57, 29, 30], 'Waynflete Upper School': [30, 42, 42, 45, 50, 52, 36, 40, 51, 50, 57, 42, 17, 15, 44, 41, 39, 51, 55, 43, 44, 38, 6], 'Baton Rouge Magnet High School': [54, 34, 60, 60, 56, 57, 60, 60, 43, 29, 60, 29, 60, 59, 56, 33, 54, 48, 60, 60, 60, 60, 60], 'Little Rock Central High School': [52, 53, 55, 53, 54, 55, 58, 55, 41, 51, 55, 49, 55, 45, 58, 44, 53, 50, 58, 60, 49, 56, 48], 'Kelly Walsh High School': [57, 45, 56, 30, 59, 53, 51, 52, 57, 38, 46, 54, 31, 60, 35, 48, 55, 54, 42, 56, 9, 58, 51], 'Morgantown High School': [39, 44, 48, 26, 32, 36, 33, 35, 39, 52, 40, 60, 40, 43, 40, 43, 32, 38, 56, 12, 42, 33, 45], 'Saint Johnsbury Academy': [51, 60, 44, 55, 38, 47, 60, 58, 59, 59, 58, 59, 59, 52, 54, 60, 60, 32, 54, 60, 60, 25, 33], 'BASIS Independent Washington, D.C.': [53, 36, 50, 35, 53, 39, 46, 17, 44, 33, 50, 25, 49, 24, 49, 40, 27, 40, 43, 48, 54, 53, 13], 'Pembroke Hill School': [37, 27, 28, 51, 24, 26, 53, 37, 21, 35, 38, 33, 36, 30, 41, 28, 44, 22, 31, 36, 56, 41, 9], 'Langley High School': [32, 33, 35, 16, 40, 18, 15, 45, 38, 32, 21, 52, 57, 39, 39, 35, 26, 47, 24, 27, 37, 37, 27]}\n"
     ]
    }
   ],
   "source": [
    "trial_events = [d['name'] for d in data.get('Events') if d.get('trial', False)]\n",
    "total_scores: dict[str, int] = {t: 0 for t in teams} # team number : total score (sum)\n",
    "full_scores: dict[str, list[int]] = {t: [] for t in teams} # full array of scores for each team\n",
    "\n",
    "for placement in data.get('Placings'):\n",
    "    total_scores[teams[placement['team']-1]] += placement.get('place', len(teams)) if not placement['event'] in trial_events else 0\n",
    "    full_scores[teams[placement['team']-1]].append(placement.get('place', len(teams))) if not placement['event'] in trial_events else 0\n",
    "    \n",
    "print(total_scores)\n",
    "print(full_scores)\n"
   ]
  },
  {
   "cell_type": "code",
   "execution_count": 32,
   "outputs": [
    {
     "name": "stdout",
     "output_type": "stream",
     "text": [
      "{'Syosset High School': 16.565217391304348, 'Ward Melville High School': 20.73913043478261, 'Troy High School': 12.130434782608695, 'Castro Valley High School': 13.956521739130435, 'William G. Enloe High School': 15.956521739130435, 'North Carolina School of Science and Mathematics': 20.434782608695652, 'Grand Haven High School': 17.608695652173914, 'Pioneer High School': 23.608695652173914, 'Harriton High School': 12.73913043478261, 'Lower Merion High School': 18.130434782608695, 'Adlai E. Stevenson High School': 9.043478260869565, 'New Trier High School': 14.478260869565217, 'F.W. Buchholz High School': 21.73913043478261, 'Boca Raton Community High School': 26.434782608695652, 'Solon High School': 9.91304347826087, 'Mason High School': 10.130434782608695, 'Seven Lakes High School': 14.173913043478262, 'William P. Clements High School': 20.08695652173913, 'Fulton Science Academy': 29.26086956521739, 'Brookwood High School': 24.434782608695652, 'Thomas Jefferson High School for Science and Technology': 25.08695652173913, 'Marquette University High School': 16.08695652173913, 'Ladue Horton Watkins High School': 23.26086956521739, 'West Windsor-Plainsboro High School North': 18.391304347826086, 'Centennial High School': 23.391304347826086, 'Carmel High School': 20.434782608695652, 'Acton-Boxborough Regional High School': 12.956521739130435, 'Mounds View High School': 29.91304347826087, 'Tesla STEM High School': 25.434782608695652, 'Ravenwood High School': 36.43478260869565, 'Homeschool Science Colorado': 32.91304347826087, 'Blue Valley North High School': 35.04347826086956, 'Millard North High School': 49.43478260869565, 'Charter School of Wilmington': 43.04347826086956, 'James Clemens High School': 43.82608695652174, 'Bismarck High School': 45.869565217391305, 'South Windsor High School': 39.0, 'Hamilton High School': 47.82608695652174, 'duPont Manual High School': 21.91304347826087, 'Albuquerque Academy': 46.08695652173913, 'University High School': 41.65217391304348, 'Iolani School': 25.434782608695652, 'Ames High School': 35.26086956521739, 'Barrington High School': 45.43478260869565, 'Ed W. Clark High School': 26.91304347826087, 'Northwest Rankin High School': 46.08695652173913, 'Lebanon High School': 46.17391304347826, 'Clinton High School': 49.08695652173913, 'Casady School': 43.91304347826087, \"St. Mary's Academy\": 46.17391304347826, 'West High School': 43.869565217391305, 'Waynflete Upper School': 40.43478260869565, 'Baton Rouge Magnet High School': 52.69565217391305, 'Little Rock Central High School': 52.47826086956522, 'Kelly Walsh High School': 47.69565217391305, 'Morgantown High School': 39.47826086956522, 'Saint Johnsbury Academy': 52.04347826086956, 'BASIS Independent Washington, D.C.': 40.04347826086956, 'Pembroke Hill School': 34.08695652173913, 'Langley High School': 33.56521739130435}\n"
     ]
    }
   ],
   "source": [
    "averages = {t: total_scores[t]/(len(data.get('Events'))-len(trial_events)) for t in teams}\n",
    "print(averages)"
   ],
   "metadata": {
    "collapsed": false,
    "ExecuteTime": {
     "end_time": "2023-12-04T03:46:19.916155500Z",
     "start_time": "2023-12-04T03:46:19.857864300Z"
    }
   },
   "id": "bfe574e306c4d738"
  },
  {
   "cell_type": "markdown",
   "source": [
    "# Distinguishing \"Bombed\" Events\n",
    "### Using the following methods to determine \"bombed\" events:\n",
    "##### These values become the upper fence for the data\n",
    "- $\\alpha \\times \\overline{X} $\n",
    "- $\\alpha \\times (Q_3 - Q_1) + Q_3$ &nbsp; (IQR)\n",
    "- $\\alpha \\times \\sigma + \\overline{X} $&nbsp;&nbsp;&nbsp; (Standard Deviation)\n",
    "\n",
    "where $\\alpha$ is a multiplicative constant\n"
   ],
   "metadata": {
    "collapsed": false
   },
   "id": "e03e01c80a6d3cb7"
  },
  {
   "cell_type": "markdown",
   "source": [
    "### Mean Method (alpha = 2)"
   ],
   "metadata": {
    "collapsed": false
   },
   "id": "8ae06a38b271b960"
  },
  {
   "cell_type": "code",
   "execution_count": 33,
   "outputs": [
    {
     "name": "stdout",
     "output_type": "stream",
     "text": [
      "\"Bombed\" events by school: {'Syosset High School': ['Bridge', 'Flight', 'Remote Sensing'], 'Ward Melville High School': [], 'Troy High School': ['Chemistry Lab', 'Forensics', 'WiFi Lab'], 'Castro Valley High School': ['Scrambler', 'Write It Do It'], 'William G. Enloe High School': ['Astronomy', 'Scrambler'], 'North Carolina School of Science and Mathematics': ['Environmental Chemistry', 'Forensics'], 'Grand Haven High School': ['Cell Biology', 'Chemistry Lab', 'Detector Building'], 'Pioneer High School': ['Write It Do It'], 'Harriton High School': ['Dynamic Planet', 'Fermi Questions'], 'Lower Merion High School': ['Remote Sensing'], 'Adlai E. Stevenson High School': ['Experimental Design', 'Trajectory'], 'New Trier High School': ['Experimental Design', 'Scrambler', 'Trajectory'], 'F.W. Buchholz High School': ['Experimental Design', 'Write It Do It'], 'Boca Raton Community High School': [], 'Solon High School': ['Experimental Design', 'Remote Sensing'], 'Mason High School': ['Trajectory', 'Write It Do It'], 'Seven Lakes High School': ['Bridge'], 'William P. Clements High School': ['Forensics', 'Scrambler', 'Write It Do It'], 'Fulton Science Academy': [], 'Brookwood High School': [], 'Thomas Jefferson High School for Science and Technology': ['Write It Do It'], 'Marquette University High School': ['Dynamic Planet', 'Remote Sensing'], 'Ladue Horton Watkins High School': [], 'West Windsor-Plainsboro High School North': ['Detector Building', 'Fermi Questions', \"It's About Time\", 'WiFi Lab'], 'Centennial High School': ['Detector Building'], 'Carmel High School': ['Bridge', 'Green Generation'], 'Acton-Boxborough Regional High School': ['Chemistry Lab', 'Detector Building'], 'Mounds View High School': [], 'Tesla STEM High School': [], 'Ravenwood High School': [], 'Homeschool Science Colorado': [], 'Blue Valley North High School': [], 'Millard North High School': [], 'Charter School of Wilmington': [], 'James Clemens High School': [], 'Bismarck High School': [], 'South Windsor High School': [], 'Hamilton High School': [], 'duPont Manual High School': ['Forensics', 'Forestry', 'Rocks and Minerals', 'Scrambler', 'WiFi Lab'], 'Albuquerque Academy': [], 'University High School': [], 'Iolani School': [], 'Ames High School': [], 'Barrington High School': [], 'Ed W. Clark High School': [], 'Northwest Rankin High School': [], 'Lebanon High School': [], 'Clinton High School': [], 'Casady School': [], \"St. Mary's Academy\": [], 'West High School': [], 'Waynflete Upper School': [], 'Baton Rouge Magnet High School': [], 'Little Rock Central High School': [], 'Kelly Walsh High School': [], 'Morgantown High School': [], 'Saint Johnsbury Academy': [], 'BASIS Independent Washington, D.C.': [], 'Pembroke Hill School': [], 'Langley High School': []} \n",
      "\n",
      "Average \"bombed events\":  0.85\n"
     ]
    }
   ],
   "source": [
    "bombed_events = {t: [] for t in teams}\n",
    "\n",
    "def mean(alpha: int = 2):\n",
    "    for placement in data.get('Placings'):\n",
    "        if placement.get('place', len(teams)) > averages[teams[placement['team']-1]] * alpha and not placement['event'] in trial_events:\n",
    "            bombed_events[teams[placement['team']-1]].append(placement['event'])\n",
    "            \n",
    "    print(\"\\\"Bombed\\\" events by school:\", bombed_events, \"\\n\")\n",
    "    print(\"Average \\\"bombed events\\\": \", sum([len(bombed_events[t]) for t in bombed_events])/len(teams))\n",
    "\n",
    "mean()"
   ],
   "metadata": {
    "collapsed": false,
    "ExecuteTime": {
     "end_time": "2023-12-04T03:46:19.928322800Z",
     "start_time": "2023-12-04T03:46:19.875488700Z"
    }
   },
   "id": "834164a368868bc1"
  },
  {
   "cell_type": "markdown",
   "source": [
    "### IQR Method (alpha = 1.5, standard outlier formula)"
   ],
   "metadata": {
    "collapsed": false
   },
   "id": "3ab2dd5968448b6e"
  },
  {
   "cell_type": "code",
   "execution_count": 34,
   "outputs": [
    {
     "name": "stdout",
     "output_type": "stream",
     "text": [
      "\"Bombed\" events by school: {'Syosset High School': ['Flight'], 'Ward Melville High School': [], 'Troy High School': [], 'Castro Valley High School': ['Scrambler'], 'William G. Enloe High School': [], 'North Carolina School of Science and Mathematics': [], 'Grand Haven High School': [], 'Pioneer High School': [], 'Harriton High School': ['Fermi Questions'], 'Lower Merion High School': ['Remote Sensing'], 'Adlai E. Stevenson High School': ['Experimental Design', 'Trajectory'], 'New Trier High School': ['Scrambler'], 'F.W. Buchholz High School': ['Experimental Design', 'Write It Do It'], 'Boca Raton Community High School': [], 'Solon High School': ['Experimental Design', 'Remote Sensing'], 'Mason High School': ['Trajectory'], 'Seven Lakes High School': [], 'William P. Clements High School': [], 'Fulton Science Academy': [], 'Brookwood High School': ['Fermi Questions'], 'Thomas Jefferson High School for Science and Technology': ['Write It Do It'], 'Marquette University High School': [], 'Ladue Horton Watkins High School': [], 'West Windsor-Plainsboro High School North': [], 'Centennial High School': [], 'Carmel High School': [], 'Acton-Boxborough Regional High School': ['Chemistry Lab', 'Detector Building'], 'Mounds View High School': [], 'Tesla STEM High School': [], 'Ravenwood High School': [], 'Homeschool Science Colorado': [], 'Blue Valley North High School': [], 'Millard North High School': [], 'Charter School of Wilmington': [], 'James Clemens High School': [], 'Bismarck High School': [], 'South Windsor High School': [], 'Hamilton High School': [], 'duPont Manual High School': [], 'Albuquerque Academy': [], 'University High School': [], 'Iolani School': [], 'Ames High School': [], 'Barrington High School': [], 'Ed W. Clark High School': [], 'Northwest Rankin High School': [], 'Lebanon High School': [], 'Clinton High School': [], 'Casady School': [], \"St. Mary's Academy\": [], 'West High School': [], 'Waynflete Upper School': [], 'Baton Rouge Magnet High School': [], 'Little Rock Central High School': [], 'Kelly Walsh High School': [], 'Morgantown High School': ['Fermi Questions'], 'Saint Johnsbury Academy': [], 'BASIS Independent Washington, D.C.': [], 'Pembroke Hill School': [], 'Langley High School': []} \n",
      "\n",
      "Average \"bombed events\":  0.2833333333333333\n"
     ]
    }
   ],
   "source": [
    "bombed_events = {t: [] for t in teams}\n",
    "\n",
    "def iqr(alpha: int = 1.5):\n",
    "    for placement in data.get('Placings'):\n",
    "        q1 = np.quantile(full_scores[teams[placement['team']-1]], 0.25)\n",
    "        q3 = np.quantile(full_scores[teams[placement['team']-1]], 0.75)\n",
    "        if placement.get('place', len(teams)) > ((q3 - q1) * alpha + q3) and not placement['event'] in trial_events:\n",
    "            bombed_events[teams[placement['team']-1]].append(placement['event'])\n",
    "            \n",
    "    print(\"\\\"Bombed\\\" events by school:\", bombed_events, \"\\n\")\n",
    "    print(\"Average \\\"bombed events\\\": \", sum([len(bombed_events[t]) for t in bombed_events])/len(teams))\n",
    "    \n",
    "iqr()"
   ],
   "metadata": {
    "collapsed": false,
    "ExecuteTime": {
     "end_time": "2023-12-04T03:46:20.123990Z",
     "start_time": "2023-12-04T03:46:19.894122500Z"
    }
   },
   "id": "6cc22dd35bd4041b"
  },
  {
   "cell_type": "code",
   "execution_count": 35,
   "outputs": [
    {
     "name": "stdout",
     "output_type": "stream",
     "text": [
      "\"Bombed\" events by school: {'Syosset High School': ['Bridge', 'Flight', 'Remote Sensing'], 'Ward Melville High School': ['Environmental Chemistry'], 'Troy High School': ['Chemistry Lab', 'Forensics', 'WiFi Lab', 'Write It Do It'], 'Castro Valley High School': ['Scrambler'], 'William G. Enloe High School': ['Astronomy', 'Scrambler'], 'North Carolina School of Science and Mathematics': ['Environmental Chemistry', 'Forensics'], 'Grand Haven High School': ['Chemistry Lab', 'Detector Building'], 'Pioneer High School': ['Anatomy and Physiology', 'Write It Do It'], 'Harriton High School': ['Detector Building', 'Dynamic Planet', 'Fermi Questions'], 'Lower Merion High School': ['Remote Sensing'], 'Adlai E. Stevenson High School': ['Experimental Design', 'Trajectory'], 'New Trier High School': ['Experimental Design', 'Scrambler'], 'F.W. Buchholz High School': ['Experimental Design', 'Write It Do It'], 'Boca Raton Community High School': ['Environmental Chemistry'], 'Solon High School': ['Experimental Design', 'Remote Sensing'], 'Mason High School': ['Trajectory'], 'Seven Lakes High School': ['Bridge'], 'William P. Clements High School': ['Forensics', 'Scrambler', 'Write It Do It'], 'Fulton Science Academy': ['Disease Detectives', 'Green Generation'], 'Brookwood High School': ['Chemistry Lab', 'Fermi Questions'], 'Thomas Jefferson High School for Science and Technology': ['Scrambler', 'Trajectory', 'Write It Do It'], 'Marquette University High School': ['Dynamic Planet', 'Remote Sensing'], 'Ladue Horton Watkins High School': ['Fermi Questions'], 'West Windsor-Plainsboro High School North': ['Fermi Questions', \"It's About Time\", 'WiFi Lab'], 'Centennial High School': ['Detector Building'], 'Carmel High School': ['Bridge', 'Green Generation'], 'Acton-Boxborough Regional High School': ['Chemistry Lab', 'Detector Building'], 'Mounds View High School': ['Detector Building'], 'Tesla STEM High School': ['Forestry', 'Write It Do It'], 'Ravenwood High School': [], 'Homeschool Science Colorado': ['Fermi Questions', 'WiFi Lab'], 'Blue Valley North High School': [], 'Millard North High School': ['Forestry'], 'Charter School of Wilmington': [], 'James Clemens High School': [], 'Bismarck High School': [], 'South Windsor High School': ['Forensics', 'Remote Sensing'], 'Hamilton High School': [], 'duPont Manual High School': ['Forestry', 'WiFi Lab'], 'Albuquerque Academy': [], 'University High School': [], 'Iolani School': ['Anatomy and Physiology', 'Environmental Chemistry'], 'Ames High School': ['Forensics'], 'Barrington High School': [], 'Ed W. Clark High School': ['Cell Biology'], 'Northwest Rankin High School': [], 'Lebanon High School': [], 'Clinton High School': [], 'Casady School': ['Chemistry Lab', 'Codebusters', 'Experimental Design'], \"St. Mary's Academy\": [], 'West High School': [], 'Waynflete Upper School': [], 'Baton Rouge Magnet High School': [], 'Little Rock Central High School': ['Scrambler'], 'Kelly Walsh High School': [], 'Morgantown High School': ['Fermi Questions', 'Rocks and Minerals'], 'Saint Johnsbury Academy': [], 'BASIS Independent Washington, D.C.': [], 'Pembroke Hill School': ['Cell Biology', 'Detector Building', 'Trajectory'], 'Langley High School': ['Fermi Questions', 'Flight']} \n",
      "\n",
      "Average \"bombed events\":  1.3\n"
     ]
    }
   ],
   "source": [
    "bombed_events = {t: [] for t in teams}\n",
    "\n",
    "def std_deviation(alpha: int = 1.5):\n",
    "    for placement in data.get('Placings'):\n",
    "        mean = np.mean(full_scores[teams[placement['team']-1]])\n",
    "        std = np.std(full_scores[teams[placement['team']-1]])\n",
    "        if placement.get('place', len(teams)) > (mean + alpha * std) and not placement['event'] in trial_events:\n",
    "            bombed_events[teams[placement['team']-1]].append(placement['event'])\n",
    "            \n",
    "    print(\"\\\"Bombed\\\" events by school:\", bombed_events, \"\\n\")\n",
    "    print(\"Average \\\"bombed events\\\": \", sum([len(bombed_events[t]) for t in bombed_events])/len(teams))\n",
    "    \n",
    "std_deviation()"
   ],
   "metadata": {
    "collapsed": false,
    "ExecuteTime": {
     "end_time": "2023-12-04T03:46:20.221092700Z",
     "start_time": "2023-12-04T03:46:20.119390800Z"
    }
   },
   "id": "7547b3b58c508cee"
  },
  {
   "cell_type": "markdown",
   "source": [
    "## Consistent Flaws\n",
    "All of these methods are too sensitive to \"top\" teams while do not account nearly as well for lower ranked teams. A possible solution would be a scalar multiplier based on the team's rank. This would have a greater account for bombs even when the mean/median place on a team is lower. "
   ],
   "metadata": {
    "collapsed": false
   },
   "id": "4dd2768f4c1749a2"
  },
  {
   "cell_type": "markdown",
   "source": [
    "# Recalculating scores with auto drop \"bombed\" events\n"
   ],
   "metadata": {
    "collapsed": false
   },
   "id": "dc791eecd885c4dd"
  },
  {
   "cell_type": "code",
   "execution_count": 36,
   "outputs": [
    {
     "name": "stdout",
     "output_type": "stream",
     "text": [
      "\"Bombed\" events by school: {'Syosset High School': ['Bridge', 'Flight', 'Remote Sensing', 'Flight'], 'Ward Melville High School': ['Environmental Chemistry'], 'Troy High School': ['Chemistry Lab', 'Forensics', 'WiFi Lab', 'Write It Do It'], 'Castro Valley High School': ['Scrambler', 'Scrambler'], 'William G. Enloe High School': ['Astronomy', 'Scrambler', 'Scrambler'], 'North Carolina School of Science and Mathematics': ['Environmental Chemistry', 'Forensics', 'Environmental Chemistry', 'Forensics'], 'Grand Haven High School': ['Chemistry Lab', 'Detector Building', 'Detector Building'], 'Pioneer High School': ['Anatomy and Physiology', 'Write It Do It', 'Write It Do It'], 'Harriton High School': ['Detector Building', 'Dynamic Planet', 'Fermi Questions', 'Fermi Questions'], 'Lower Merion High School': ['Remote Sensing', 'Remote Sensing'], 'Adlai E. Stevenson High School': ['Experimental Design', 'Trajectory', 'Experimental Design', 'Trajectory'], 'New Trier High School': ['Experimental Design', 'Scrambler', 'Scrambler'], 'F.W. Buchholz High School': ['Experimental Design', 'Write It Do It', 'Experimental Design'], 'Boca Raton Community High School': ['Environmental Chemistry'], 'Solon High School': ['Experimental Design', 'Remote Sensing', 'Experimental Design', 'Remote Sensing'], 'Mason High School': ['Trajectory', 'Trajectory'], 'Seven Lakes High School': ['Bridge', 'Bridge'], 'William P. Clements High School': ['Forensics', 'Scrambler', 'Write It Do It', 'Forensics'], 'Fulton Science Academy': ['Disease Detectives', 'Green Generation'], 'Brookwood High School': ['Chemistry Lab', 'Fermi Questions', 'Fermi Questions'], 'Thomas Jefferson High School for Science and Technology': ['Scrambler', 'Trajectory', 'Write It Do It', 'Write It Do It'], 'Marquette University High School': ['Dynamic Planet', 'Remote Sensing'], 'Ladue Horton Watkins High School': ['Fermi Questions'], 'West Windsor-Plainsboro High School North': ['Fermi Questions', \"It's About Time\", 'WiFi Lab'], 'Centennial High School': ['Detector Building', 'Detector Building'], 'Carmel High School': ['Bridge', 'Green Generation', 'Bridge', 'Green Generation'], 'Acton-Boxborough Regional High School': ['Chemistry Lab', 'Detector Building', 'Detector Building'], 'Mounds View High School': ['Detector Building', 'Detector Building'], 'Tesla STEM High School': ['Forestry', 'Write It Do It'], 'Ravenwood High School': [], 'Homeschool Science Colorado': ['Fermi Questions', 'WiFi Lab', 'WiFi Lab'], 'Blue Valley North High School': [], 'Millard North High School': ['Forestry'], 'Charter School of Wilmington': [], 'James Clemens High School': [], 'Bismarck High School': [], 'South Windsor High School': ['Forensics', 'Remote Sensing'], 'Hamilton High School': [], 'duPont Manual High School': ['Forestry', 'WiFi Lab'], 'Albuquerque Academy': [], 'University High School': [], 'Iolani School': ['Anatomy and Physiology', 'Environmental Chemistry'], 'Ames High School': ['Forensics'], 'Barrington High School': [], 'Ed W. Clark High School': ['Cell Biology'], 'Northwest Rankin High School': [], 'Lebanon High School': [], 'Clinton High School': [], 'Casady School': ['Chemistry Lab', 'Codebusters', 'Experimental Design'], \"St. Mary's Academy\": [], 'West High School': [], 'Waynflete Upper School': [], 'Baton Rouge Magnet High School': [], 'Little Rock Central High School': ['Scrambler'], 'Kelly Walsh High School': [], 'Morgantown High School': ['Fermi Questions', 'Rocks and Minerals', 'Fermi Questions'], 'Saint Johnsbury Academy': [], 'BASIS Independent Washington, D.C.': [], 'Pembroke Hill School': ['Cell Biology', 'Detector Building', 'Trajectory', 'Trajectory'], 'Langley High School': ['Fermi Questions', 'Flight', 'Flight']} \n",
      "\n",
      "Average \"bombed events\":  1.7833333333333334\n"
     ]
    }
   ],
   "source": [
    "method: typing.Callable = std_deviation\n",
    "\n",
    "# run method\n",
    "alpha = 2\n",
    "method(alpha)\n",
    "\n",
    "score_copy = full_scores.copy()\n",
    "drops = round(sum([len(bombed_events[t]) for t in bombed_events])/len(teams))\n",
    "\n",
    "for _ in range(drops):\n",
    "    for team in score_copy:\n",
    "        score_copy[team].remove(max(score_copy[team]))\n"
   ],
   "metadata": {
    "collapsed": false,
    "ExecuteTime": {
     "end_time": "2023-12-04T03:46:20.294260600Z",
     "start_time": "2023-12-04T03:46:20.199814Z"
    }
   },
   "id": "60ee2ba6a57560cc"
  },
  {
   "cell_type": "markdown",
   "source": [
    "## Recalculate Ranking"
   ],
   "metadata": {
    "collapsed": false
   },
   "id": "32488e302035d11c"
  },
  {
   "cell_type": "code",
   "execution_count": 37,
   "outputs": [
    {
     "name": "stdout",
     "output_type": "stream",
     "text": [
      "{'Solon High School': 160, 'Adlai E. Stevenson High School': 161, 'Mason High School': 171, 'Acton-Boxborough Regional High School': 217, 'Troy High School': 225, 'Harriton High School': 236, 'Castro Valley High School': 242, 'New Trier High School': 247, 'Seven Lakes High School': 254, 'Syosset High School': 291, 'William G. Enloe High School': 298, 'Marquette University High School': 304, 'Grand Haven High School': 319, 'West Windsor-Plainsboro High School North': 343, 'Lower Merion High School': 346, 'North Carolina School of Science and Mathematics': 369, 'William P. Clements High School': 372, 'Carmel High School': 373, 'F.W. Buchholz High School': 403, 'Ward Melville High School': 404, 'duPont Manual High School': 404, 'Pioneer High School': 440, 'Centennial High School': 452, 'Ladue Horton Watkins High School': 454, 'Brookwood High School': 470, 'Thomas Jefferson High School for Science and Technology': 472, 'Iolani School': 487, 'Tesla STEM High School': 502, 'Boca Raton Community High School': 517, 'Ed W. Clark High School': 520, 'Fulton Science Academy': 564, 'Mounds View High School': 591, 'Homeschool Science Colorado': 651, 'Langley High School': 663, 'Pembroke Hill School': 675, 'Blue Valley North High School': 701, 'Ames High School': 701, 'Ravenwood High School': 726, 'South Windsor High School': 781, 'Morgantown High School': 792, 'BASIS Independent Washington, D.C.': 814, 'Waynflete Upper School': 818, 'University High School': 841, 'Charter School of Wilmington': 873, 'James Clemens High School': 889, 'West High School': 892, 'Casady School': 893, 'Barrington High School': 927, 'Bismarck High School': 937, 'Albuquerque Academy': 940, 'Northwest Rankin High School': 942, 'Lebanon High School': 946, \"St. Mary's Academy\": 946, 'Kelly Walsh High School': 978, 'Hamilton High School': 980, 'Clinton High School': 1010, 'Millard North High School': 1020, 'Saint Johnsbury Academy': 1077, 'Little Rock Central High School': 1089, 'Baton Rouge Magnet High School': 1092}\n"
     ]
    }
   ],
   "source": [
    "score_with_drops = {t: sum(score_copy[t]) for t in score_copy}\n",
    "\n",
    "print(dict(sorted(score_with_drops.items(), key=lambda item: item[1])))"
   ],
   "metadata": {
    "collapsed": false,
    "ExecuteTime": {
     "end_time": "2023-12-04T03:46:20.295257900Z",
     "start_time": "2023-12-04T03:46:20.269608800Z"
    }
   },
   "id": "ae14a71920de410a"
  },
  {
   "cell_type": "code",
   "execution_count": 37,
   "outputs": [],
   "source": [],
   "metadata": {
    "collapsed": false,
    "ExecuteTime": {
     "end_time": "2023-12-04T03:46:20.307247200Z",
     "start_time": "2023-12-04T03:46:20.286738700Z"
    }
   },
   "id": "bd80c3c19aa175bc"
  },
  {
   "cell_type": "code",
   "execution_count": 37,
   "outputs": [],
   "source": [],
   "metadata": {
    "collapsed": false,
    "ExecuteTime": {
     "end_time": "2023-12-04T03:46:20.361415900Z",
     "start_time": "2023-12-04T03:46:20.303755200Z"
    }
   },
   "id": "9b4c526bc50de713"
  }
 ],
 "metadata": {
  "kernelspec": {
   "display_name": "Python 3 (ipykernel)",
   "language": "python",
   "name": "python3"
  },
  "language_info": {
   "codemirror_mode": {
    "name": "ipython",
    "version": 3
   },
   "file_extension": ".py",
   "mimetype": "text/x-python",
   "name": "python",
   "nbconvert_exporter": "python",
   "pygments_lexer": "ipython3",
   "version": "3.9.13"
  }
 },
 "nbformat": 4,
 "nbformat_minor": 5
}
