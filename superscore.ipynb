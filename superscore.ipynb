{
 "cells": [
  {
   "cell_type": "code",
   "execution_count": 11,
   "id": "initial_id",
   "metadata": {
    "collapsed": true,
    "ExecuteTime": {
     "end_time": "2023-12-04T06:32:04.471994900Z",
     "start_time": "2023-12-04T06:32:03.942213900Z"
    }
   },
   "outputs": [],
   "source": [
    "from __future__ import annotations\n",
    "\n",
    "import typing\n",
    "\n",
    "import yaml\n",
    "import numpy as np\n",
    "\n",
    "with open(\"data/2023-02-04_solon_invitational_c.yaml\", 'r') as file:\n",
    "    data = yaml.safe_load(file)\n"
   ]
  },
  {
   "cell_type": "code",
   "execution_count": 12,
   "outputs": [],
   "source": [
    "events = [e['name'] for e in data.get(\"Events\") if not e.get('trial', False)]\n",
    "\n",
    "schools = {t['school'] for t in data.get(\"Teams\")}\n",
    "school_number_to_name = {t['number']: t['school'] for t in data.get(\"Teams\")}\n",
    "\n",
    "results = {t['school']: [len(data.get('Teams'))] * len(events) for t in data.get(\"Teams\")}"
   ],
   "metadata": {
    "collapsed": false,
    "ExecuteTime": {
     "end_time": "2023-12-04T06:32:04.473484800Z",
     "start_time": "2023-12-04T06:32:04.445906900Z"
    }
   },
   "id": "bc86541554e81385"
  },
  {
   "cell_type": "code",
   "execution_count": 13,
   "outputs": [
    {
     "ename": "TypeError",
     "evalue": "'NoneType' object is not iterable",
     "output_type": "error",
     "traceback": [
      "\u001B[1;31m---------------------------------------------------------------------------\u001B[0m",
      "\u001B[1;31mTypeError\u001B[0m                                 Traceback (most recent call last)",
      "Cell \u001B[1;32mIn[13], line 1\u001B[0m\n\u001B[1;32m----> 1\u001B[0m \u001B[38;5;28;01mfor\u001B[39;00m placement \u001B[38;5;129;01min\u001B[39;00m data\u001B[38;5;241m.\u001B[39mget(\u001B[38;5;124m\"\u001B[39m\u001B[38;5;124mPlacements\u001B[39m\u001B[38;5;124m\"\u001B[39m):\n\u001B[0;32m      2\u001B[0m     results[school_number_to_name[placement[\u001B[38;5;124m'\u001B[39m\u001B[38;5;124mteam\u001B[39m\u001B[38;5;124m'\u001B[39m]]] \u001B[38;5;241m=\u001B[39m \u001B[38;5;28mmin\u001B[39m(results[school_number_to_name[placement[\u001B[38;5;124m'\u001B[39m\u001B[38;5;124mteam\u001B[39m\u001B[38;5;124m'\u001B[39m]]], placement[\u001B[38;5;124m'\u001B[39m\u001B[38;5;124mplace\u001B[39m\u001B[38;5;124m'\u001B[39m]) \u001B[38;5;28;01mif\u001B[39;00m \u001B[38;5;129;01mnot\u001B[39;00m placement\u001B[38;5;241m.\u001B[39mget(\u001B[38;5;124m'\u001B[39m\u001B[38;5;124mtrial\u001B[39m\u001B[38;5;124m'\u001B[39m, \u001B[38;5;28;01mFalse\u001B[39;00m) \u001B[38;5;28;01melse\u001B[39;00m \u001B[38;5;241m0\u001B[39m\n\u001B[0;32m      4\u001B[0m \u001B[38;5;28mprint\u001B[39m([(school, \u001B[38;5;28msum\u001B[39m(results[school])) \u001B[38;5;28;01mfor\u001B[39;00m school \u001B[38;5;129;01min\u001B[39;00m schools])\n",
      "\u001B[1;31mTypeError\u001B[0m: 'NoneType' object is not iterable"
     ]
    }
   ],
   "source": [
    "for placement in data.get(\"Placements\"):\n",
    "    results[school_number_to_name[placement['team']]] = min(results[school_number_to_name[placement['team']]], placement['place']) if not placement.get('trial', False) else 0\n",
    "    \n",
    "print([(school, sum(results[school])) for school in schools])\n",
    "    "
   ],
   "metadata": {
    "collapsed": false,
    "ExecuteTime": {
     "end_time": "2023-12-04T06:32:04.530616700Z",
     "start_time": "2023-12-04T06:32:04.459793800Z"
    }
   },
   "id": "3e8661dbef748857"
  }
 ],
 "metadata": {
  "kernelspec": {
   "display_name": "Python 3",
   "language": "python",
   "name": "python3"
  },
  "language_info": {
   "codemirror_mode": {
    "name": "ipython",
    "version": 2
   },
   "file_extension": ".py",
   "mimetype": "text/x-python",
   "name": "python",
   "nbconvert_exporter": "python",
   "pygments_lexer": "ipython2",
   "version": "2.7.6"
  }
 },
 "nbformat": 4,
 "nbformat_minor": 5
}
