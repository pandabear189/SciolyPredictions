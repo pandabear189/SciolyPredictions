{
 "cells": [
  {
   "cell_type": "code",
   "execution_count": 7,
   "id": "initial_id",
   "metadata": {
    "collapsed": true,
    "ExecuteTime": {
     "end_time": "2023-12-07T03:48:48.853879400Z",
     "start_time": "2023-12-07T03:48:48.258447700Z"
    }
   },
   "outputs": [],
   "source": [
    "from __future__ import annotations\n",
    "\n",
    "import typing\n",
    "\n",
    "import yaml\n",
    "import numpy as np\n",
    "\n",
    "import utils\n",
    "\n",
    "with open(\"data/2023-02-04_solon_invitational_c.yaml\", 'r') as file:\n",
    "    data = yaml.safe_load(file)\n"
   ]
  },
  {
   "cell_type": "code",
   "execution_count": 8,
   "outputs": [],
   "source": [
    "team_list: list[dict[str, str | int]] = sorted(data.get(\"Teams\"), key=lambda x: x['number'])  \n",
    "teams: dict[int, str] = {team['number']: (team['school'] + \"|\" + team.get('suffix', \"\")) for team in team_list} # team number : team name\n",
    "\n",
    "# Event Order (0-indexed)\n",
    "events = [event['name'] for event in data.get('Events')]"
   ],
   "metadata": {
    "collapsed": false,
    "ExecuteTime": {
     "end_time": "2023-12-07T03:48:48.866068200Z",
     "start_time": "2023-12-07T03:48:48.856034200Z"
    }
   },
   "id": "bc86541554e81385"
  },
  {
   "cell_type": "code",
   "execution_count": 9,
   "outputs": [
    {
     "data": {
      "text/plain": "{'Adlai E. Stevenson High School|Gold': [2,\n  4,\n  2,\n  9,\n  1,\n  1,\n  5,\n  2,\n  10,\n  3,\n  23,\n  5,\n  38,\n  11,\n  2,\n  11,\n  2,\n  7,\n  2,\n  5,\n  14,\n  12,\n  15],\n 'Adlai E. Stevenson High School|Green': [10,\n  7,\n  17,\n  2,\n  12,\n  9,\n  7,\n  27,\n  15,\n  13,\n  2,\n  9,\n  22,\n  22,\n  10,\n  15,\n  3,\n  24,\n  16,\n  32,\n  43,\n  14,\n  33],\n 'Archbishop Hoban High School|Blue': [48,\n  21,\n  49,\n  36,\n  47,\n  55,\n  44,\n  46,\n  37,\n  44,\n  41,\n  11,\n  32,\n  52,\n  50,\n  53,\n  28,\n  51,\n  39,\n  47,\n  38,\n  33,\n  23],\n 'Archbishop Hoban High School|Gold': [67,\n  67,\n  67,\n  67,\n  67,\n  67,\n  67,\n  67,\n  67,\n  67,\n  67,\n  67,\n  67,\n  50,\n  67,\n  67,\n  67,\n  67,\n  67,\n  67,\n  67,\n  67,\n  67],\n 'Athens Area High School|': [67,\n  67,\n  67,\n  67,\n  67,\n  67,\n  67,\n  67,\n  67,\n  67,\n  67,\n  67,\n  67,\n  67,\n  67,\n  67,\n  67,\n  67,\n  67,\n  67,\n  67,\n  67,\n  67],\n 'Beachwood High School|Gold': [24,\n  42,\n  16,\n  10,\n  23,\n  15,\n  8,\n  12,\n  27,\n  31,\n  40,\n  10,\n  45,\n  1,\n  12,\n  1,\n  18,\n  3,\n  24,\n  22,\n  7,\n  8,\n  58],\n 'Beachwood High School|White': [21,\n  51,\n  7,\n  35,\n  67,\n  67,\n  67,\n  18,\n  67,\n  67,\n  9,\n  54,\n  8,\n  67,\n  67,\n  67,\n  67,\n  67,\n  35,\n  67,\n  67,\n  67,\n  47],\n 'Boyceville High School|JV': [32,\n  36,\n  5,\n  47,\n  52,\n  53,\n  27,\n  52,\n  45,\n  67,\n  32,\n  53,\n  10,\n  28,\n  31,\n  52,\n  36,\n  43,\n  47,\n  11,\n  1,\n  26,\n  12],\n 'Boyceville High School|Varsity': [42,\n  67,\n  21,\n  67,\n  67,\n  67,\n  34,\n  67,\n  67,\n  67,\n  55,\n  55,\n  39,\n  67,\n  67,\n  67,\n  67,\n  67,\n  67,\n  18,\n  67,\n  5,\n  34],\n 'Brecksville-Broadview Heights High School|': [50,\n  12,\n  44,\n  45,\n  37,\n  47,\n  67,\n  34,\n  42,\n  67,\n  46,\n  42,\n  34,\n  47,\n  42,\n  45,\n  38,\n  45,\n  18,\n  67,\n  67,\n  47,\n  35],\n 'Canal Winchester High School|': [45,\n  14,\n  51,\n  54,\n  43,\n  45,\n  67,\n  50,\n  48,\n  67,\n  39,\n  24,\n  49,\n  67,\n  42,\n  50,\n  48,\n  32,\n  49,\n  10,\n  24,\n  32,\n  55],\n 'Centerville High School|Black': [20,\n  15,\n  1,\n  27,\n  8,\n  16,\n  14,\n  21,\n  11,\n  11,\n  1,\n  17,\n  12,\n  2,\n  6,\n  19,\n  16,\n  1,\n  6,\n  13,\n  21,\n  6,\n  42],\n 'Centerville High School|Gold': [28,\n  28,\n  6,\n  26,\n  14,\n  28,\n  10,\n  37,\n  22,\n  24,\n  3,\n  31,\n  25,\n  37,\n  25,\n  40,\n  7,\n  46,\n  21,\n  15,\n  19,\n  7,\n  56],\n 'Centerville High School|White': [4,\n  45,\n  11,\n  20,\n  15,\n  32,\n  32,\n  32,\n  26,\n  39,\n  30,\n  40,\n  6,\n  27,\n  11,\n  44,\n  29,\n  14,\n  17,\n  17,\n  45,\n  27,\n  1],\n 'Chardon High School|': [37,\n  29,\n  41,\n  33,\n  30,\n  56,\n  37,\n  19,\n  21,\n  36,\n  35,\n  28,\n  26,\n  19,\n  17,\n  18,\n  33,\n  11,\n  8,\n  41,\n  44,\n  22,\n  6],\n 'Cleveland Heights High School|': [55,\n  44,\n  67,\n  40,\n  67,\n  33,\n  67,\n  67,\n  34,\n  67,\n  52,\n  67,\n  67,\n  46,\n  67,\n  48,\n  67,\n  67,\n  53,\n  67,\n  67,\n  67,\n  11],\n 'Columbus Academy|': [52,\n  67,\n  67,\n  67,\n  45,\n  52,\n  67,\n  67,\n  67,\n  41,\n  67,\n  67,\n  67,\n  42,\n  67,\n  67,\n  67,\n  67,\n  67,\n  35,\n  47,\n  67,\n  45],\n 'Cumberland Valley High School|X': [6,\n  13,\n  4,\n  8,\n  13,\n  7,\n  9,\n  5,\n  9,\n  14,\n  19,\n  8,\n  14,\n  12,\n  5,\n  6,\n  9,\n  13,\n  11,\n  3,\n  2,\n  19,\n  44],\n 'Cumberland Valley High School|Y': [11,\n  8,\n  9,\n  18,\n  24,\n  23,\n  23,\n  20,\n  18,\n  19,\n  16,\n  7,\n  13,\n  36,\n  4,\n  10,\n  10,\n  39,\n  15,\n  9,\n  35,\n  16,\n  22],\n 'duPont Manual High School|Red': [1,\n  2,\n  13,\n  1,\n  4,\n  12,\n  2,\n  3,\n  1,\n  2,\n  24,\n  43,\n  19,\n  24,\n  37,\n  8,\n  27,\n  2,\n  12,\n  8,\n  17,\n  15,\n  9],\n 'duPont Manual High School|White': [5,\n  23,\n  25,\n  12,\n  10,\n  30,\n  26,\n  30,\n  13,\n  16,\n  44,\n  14,\n  44,\n  67,\n  19,\n  17,\n  34,\n  40,\n  32,\n  33,\n  3,\n  18,\n  5],\n 'Granville High School|': [67,\n  67,\n  32,\n  67,\n  67,\n  44,\n  19,\n  67,\n  67,\n  67,\n  53,\n  18,\n  29,\n  26,\n  67,\n  56,\n  1,\n  34,\n  67,\n  14,\n  40,\n  20,\n  67],\n 'Hawken School|': [39,\n  37,\n  28,\n  7,\n  42,\n  51,\n  20,\n  28,\n  17,\n  42,\n  26,\n  36,\n  50,\n  18,\n  22,\n  47,\n  15,\n  10,\n  22,\n  39,\n  28,\n  38,\n  28],\n 'Hudson High School|Blue': [33,\n  54,\n  31,\n  30,\n  39,\n  17,\n  17,\n  26,\n  8,\n  21,\n  8,\n  25,\n  24,\n  3,\n  8,\n  23,\n  43,\n  20,\n  44,\n  25,\n  20,\n  34,\n  24],\n 'Hudson High School|White': [38,\n  39,\n  29,\n  39,\n  48,\n  20,\n  45,\n  40,\n  35,\n  43,\n  49,\n  19,\n  42,\n  48,\n  40,\n  42,\n  40,\n  38,\n  23,\n  40,\n  67,\n  43,\n  10],\n 'International Academy Central|': [12,\n  27,\n  47,\n  28,\n  3,\n  5,\n  15,\n  8,\n  39,\n  15,\n  27,\n  22,\n  33,\n  35,\n  47,\n  43,\n  31,\n  48,\n  34,\n  45,\n  12,\n  21,\n  31],\n 'International Academy Central|JV': [30,\n  50,\n  48,\n  52,\n  17,\n  40,\n  30,\n  41,\n  43,\n  35,\n  47,\n  46,\n  43,\n  30,\n  40,\n  36,\n  45,\n  49,\n  52,\n  30,\n  46,\n  45,\n  51],\n 'Kenston High School|Blue': [23,\n  38,\n  27,\n  23,\n  28,\n  29,\n  29,\n  35,\n  23,\n  37,\n  25,\n  23,\n  7,\n  16,\n  21,\n  4,\n  13,\n  27,\n  13,\n  36,\n  49,\n  1,\n  38],\n 'Kenston High School|Bombers': [17,\n  26,\n  36,\n  43,\n  32,\n  37,\n  18,\n  11,\n  24,\n  38,\n  18,\n  39,\n  21,\n  33,\n  36,\n  21,\n  23,\n  19,\n  33,\n  67,\n  37,\n  25,\n  2],\n 'Kenston High School|White': [67,\n  67,\n  67,\n  67,\n  67,\n  67,\n  67,\n  67,\n  67,\n  67,\n  67,\n  67,\n  67,\n  67,\n  67,\n  67,\n  67,\n  67,\n  67,\n  42,\n  67,\n  67,\n  67],\n 'Mason High School|Green': [3,\n  11,\n  20,\n  3,\n  7,\n  11,\n  22,\n  6,\n  3,\n  7,\n  28,\n  4,\n  37,\n  6,\n  9,\n  13,\n  17,\n  17,\n  5,\n  1,\n  8,\n  4,\n  16],\n 'Mason High School|White': [13,\n  3,\n  3,\n  5,\n  44,\n  3,\n  6,\n  13,\n  19,\n  10,\n  37,\n  1,\n  31,\n  13,\n  22,\n  5,\n  6,\n  25,\n  10,\n  7,\n  11,\n  10,\n  21],\n 'Mayfield High School|Green': [7,\n  40,\n  42,\n  11,\n  25,\n  26,\n  40,\n  9,\n  12,\n  18,\n  17,\n  15,\n  20,\n  15,\n  15,\n  14,\n  24,\n  12,\n  27,\n  21,\n  22,\n  11,\n  14],\n 'Mayfield High School|White': [31,\n  16,\n  39,\n  37,\n  67,\n  48,\n  43,\n  24,\n  38,\n  27,\n  50,\n  45,\n  36,\n  45,\n  32,\n  27,\n  47,\n  41,\n  29,\n  67,\n  67,\n  30,\n  27],\n 'Medina High School|': [51,\n  52,\n  35,\n  38,\n  51,\n  54,\n  42,\n  43,\n  50,\n  17,\n  45,\n  30,\n  17,\n  34,\n  49,\n  33,\n  25,\n  26,\n  28,\n  44,\n  36,\n  40,\n  40],\n 'Mentor High School|Gray': [41,\n  24,\n  40,\n  19,\n  31,\n  6,\n  16,\n  15,\n  32,\n  22,\n  20,\n  38,\n  5,\n  14,\n  17,\n  20,\n  21,\n  33,\n  36,\n  2,\n  34,\n  31,\n  18],\n 'Mentor High School|Red': [40,\n  32,\n  30,\n  41,\n  21,\n  25,\n  39,\n  16,\n  47,\n  26,\n  38,\n  49,\n  1,\n  38,\n  14,\n  35,\n  35,\n  37,\n  41,\n  16,\n  41,\n  41,\n  49],\n 'New Albany High School|JV': [22,\n  22,\n  37,\n  53,\n  20,\n  18,\n  67,\n  36,\n  40,\n  25,\n  33,\n  50,\n  23,\n  32,\n  44,\n  54,\n  37,\n  21,\n  45,\n  33,\n  13,\n  37,\n  7],\n 'New Albany High School|Varsity': [9,\n  19,\n  10,\n  6,\n  9,\n  19,\n  24,\n  17,\n  14,\n  12,\n  12,\n  6,\n  9,\n  43,\n  16,\n  22,\n  8,\n  6,\n  14,\n  19,\n  15,\n  24,\n  53],\n 'New Trier High School|Bass Fishing': [18,\n  1,\n  67,\n  21,\n  2,\n  4,\n  1,\n  4,\n  2,\n  1,\n  10,\n  3,\n  15,\n  8,\n  7,\n  3,\n  5,\n  4,\n  3,\n  24,\n  29,\n  13,\n  19],\n 'New Trier High School|Bowling': [34,\n  31,\n  38,\n  15,\n  18,\n  8,\n  33,\n  22,\n  6,\n  29,\n  22,\n  16,\n  30,\n  21,\n  13,\n  7,\n  44,\n  15,\n  7,\n  43,\n  42,\n  35,\n  39],\n 'New Trier High School|E-sports': [44,\n  48,\n  67,\n  67,\n  67,\n  67,\n  67,\n  67,\n  67,\n  67,\n  67,\n  48,\n  67,\n  67,\n  67,\n  55,\n  67,\n  67,\n  67,\n  67,\n  67,\n  67,\n  67],\n 'Northmont High School|Thunder': [49,\n  17,\n  23,\n  49,\n  26,\n  27,\n  35,\n  44,\n  33,\n  46,\n  31,\n  20,\n  41,\n  39,\n  44,\n  41,\n  42,\n  36,\n  25,\n  31,\n  9,\n  17,\n  30],\n 'Northville High School|': [67,\n  67,\n  67,\n  67,\n  67,\n  67,\n  67,\n  67,\n  67,\n  67,\n  67,\n  67,\n  67,\n  67,\n  67,\n  67,\n  67,\n  67,\n  67,\n  67,\n  67,\n  67,\n  67],\n 'Olentangy Orange High School|A': [54,\n  41,\n  33,\n  50,\n  16,\n  22,\n  28,\n  38,\n  16,\n  30,\n  6,\n  37,\n  27,\n  9,\n  37,\n  24,\n  30,\n  16,\n  37,\n  45,\n  18,\n  29,\n  48],\n 'Olentangy Orange High School|B': [53,\n  43,\n  19,\n  34,\n  38,\n  24,\n  31,\n  42,\n  36,\n  40,\n  48,\n  51,\n  40,\n  49,\n  48,\n  34,\n  46,\n  35,\n  42,\n  28,\n  23,\n  67,\n  43],\n 'Olentangy Orange High School|C': [47,\n  53,\n  34,\n  42,\n  33,\n  43,\n  67,\n  33,\n  49,\n  67,\n  36,\n  34,\n  53,\n  51,\n  44,\n  25,\n  67,\n  47,\n  51,\n  48,\n  67,\n  67,\n  36],\n 'Orange High School|': [46,\n  67,\n  67,\n  44,\n  67,\n  46,\n  67,\n  49,\n  67,\n  67,\n  67,\n  67,\n  67,\n  67,\n  67,\n  67,\n  67,\n  67,\n  67,\n  67,\n  67,\n  67,\n  52],\n 'Pioneer High School|': [16,\n  20,\n  45,\n  17,\n  6,\n  10,\n  12,\n  7,\n  4,\n  8,\n  14,\n  26,\n  46,\n  4,\n  28,\n  12,\n  14,\n  5,\n  9,\n  29,\n  10,\n  9,\n  8],\n 'Saint Ignatius High School|Blue': [29,\n  46,\n  24,\n  24,\n  34,\n  34,\n  47,\n  25,\n  25,\n  23,\n  11,\n  33,\n  48,\n  25,\n  32,\n  46,\n  32,\n  29,\n  30,\n  26,\n  31,\n  44,\n  41],\n 'Saint Ignatius High School|Gold': [67,\n  67,\n  67,\n  51,\n  36,\n  36,\n  67,\n  67,\n  67,\n  67,\n  67,\n  52,\n  67,\n  67,\n  67,\n  38,\n  11,\n  67,\n  38,\n  67,\n  67,\n  67,\n  46],\n 'Saline High School|Blue': [19,\n  6,\n  12,\n  22,\n  22,\n  21,\n  13,\n  29,\n  31,\n  20,\n  4,\n  27,\n  28,\n  29,\n  22,\n  32,\n  22,\n  23,\n  26,\n  4,\n  5,\n  23,\n  17],\n 'Saline High School|Gold': [67,\n  35,\n  67,\n  32,\n  49,\n  38,\n  67,\n  47,\n  67,\n  32,\n  29,\n  47,\n  18,\n  31,\n  67,\n  37,\n  67,\n  44,\n  67,\n  67,\n  32,\n  67,\n  37],\n 'St. Edward High School|': [27,\n  33,\n  46,\n  46,\n  29,\n  41,\n  25,\n  45,\n  29,\n  6,\n  34,\n  41,\n  11,\n  40,\n  32,\n  39,\n  20,\n  42,\n  46,\n  49,\n  30,\n  36,\n  3],\n 'Stow-Munroe Falls High School|': [67,\n  47,\n  67,\n  55,\n  41,\n  57,\n  36,\n  51,\n  44,\n  34,\n  54,\n  57,\n  47,\n  53,\n  28,\n  49,\n  41,\n  30,\n  40,\n  20,\n  48,\n  46,\n  20],\n 'Thomas Worthington High School|': [35,\n  25,\n  50,\n  25,\n  11,\n  31,\n  46,\n  53,\n  51,\n  28,\n  42,\n  21,\n  67,\n  67,\n  28,\n  29,\n  39,\n  31,\n  31,\n  67,\n  27,\n  42,\n  50],\n 'Westlake High School|White': [43,\n  30,\n  26,\n  29,\n  50,\n  35,\n  41,\n  48,\n  30,\n  67,\n  51,\n  13,\n  35,\n  23,\n  27,\n  16,\n  67,\n  28,\n  19,\n  37,\n  39,\n  48,\n  29],\n 'Westlake High School|Green': [15,\n  10,\n  8,\n  16,\n  19,\n  13,\n  3,\n  23,\n  20,\n  9,\n  21,\n  32,\n  52,\n  7,\n  35,\n  26,\n  19,\n  9,\n  4,\n  38,\n  25,\n  39,\n  54],\n 'Whitney M. Young Magnet High School|A': [67,\n  67,\n  67,\n  67,\n  67,\n  67,\n  67,\n  67,\n  67,\n  67,\n  67,\n  67,\n  67,\n  67,\n  67,\n  67,\n  67,\n  67,\n  67,\n  67,\n  67,\n  67,\n  67],\n 'Whitney M. Young Magnet High School|B': [67,\n  67,\n  67,\n  67,\n  67,\n  67,\n  67,\n  67,\n  67,\n  67,\n  67,\n  67,\n  67,\n  67,\n  67,\n  67,\n  67,\n  67,\n  67,\n  67,\n  67,\n  67,\n  67],\n 'Worthington Kilbourne High School|': [67,\n  55,\n  43,\n  56,\n  46,\n  49,\n  67,\n  67,\n  46,\n  45,\n  43,\n  44,\n  51,\n  44,\n  51,\n  51,\n  67,\n  67,\n  48,\n  67,\n  33,\n  67,\n  57],\n 'Fairview High School|': [26,\n  49,\n  67,\n  48,\n  67,\n  42,\n  67,\n  39,\n  41,\n  67,\n  5,\n  56,\n  67,\n  41,\n  20,\n  31,\n  67,\n  50,\n  50,\n  67,\n  67,\n  67,\n  25],\n 'Solon High School|A': [8,\n  5,\n  15,\n  14,\n  5,\n  2,\n  4,\n  1,\n  5,\n  4,\n  7,\n  2,\n  4,\n  5,\n  1,\n  9,\n  4,\n  8,\n  1,\n  6,\n  6,\n  2,\n  4],\n 'Solon High School|B': [14,\n  18,\n  14,\n  4,\n  27,\n  14,\n  38,\n  10,\n  28,\n  5,\n  13,\n  35,\n  3,\n  10,\n  3,\n  2,\n  12,\n  18,\n  20,\n  27,\n  26,\n  3,\n  13],\n 'Solon High School|C': [36,\n  9,\n  22,\n  13,\n  40,\n  50,\n  21,\n  14,\n  7,\n  33,\n  15,\n  12,\n  16,\n  20,\n  39,\n  28,\n  26,\n  22,\n  43,\n  12,\n  16,\n  28,\n  26],\n 'Solon High School|D': [25,\n  34,\n  18,\n  31,\n  35,\n  39,\n  11,\n  31,\n  67,\n  67,\n  67,\n  29,\n  2,\n  17,\n  26,\n  30,\n  67,\n  67,\n  67,\n  23,\n  4,\n  67,\n  32]}"
     },
     "execution_count": 9,
     "metadata": {},
     "output_type": "execute_result"
    }
   ],
   "source": [
    "trial_events = [d['name'] for d in data.get('Events') if d.get('trial', False)]\n",
    "total_scores: dict[str, int] = {t: 0 for t in teams} # team number : total score (sum) \n",
    "full_scores: dict[int, list[int]] = {t: [] for t in teams} # full array of scores for each team\n",
    "\n",
    "for placement in data.get('Placings'):\n",
    "    total_scores[placement['team']] += placement.get('place', len(teams)) if not placement['event'] in trial_events else 0\n",
    "    full_scores[placement['team']].append(placement.get('place', len(teams))) if not placement['event'] in trial_events else 0\n",
    "\n",
    "utils.pretty_print(teams, full_scores)"
   ],
   "metadata": {
    "collapsed": false,
    "ExecuteTime": {
     "end_time": "2023-12-07T03:48:48.918875100Z",
     "start_time": "2023-12-07T03:48:48.870572400Z"
    }
   },
   "id": "3e8661dbef748857"
  },
  {
   "cell_type": "code",
   "execution_count": null,
   "outputs": [],
   "source": [],
   "metadata": {
    "collapsed": false
   },
   "id": "17cead96ab393de1"
  }
 ],
 "metadata": {
  "kernelspec": {
   "display_name": "Python 3",
   "language": "python",
   "name": "python3"
  },
  "language_info": {
   "codemirror_mode": {
    "name": "ipython",
    "version": 2
   },
   "file_extension": ".py",
   "mimetype": "text/x-python",
   "name": "python",
   "nbconvert_exporter": "python",
   "pygments_lexer": "ipython2",
   "version": "2.7.6"
  }
 },
 "nbformat": 4,
 "nbformat_minor": 5
}
