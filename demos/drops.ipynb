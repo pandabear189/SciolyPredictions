{
 "cells": [
  {
   "cell_type": "markdown",
   "id": "8c14d85bfc3cfff8",
   "metadata": {
    "collapsed": false
   },
   "source": [
    "# Setup/Imports"
   ]
  },
  {
   "cell_type": "code",
   "execution_count": 37,
   "id": "35c184f9ceb9fffe",
   "metadata": {
    "collapsed": false,
    "ExecuteTime": {
     "end_time": "2023-12-29T20:37:14.661047Z",
     "start_time": "2023-12-29T20:37:13.933239800Z"
    }
   },
   "outputs": [],
   "source": [
    "%%capture\n",
    "from src import StdDeviation, Mean, Iqr\n",
    "\n",
    "drop_model = StdDeviation(\n",
    "    file_path=\"../data/2023-02-18_penn_invitational_c.yaml\", alpha=2.5\n",
    ")"
   ]
  },
  {
   "cell_type": "markdown",
   "source": [
    "The code for the [`Drops`](../src/drops.py) class subclasses [`Results`](../utils/results.py) and is shown below:\n",
    "```python\n",
    "class Results:\n",
    "    ...\n",
    "    @property\n",
    "    def teams(self) -> list[int]:\n",
    "        ...\n",
    "    @property\n",
    "    def teams_data(self) -> list[dict[str, str | int]]:\n",
    "        ...\n",
    "    @property\n",
    "    def events(self) -> list[str]:\n",
    "        ...\n",
    "    @property\n",
    "    def trial_events(self) -> list[str]:\n",
    "        ...\n",
    "    @property\n",
    "    def score_sum(self) -> dict[int, int]:\n",
    "        ...\n",
    "    @property\n",
    "    def full_scores(self) -> dict[int, list[int]]:\n",
    "        ...\n",
    "    @property\n",
    "    def averages(self) -> dict[int, float]:\n",
    "        ...\n",
    "\n",
    "```\n",
    "```python\n",
    "class Drops(Results):\n",
    "    def drop(self) -> None:\n",
    "        \"\"\"Drops the \"bombed\" events from the scores\"\"\"\n",
    "        ...\n",
    "    def visualize(self) -> None:\n",
    "        \"\"\"Visualizes the data\"\"\"\n",
    "        ...\n",
    "    \n",
    "```"
   ],
   "metadata": {
    "collapsed": false
   },
   "id": "bfc9eb0ac26a1c15"
  },
  {
   "cell_type": "markdown",
   "source": [
    "## Average Score Per School\n",
    "##### $\\frac{1}{n} \\cdot \\sum ^n s_e$\n",
    "*where $n$ is the number of events and $s_e$ is the score of event $e$*"
   ],
   "metadata": {
    "collapsed": false
   },
   "id": "686fbc16fd1d60d9"
  },
  {
   "cell_type": "code",
   "execution_count": 38,
   "outputs": [
    {
     "name": "stdout",
     "output_type": "stream",
     "text": [
      "Average score per school: \n",
      "1. Adlai E. Stevenson High School Green: 8.347826086956522\n",
      "2. West Windsor-Plainsboro High School North A: 9.173913043478262\n",
      "3. Montgomery High School A: 10.08695652173913\n",
      "4. William G. Enloe High School : 11.043478260869565\n",
      "5. West Windsor-Plainsboro High School South A: 11.608695652173912\n",
      "6. Ward Melville High School Varsity: 11.782608695652174\n",
      "7. Great Neck South High School : 12.173913043478262\n",
      "8. Syosset High School : 12.608695652173912\n",
      "9. Lower Merion High School Goals: 12.826086956521738\n",
      "10. Centennial High School : 13.434782608695652\n",
      "11. Cumberland Valley High School X: 15.91304347826087\n",
      "12. Harriton High School B: 16.130434782608695\n",
      "13. Harriton High School A: 17.17391304347826\n",
      "14. East Brunswick High School : 18.47826086956522\n",
      "15. Cumberland Valley High School Y: 19.304347826086957\n",
      "16. South Brunswick High School Eucalyptus: 19.304347826086957\n",
      "17. John Jay High School A: 19.869565217391305\n",
      "18. West Windsor-Plainsboro High School North B: 19.956521739130434\n",
      "19. Montgomery High School B: 20.608695652173914\n",
      "20. Chaminade High School Flyers: 21.304347826086957\n",
      "21. West Windsor-Plainsboro High School South B: 22.17391304347826\n",
      "22. Penncrest High School : 22.304347826086957\n",
      "23. Adlai E. Stevenson High School Gold: 22.52173913043478\n",
      "24. Northridge High School Green: 23.782608695652176\n",
      "25. Columbia High School White: 24.608695652173914\n",
      "26. North Pocono High School Red: 25.043478260869566\n",
      "27. Ward Melville High School Junior Varsity: 26.304347826086957\n",
      "28. Fairfax High School Blue: 27.391304347826086\n",
      "29. Bayard Rustin High School Blue: 27.82608695652174\n",
      "30. Fairfax High School Gray: 28.956521739130434\n",
      "31. Ed W. Clark High School Gold: 29.47826086956522\n",
      "32. Garnet Valley High School A: 30.26086956521739\n",
      "33. South Brunswick High School Fan Palm: 31.347826086956523\n",
      "34. Lower Merion High School Aspirations: 31.82608695652174\n",
      "35. Northridge High School Gold: 32.30434782608695\n",
      "36. Charter School of Wilmington A: 34.52173913043478\n",
      "37. Shipley School : 35.34782608695652\n",
      "38. North Penn High School A: 36.56521739130435\n",
      "39. Ed W. Clark High School Orange: 37.130434782608695\n",
      "40. Cherry Hill High School East 1: 37.65217391304348\n",
      "41. North Pocono High School White: 38.73913043478261\n",
      "42. West Chester East High School : 40.21739130434783\n",
      "43. Haverford High School : 41.04347826086956\n",
      "44. Central High School : 42.69565217391305\n",
      "45. Allentown Central Catholic High School Gold: 43.34782608695652\n",
      "46. North Penn High School B: 43.73913043478261\n",
      "47. Charter School of Wilmington B: 44.21739130434783\n",
      "48. Garnet Valley High School B: 44.95652173913044\n",
      "49. Cherry Hill High School East 2: 45.43478260869565\n",
      "50. Bayard Rustin High School Gold: 45.69565217391305\n",
      "51. John Jay High School B: 45.73913043478261\n",
      "52. JR Masterman School 1: 45.78260869565217\n",
      "53. Parsippany High School : 47.08695652173913\n",
      "54. Allentown Central Catholic High School Green: 49.47826086956522\n",
      "55. Kingsway Regional High School Dragons: 50.34782608695652\n",
      "56. Philadelphia High School for Girls : 50.78260869565217\n",
      "57. JR Masterman School 2: 55.95652173913044\n"
     ]
    }
   ],
   "source": [
    "print(\"Average score per school: \")\n",
    "for i, (t_number, score) in enumerate(\n",
    "    sorted(drop_model.averages.items(), key=lambda item: item[1])\n",
    "):\n",
    "    print(f\"{i+1}. {drop_model.teams[t_number]}: {score}\")"
   ],
   "metadata": {
    "collapsed": false,
    "ExecuteTime": {
     "end_time": "2023-12-29T20:37:14.678919100Z",
     "start_time": "2023-12-29T20:37:14.665073600Z"
    }
   },
   "id": "bfe574e306c4d738"
  },
  {
   "cell_type": "markdown",
   "source": [
    "# Distinguishing \"Bombed\" Events\n",
    "### Using the following methods to determine \"bombed\" events:\n",
    "##### These values become the upper fence for the data\n",
    "- Mean\n",
    "- IQR\n",
    "- Standard Deviation\n",
    "\n",
    "##### We then take the $\\sum{b_n}$ sum of bombed events of team $n$ and divide by $T$ (number of teams) to get the average number of \"bombed\" events per team. \n",
    "*These values can be adjusted via a multiplicative constant $\\alpha$*"
   ],
   "metadata": {
    "collapsed": false
   },
   "id": "e03e01c80a6d3cb7"
  },
  {
   "cell_type": "markdown",
   "source": [
    "### [Mean Method](../src/mean.py)\n",
    "#### $\\alpha \\cdot \\overline{X}$\n",
    "*where $\\overline{X}$ is the mean of the data and $\\alpha$ is a multiplicative constant*"
   ],
   "metadata": {
    "collapsed": false
   },
   "id": "8ae06a38b271b960"
  },
  {
   "cell_type": "code",
   "execution_count": 39,
   "outputs": [],
   "source": [
    "%%capture\n",
    "# redefine our model to use this method\n",
    "mean_model = Mean(file_path=\"../data/2023-05-20_nationals_c.yaml\", alpha=2)\n",
    "mean_model.drop()"
   ],
   "metadata": {
    "collapsed": false,
    "ExecuteTime": {
     "end_time": "2023-12-29T20:37:15.434152600Z",
     "start_time": "2023-12-29T20:37:14.678919100Z"
    }
   },
   "id": "834164a368868bc1"
  },
  {
   "cell_type": "markdown",
   "source": [
    "### [IQR Method - Standard Outlier Formula](../src/iqr.py)\n",
    "#### $\\alpha \\cdot (Q_3 - Q_1) + Q_3$ &nbsp; (IQR)\n",
    "*where $Q_3$ is the third quartile and $Q_1$ is the first quartile*\n",
    "*Here we follow the standard outlier formula where $\\alpha \\equals 1.5$*"
   ],
   "metadata": {
    "collapsed": false
   },
   "id": "3ab2dd5968448b6e"
  },
  {
   "cell_type": "code",
   "execution_count": 40,
   "outputs": [],
   "source": [
    "%%capture\n",
    "# redefine our model to use this method\n",
    "iqr_model = Iqr(file_path=\"../data/2023-05-20_nationals_c.yaml\", alpha=1.5)\n",
    "iqr_model.drop()"
   ],
   "metadata": {
    "collapsed": false,
    "ExecuteTime": {
     "end_time": "2023-12-29T20:37:16.146713600Z",
     "start_time": "2023-12-29T20:37:15.436153Z"
    }
   },
   "id": "6cc22dd35bd4041b"
  },
  {
   "cell_type": "markdown",
   "source": [
    "### [Standard Deviation Method](../src/stddeviation.py) \n",
    "#### $\\alpha \\cdot \\sigma + \\overline{X} $\n",
    "*$\\sigma$ is the standard deviation of the data, $\\overline{X}$ is the mean of the data, and $\\alpha$ is a multiplicative constant*"
   ],
   "metadata": {
    "collapsed": false
   },
   "id": "72c4071390a22ef0"
  },
  {
   "cell_type": "code",
   "execution_count": 41,
   "outputs": [],
   "source": [
    "%%capture\n",
    "# redefine our model to use this method\n",
    "std_dev_model = StdDeviation(file_path=\"../data/2023-05-20_nationals_c.yaml\", alpha=1.5)\n",
    "std_dev_model.drop()"
   ],
   "metadata": {
    "collapsed": false,
    "ExecuteTime": {
     "end_time": "2023-12-29T20:37:17.005743200Z",
     "start_time": "2023-12-29T20:37:16.149614700Z"
    }
   },
   "id": "7547b3b58c508cee"
  },
  {
   "cell_type": "markdown",
   "source": [
    "## Consistent Flaws\n",
    "All of these methods are too sensitive to \"top\" teams while do not account nearly as well for lower ranked teams. A possible solution would be a scalar multiplier based on the team's rank. This would have a greater account for bombs even when the mean/median place on a team is lower. "
   ],
   "metadata": {
    "collapsed": false
   },
   "id": "4dd2768f4c1749a2"
  },
  {
   "cell_type": "markdown",
   "source": [
    "## Calculating Bombed Events\n",
    "Using the standard deviation method with $\\alpha = 1.5$ to determine \"bombed\" events as a demonstration\n"
   ],
   "metadata": {
    "collapsed": false
   },
   "id": "dc791eecd885c4dd"
  },
  {
   "cell_type": "code",
   "execution_count": 42,
   "outputs": [],
   "source": [
    "%%capture\n",
    "std_dev_model = StdDeviation(\n",
    "    file_path=\"../data/2023-02-18_penn_invitational_c.yaml\", alpha=1.5\n",
    ")\n",
    "std_dev_model.drop()"
   ],
   "metadata": {
    "collapsed": false,
    "ExecuteTime": {
     "end_time": "2023-12-29T20:37:17.683401Z",
     "start_time": "2023-12-29T20:37:17.010111100Z"
    }
   },
   "id": "60ee2ba6a57560cc"
  },
  {
   "cell_type": "code",
   "execution_count": 43,
   "outputs": [
    {
     "name": "stdout",
     "output_type": "stream",
     "text": [
      "Adlai E. Stevenson High School Green: [Fermi Questions, Scrambler, Trajectory]\n",
      "Adlai E. Stevenson High School Gold: [Flight, WiFi Lab]\n",
      "Allentown Central Catholic High School Gold: [None]\n",
      "Allentown Central Catholic High School Green: [None]\n",
      "Bayard Rustin High School Blue: [Cell Biology, Environmental Chemistry, Fermi Questions]\n",
      "Bayard Rustin High School Gold: [None]\n",
      "Centennial High School : [Rocks and Minerals]\n",
      "Central High School : [None]\n",
      "Cherry Hill High School East 1: [Flight, Forensics]\n",
      "Cherry Hill High School East 2: [None]\n",
      "Chaminade High School Flyers: [Remote Sensing]\n",
      "Ed W. Clark High School Gold: [Write It Do It]\n",
      "Ed W. Clark High School Orange: [Cell Biology]\n",
      "Columbia High School White: [Anatomy and Physiology, Cell Biology]\n",
      "Cumberland Valley High School X: [Chemistry Lab, Trajectory, Write It Do It]\n",
      "Cumberland Valley High School Y: [Codebusters, Trajectory]\n",
      "East Brunswick High School : [It's About Time, Forestry]\n",
      "Fairfax High School Blue: [Forestry]\n",
      "Fairfax High School Gray: [Astronomy]\n",
      "Great Neck South High School : [Disease Detectives, Forensics]\n",
      "Garnet Valley High School A: [It's About Time, Scrambler, Trajectory]\n",
      "Garnet Valley High School B: [None]\n",
      "Harriton High School A: [Detector Building, Experimental Design, WiFi Lab]\n",
      "Harriton High School B: [Fermi Questions, Write It Do It]\n",
      "Haverford High School : [None]\n",
      "John Jay High School A: [Experimental Design, Remote Sensing]\n",
      "John Jay High School B: [None]\n",
      "JR Masterman School 1: [None]\n",
      "JR Masterman School 2: [None]\n",
      "Kingsway Regional High School Dragons: [None]\n",
      "Lower Merion High School Goals: [Chemistry Lab, Write It Do It]\n",
      "Lower Merion High School Aspirations: [Environmental Chemistry, Write It Do It]\n",
      "Montgomery High School A: [Bridge, Forestry]\n",
      "Montgomery High School B: [Scrambler]\n",
      "North Penn High School A: [Rocks and Minerals]\n",
      "North Penn High School B: [Flight, Scrambler, Trajectory]\n",
      "North Pocono High School Red: [Dynamic Planet]\n",
      "North Pocono High School White: [It's About Time, Codebusters]\n",
      "Northridge High School Green: [Disease Detectives, Remote Sensing]\n",
      "Northridge High School Gold: [Disease Detectives]\n",
      "Parsippany High School : [Trajectory]\n",
      "Penncrest High School : [Disease Detectives, WiFi Lab]\n",
      "Philadelphia High School for Girls : [None]\n",
      "South Brunswick High School Eucalyptus: [Experimental Design, Write It Do It]\n",
      "South Brunswick High School Fan Palm: [Bridge, Flight]\n",
      "Syosset High School : [Environmental Chemistry, Flight]\n",
      "Charter School of Wilmington A: [Bridge]\n",
      "Charter School of Wilmington B: [None]\n",
      "Shipley School : [None]\n",
      "Ward Melville High School Varsity: [Cell Biology]\n",
      "Ward Melville High School Junior Varsity: [Remote Sensing, WiFi Lab]\n",
      "West Chester East High School : [Flight]\n",
      "West Windsor-Plainsboro High School North A: [It's About Time, Bridge, Write It Do It]\n",
      "West Windsor-Plainsboro High School North B: [Bridge, Codebusters]\n",
      "West Windsor-Plainsboro High School South A: [Fermi Questions, Write It Do It]\n",
      "West Windsor-Plainsboro High School South B: [Astronomy, Dynamic Planet, Forensics, Write It Do It]\n",
      "William G. Enloe High School : [Bridge, Codebusters, Detector Building, Scrambler]\n"
     ]
    }
   ],
   "source": [
    "for school, events in std_dev_model.bombed_events.items():\n",
    "    print(f\"{std_dev_model.teams[school]}: [{', '.join(events) if events else 'None'}]\")"
   ],
   "metadata": {
    "collapsed": false,
    "ExecuteTime": {
     "end_time": "2023-12-29T20:37:17.695989200Z",
     "start_time": "2023-12-29T20:37:17.677125200Z"
    }
   },
   "id": "a7899e5c4e70a1fb"
  },
  {
   "cell_type": "markdown",
   "source": [
    "## Recalculating scores/ranking with auto drop \"bombed\" events\n",
    "### Dropping $\\lfloor{\\frac{\\sum_n^k{b_n}}{T}}\\rfloor$ (avg) \"bombed\" events from each team's scores"
   ],
   "metadata": {
    "collapsed": false
   },
   "id": "440502e2384e946f"
  },
  {
   "cell_type": "code",
   "execution_count": 44,
   "outputs": [
    {
     "name": "stdout",
     "output_type": "stream",
     "text": [
      "After dropping 1 events:\n",
      "1. Adlai E. Stevenson High School Green: 163\n",
      "2. West Windsor-Plainsboro High School North A: 186\n",
      "3. Montgomery High School A: 204\n",
      "4. West Windsor-Plainsboro High School South A: 225\n",
      "5. William G. Enloe High School : 228\n",
      "6. Great Neck South High School : 241\n",
      "7. Ward Melville High School Varsity: 241\n",
      "8. Syosset High School : 262\n",
      "9. Lower Merion High School Goals: 265\n",
      "10. Centennial High School : 280\n",
      "11. Harriton High School B: 319\n",
      "12. Cumberland Valley High School X: 326\n",
      "13. Harriton High School A: 359\n",
      "14. East Brunswick High School : 378\n",
      "15. South Brunswick High School Eucalyptus: 397\n",
      "16. West Windsor-Plainsboro High School North B: 402\n",
      "17. Cumberland Valley High School Y: 408\n",
      "18. John Jay High School A: 409\n",
      "19. Montgomery High School B: 417\n",
      "20. Chaminade High School Flyers: 451\n",
      "21. West Windsor-Plainsboro High School South B: 458\n",
      "22. Adlai E. Stevenson High School Gold: 461\n",
      "23. Penncrest High School : 468\n",
      "24. Northridge High School Green: 498\n",
      "25. Columbia High School White: 518\n",
      "26. North Pocono High School Red: 525\n",
      "27. Ward Melville High School Junior Varsity: 562\n",
      "28. Fairfax High School Blue: 584\n",
      "29. Bayard Rustin High School Blue: 589\n",
      "30. Fairfax High School Gray: 619\n",
      "31. Ed W. Clark High School Gold: 628\n",
      "32. Garnet Valley High School A: 639\n",
      "33. South Brunswick High School Fan Palm: 664\n",
      "34. Lower Merion High School Aspirations: 683\n",
      "35. Northridge High School Gold: 689\n",
      "36. Charter School of Wilmington A: 745\n",
      "37. Shipley School : 760\n",
      "38. North Penn High School A: 786\n",
      "39. Ed W. Clark High School Orange: 799\n",
      "40. Cherry Hill High School East 1: 809\n",
      "41. North Pocono High School White: 834\n",
      "42. West Chester East High School : 868\n",
      "43. Haverford High School : 887\n",
      "44. Central High School : 929\n",
      "45. Allentown Central Catholic High School Gold: 940\n",
      "46. North Penn High School B: 949\n",
      "47. Charter School of Wilmington B: 960\n",
      "48. Garnet Valley High School B: 977\n",
      "49. Cherry Hill High School East 2: 988\n",
      "50. Bayard Rustin High School Gold: 994\n",
      "51. John Jay High School B: 995\n",
      "52. JR Masterman School 1: 996\n",
      "53. Parsippany High School : 1026\n",
      "54. Allentown Central Catholic High School Green: 1081\n",
      "55. Kingsway Regional High School Dragons: 1101\n",
      "56. Philadelphia High School for Girls : 1111\n",
      "57. JR Masterman School 2: 1230\n"
     ]
    }
   ],
   "source": [
    "print(f\"After dropping {std_dev_model.to_drop} events:\")\n",
    "for i, (t_number, score) in enumerate(std_dev_model.dropped_scores.items()):\n",
    "    print(f\"{i+1}. {std_dev_model.teams[t_number]}: {score}\")"
   ],
   "metadata": {
    "collapsed": false,
    "ExecuteTime": {
     "end_time": "2023-12-29T20:37:17.704246Z",
     "start_time": "2023-12-29T20:37:17.691956100Z"
    }
   },
   "id": "34f2486fbcb8330a"
  },
  {
   "cell_type": "markdown",
   "source": [],
   "metadata": {
    "collapsed": false
   },
   "id": "db0fee8380b9276a"
  },
  {
   "cell_type": "markdown",
   "source": [
    "# Visualization of Data\n",
    "We can see overall placement changes between teams as well as an overall trend as to how dropping affects the shape of the relationship/curve between teams and their scores."
   ],
   "metadata": {
    "collapsed": false
   },
   "id": "32488e302035d11c"
  },
  {
   "cell_type": "code",
   "execution_count": 45,
   "outputs": [
    {
     "data": {
      "text/plain": "<Figure size 640x480 with 1 Axes>",
      "image/png": "[encoded data removed]"
     },
     "metadata": {},
     "output_type": "display_data"
    }
   ],
   "source": [
    "std_dev_model.visualize()"
   ],
   "metadata": {
    "collapsed": false,
    "ExecuteTime": {
     "end_time": "2023-12-29T20:37:17.907434Z",
     "start_time": "2023-12-29T20:37:17.788725600Z"
    }
   },
   "id": "ae14a71920de410a"
  }
 ],
 "metadata": {
  "kernelspec": {
   "display_name": "Python 3 (ipykernel)",
   "language": "python",
   "name": "python3"
  },
  "language_info": {
   "codemirror_mode": {
    "name": "ipython",
    "version": 3
   },
   "file_extension": ".py",
   "mimetype": "text/x-python",
   "name": "python",
   "nbconvert_exporter": "python",
   "pygments_lexer": "ipython3",
   "version": "3.9.13"
  }
 },
 "nbformat": 4,
 "nbformat_minor": 5
}
