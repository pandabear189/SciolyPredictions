{
 "cells": [
  {
   "cell_type": "markdown",
   "id": "8c14d85bfc3cfff8",
   "metadata": {
    "collapsed": false
   },
   "source": [
    "# Setup/Imports"
   ]
  },
  {
   "cell_type": "code",
   "execution_count": 47,
   "id": "35c184f9ceb9fffe",
   "metadata": {
    "collapsed": false,
    "ExecuteTime": {
     "end_time": "2023-12-26T02:15:56.621632100Z",
     "start_time": "2023-12-26T02:15:55.653143900Z"
    }
   },
   "outputs": [],
   "source": [
    "%%capture\n",
    "from src.drops import Drops\n",
    "\n",
    "drop_model = Drops(\n",
    "    file_path=\"../data/2023-05-20_nationals_c.yaml\", method=\"std_deviation\", alpha=2.5\n",
    ")"
   ]
  },
  {
   "cell_type": "markdown",
   "source": [
    "The code for the [`Drops`](../src/drops.py) class subclasses [`Results`](../utils/results.py) and is shown below:\n",
    "```python\n",
    "class Results:\n",
    "    ...\n",
    "    @property\n",
    "    def teams(self) -> list[int]:\n",
    "        ...\n",
    "    @property\n",
    "    def teams_data(self) -> list[dict[str, str | int]]:\n",
    "        ...\n",
    "    @property\n",
    "    def events(self) -> list[str]:\n",
    "        ...\n",
    "    @property\n",
    "    def trial_events(self) -> list[str]:\n",
    "        ...\n",
    "    @property\n",
    "    def score_sum(self) -> dict[int, int]:\n",
    "        ...\n",
    "    @property\n",
    "    def full_scores(self) -> dict[int, list[int]]:\n",
    "        ...\n",
    "    @property\n",
    "    def averages(self) -> dict[int, float]:\n",
    "        ...\n",
    "\n",
    "```\n",
    "```python\n",
    "class Drops(Results):\n",
    "    ...\n",
    "    def iqr(self, alpha: float = ...) -> None:\n",
    "        \"\"\"Calculates the IQR method for determining \"bombed\" events\"\"\"\n",
    "        ...\n",
    "    def mean(self, alpha: float = ...) -> None:\n",
    "        \"\"\"Calculates the mean method for determining \"bombed\" events\"\"\"\n",
    "        ...\n",
    "    def std_deviation(self, alpha: float = ...) -> None:\n",
    "        \"\"\"Calculates the standard deviation method for determining \"bombed\" events\"\"\"\n",
    "        ...\n",
    "    def drop(self) -> None:\n",
    "        \"\"\"Drops the \"bombed\" events from the scores\"\"\"\n",
    "        ...\n",
    "    def visualize(self) -> None:\n",
    "        \"\"\"Visualizes the data\"\"\"\n",
    "        ...\n",
    "    \n",
    "```"
   ],
   "metadata": {
    "collapsed": false
   },
   "id": "bfc9eb0ac26a1c15"
  },
  {
   "cell_type": "markdown",
   "source": [
    "## Average Score Per School"
   ],
   "metadata": {
    "collapsed": false
   },
   "id": "686fbc16fd1d60d9"
  },
  {
   "cell_type": "code",
   "execution_count": 48,
   "outputs": [
    {
     "name": "stdout",
     "output_type": "stream",
     "text": [
      "Average score per school:  {'Adlai E. Stevenson High School ': 9.043478260869565, 'Solon High School ': 9.91304347826087, 'Mason High School ': 10.130434782608695, 'Troy High School ': 12.130434782608695, 'Harriton High School ': 12.73913043478261, 'Acton-Boxborough Regional High School ': 12.956521739130435, 'Castro Valley High School ': 13.956521739130435, 'Seven Lakes High School ': 14.173913043478262, 'New Trier High School ': 14.478260869565217, 'William G. Enloe High School ': 15.956521739130435, 'Marquette University High School ': 16.08695652173913, 'Syosset High School ': 16.565217391304348, 'Grand Haven High School ': 17.608695652173914, 'Lower Merion High School ': 18.130434782608695, 'West Windsor-Plainsboro High School North ': 18.391304347826086, 'William P. Clements High School ': 20.08695652173913, 'North Carolina School of Science and Mathematics ': 20.434782608695652, 'Carmel High School ': 20.434782608695652, 'Ward Melville High School ': 20.73913043478261, 'F.W. Buchholz High School ': 21.73913043478261, 'duPont Manual High School ': 21.91304347826087, 'Ladue Horton Watkins High School ': 23.26086956521739, 'Centennial High School ': 23.391304347826086, 'Pioneer High School ': 23.608695652173914, 'Brookwood High School ': 24.434782608695652, 'Thomas Jefferson High School for Science and Technology ': 25.08695652173913, 'Tesla STEM High School ': 25.434782608695652, 'Iolani School ': 25.434782608695652, 'Boca Raton Community High School ': 26.434782608695652, 'Ed W. Clark High School ': 26.91304347826087, 'Fulton Science Academy ': 29.26086956521739, 'Mounds View High School ': 29.91304347826087, 'Homeschool Science Colorado ': 32.91304347826087, 'Langley High School ': 33.56521739130435, 'Pembroke Hill School ': 34.08695652173913, 'Blue Valley North High School ': 35.04347826086956, 'Ames High School ': 35.26086956521739, 'Ravenwood High School ': 36.43478260869565, 'South Windsor High School ': 39.0, 'Morgantown High School ': 39.47826086956522, 'BASIS Independent Washington, D.C. ': 40.04347826086956, 'Waynflete Upper School ': 40.43478260869565, 'University High School ': 41.65217391304348, 'Charter School of Wilmington ': 43.04347826086956, 'James Clemens High School ': 43.82608695652174, 'West High School ': 43.869565217391305, 'Casady School ': 43.91304347826087, 'Barrington High School ': 45.43478260869565, 'Bismarck High School ': 45.869565217391305, 'Albuquerque Academy ': 46.08695652173913, 'Northwest Rankin High School ': 46.08695652173913, 'Lebanon High School ': 46.17391304347826, \"St. Mary's Academy \": 46.17391304347826, 'Kelly Walsh High School ': 47.69565217391305, 'Hamilton High School ': 47.82608695652174, 'Clinton High School ': 49.08695652173913, 'Millard North High School ': 49.43478260869565, 'Saint Johnsbury Academy ': 52.04347826086956, 'Little Rock Central High School ': 52.47826086956522, 'Baton Rouge Magnet High School ': 52.69565217391305}\n"
     ]
    }
   ],
   "source": [
    "import utils\n",
    "\n",
    "print(\n",
    "    \"Average score per school: \",\n",
    "    utils.pretty_print(\n",
    "        drop_model.teams,\n",
    "        dict(sorted(drop_model.averages.items(), key=lambda item: item[1])),\n",
    "    ),\n",
    ")"
   ],
   "metadata": {
    "collapsed": false,
    "ExecuteTime": {
     "end_time": "2023-12-26T02:15:56.638960800Z",
     "start_time": "2023-12-26T02:15:56.624537700Z"
    }
   },
   "id": "bfe574e306c4d738"
  },
  {
   "cell_type": "markdown",
   "source": [
    "# Distinguishing \"Bombed\" Events\n",
    "### Using the following methods to determine \"bombed\" events:\n",
    "##### These values become the upper fence for the data\n",
    "- [$\\alpha \\times \\overline{X} $](../src/drops.py#L38)\n",
    "- [$\\alpha \\times (Q_3 - Q_1) + Q_3$ &nbsp; (IQR)](../src/drops.py#L30)\n",
    "- [$\\alpha \\times \\sigma + \\overline{X} $&nbsp;&nbsp;&nbsp; (Standard Deviation)](../src/drops.py#L44)\n",
    "\n",
    "where $\\alpha$ is a multiplicative constant. \n",
    "##### We then take the $\\sum_n^k{b_n}$ (sum of all \"bombed\" events) and divide by $T$ (number of teams) to get the average number of \"bombed\" events per team. "
   ],
   "metadata": {
    "collapsed": false
   },
   "id": "e03e01c80a6d3cb7"
  },
  {
   "cell_type": "markdown",
   "source": [
    "### Mean Method (alpha = 2)"
   ],
   "metadata": {
    "collapsed": false
   },
   "id": "8ae06a38b271b960"
  },
  {
   "cell_type": "code",
   "execution_count": 49,
   "outputs": [],
   "source": [
    "%%capture\n",
    "# redefine our model to use this method\n",
    "mean_model = Drops(\n",
    "    file_path=\"../data/2023-05-20_nationals_c.yaml\", method=\"mean\", alpha=2\n",
    ")\n",
    "mean_model.drop()"
   ],
   "metadata": {
    "collapsed": false,
    "ExecuteTime": {
     "end_time": "2023-12-26T02:15:57.365928600Z",
     "start_time": "2023-12-26T02:15:56.638960800Z"
    }
   },
   "id": "834164a368868bc1"
  },
  {
   "cell_type": "markdown",
   "source": [
    "### IQR Method (alpha = 1.5, standard outlier formula)"
   ],
   "metadata": {
    "collapsed": false
   },
   "id": "3ab2dd5968448b6e"
  },
  {
   "cell_type": "code",
   "execution_count": 50,
   "outputs": [],
   "source": [
    "%%capture\n",
    "# redefine our model to use this method\n",
    "iqr_model = Drops(\n",
    "    file_path=\"../data/2023-05-20_nationals_c.yaml\", method=\"iqr\", alpha=1.5\n",
    ")\n",
    "iqr_model.drop()"
   ],
   "metadata": {
    "collapsed": false,
    "ExecuteTime": {
     "end_time": "2023-12-26T02:15:58.158987200Z",
     "start_time": "2023-12-26T02:15:57.368996300Z"
    }
   },
   "id": "6cc22dd35bd4041b"
  },
  {
   "cell_type": "markdown",
   "source": [
    "### Standard Deviation Method (alpha = 1.5)"
   ],
   "metadata": {
    "collapsed": false
   },
   "id": "72c4071390a22ef0"
  },
  {
   "cell_type": "code",
   "execution_count": 51,
   "outputs": [],
   "source": [
    "%%capture\n",
    "# redefine our model to use this method\n",
    "std_dev_model = Drops(\n",
    "    file_path=\"../data/2023-05-20_nationals_c.yaml\", method=\"std_deviation\", alpha=1.5\n",
    ")\n",
    "std_dev_model.drop()"
   ],
   "metadata": {
    "collapsed": false,
    "ExecuteTime": {
     "end_time": "2023-12-26T02:15:58.876706Z",
     "start_time": "2023-12-26T02:15:58.162286600Z"
    }
   },
   "id": "7547b3b58c508cee"
  },
  {
   "cell_type": "markdown",
   "source": [
    "## Consistent Flaws\n",
    "All of these methods are too sensitive to \"top\" teams while do not account nearly as well for lower ranked teams. A possible solution would be a scalar multiplier based on the team's rank. This would have a greater account for bombs even when the mean/median place on a team is lower. "
   ],
   "metadata": {
    "collapsed": false
   },
   "id": "4dd2768f4c1749a2"
  },
  {
   "cell_type": "markdown",
   "source": [
    "## Calculating Bombed Events\n",
    "Using the standard deviation method with $\\alpha = 1.5$ to determine \"bombed\" events as a demonstration\n"
   ],
   "metadata": {
    "collapsed": false
   },
   "id": "dc791eecd885c4dd"
  },
  {
   "cell_type": "code",
   "execution_count": 52,
   "outputs": [],
   "source": [
    "%%capture\n",
    "std_dev_model = Drops(\n",
    "    file_path=\"../data/2023-05-20_nationals_c.yaml\", method=\"std_deviation\", alpha=1.5\n",
    ")\n",
    "\n",
    "std_dev_model.drop()"
   ],
   "metadata": {
    "collapsed": false,
    "ExecuteTime": {
     "end_time": "2023-12-26T02:15:59.592378800Z",
     "start_time": "2023-12-26T02:15:58.878709600Z"
    }
   },
   "id": "60ee2ba6a57560cc"
  },
  {
   "cell_type": "code",
   "execution_count": 53,
   "outputs": [
    {
     "name": "stdout",
     "output_type": "stream",
     "text": [
      "Syosset High School : Bridge, Flight, Remote Sensing\n",
      "Ward Melville High School : Environmental Chemistry\n",
      "Troy High School : Chemistry Lab, Forensics, WiFi Lab, Write It Do It\n",
      "Castro Valley High School : Scrambler\n",
      "William G. Enloe High School : Astronomy, Scrambler\n",
      "North Carolina School of Science and Mathematics : Environmental Chemistry, Forensics\n",
      "Grand Haven High School : Chemistry Lab, Detector Building\n",
      "Pioneer High School : Anatomy and Physiology, Write It Do It\n",
      "Harriton High School : Detector Building, Dynamic Planet, Fermi Questions\n",
      "Lower Merion High School : Remote Sensing\n",
      "Adlai E. Stevenson High School : Experimental Design, Trajectory\n",
      "New Trier High School : Experimental Design, Scrambler\n",
      "F.W. Buchholz High School : Experimental Design, Write It Do It\n",
      "Boca Raton Community High School : Environmental Chemistry\n",
      "Solon High School : Experimental Design, Remote Sensing\n",
      "Mason High School : Trajectory\n",
      "Seven Lakes High School : Bridge\n",
      "William P. Clements High School : Forensics, Scrambler, Write It Do It\n",
      "Fulton Science Academy : Disease Detectives, Green Generation\n",
      "Brookwood High School : Chemistry Lab, Fermi Questions\n",
      "Thomas Jefferson High School for Science and Technology : Scrambler, Trajectory, Write It Do It\n",
      "Marquette University High School : Dynamic Planet, Remote Sensing\n",
      "Ladue Horton Watkins High School : Fermi Questions\n",
      "West Windsor-Plainsboro High School North : Fermi Questions, It's About Time, WiFi Lab\n",
      "Centennial High School : Detector Building\n",
      "Carmel High School : Bridge, Green Generation\n",
      "Acton-Boxborough Regional High School : Chemistry Lab, Detector Building\n",
      "Mounds View High School : Detector Building\n",
      "Tesla STEM High School : Forestry, Write It Do It\n",
      "Ravenwood High School : None\n",
      "Homeschool Science Colorado : Fermi Questions, WiFi Lab\n",
      "Blue Valley North High School : None\n",
      "Millard North High School : Forestry\n",
      "Charter School of Wilmington : None\n",
      "James Clemens High School : None\n",
      "Bismarck High School : None\n",
      "South Windsor High School : Forensics, Remote Sensing\n",
      "Hamilton High School : None\n",
      "duPont Manual High School : Forestry, WiFi Lab\n",
      "Albuquerque Academy : None\n",
      "University High School : None\n",
      "Iolani School : Anatomy and Physiology, Environmental Chemistry\n",
      "Ames High School : Forensics\n",
      "Barrington High School : None\n",
      "Ed W. Clark High School : Cell Biology\n",
      "Northwest Rankin High School : None\n",
      "Lebanon High School : None\n",
      "Clinton High School : None\n",
      "Casady School : Chemistry Lab, Codebusters, Experimental Design\n",
      "St. Mary's Academy : None\n",
      "West High School : None\n",
      "Waynflete Upper School : None\n",
      "Baton Rouge Magnet High School : None\n",
      "Little Rock Central High School : Scrambler\n",
      "Kelly Walsh High School : None\n",
      "Morgantown High School : Fermi Questions, Rocks and Minerals\n",
      "Saint Johnsbury Academy : None\n",
      "BASIS Independent Washington, D.C. : None\n",
      "Pembroke Hill School : Cell Biology, Detector Building, Trajectory\n",
      "Langley High School : Fermi Questions, Flight\n"
     ]
    }
   ],
   "source": [
    "for school, events in std_dev_model.bombed_events.items():\n",
    "    print(f\"{std_dev_model.teams[school]}: {', '.join(events) if events else 'None'}\")"
   ],
   "metadata": {
    "collapsed": false,
    "ExecuteTime": {
     "end_time": "2023-12-26T02:15:59.607841600Z",
     "start_time": "2023-12-26T02:15:59.594215700Z"
    }
   },
   "id": "a7899e5c4e70a1fb"
  },
  {
   "cell_type": "markdown",
   "source": [
    "## Recalculating scores/ranking with auto drop \"bombed\" events\n",
    "### Dropping $\\lfloor{\\frac{\\sum_n^k{b_n}}{T}}\\rfloor$ (avg) \"bombed\" events from each team's scores"
   ],
   "metadata": {
    "collapsed": false
   },
   "id": "440502e2384e946f"
  },
  {
   "cell_type": "code",
   "execution_count": 54,
   "outputs": [
    {
     "name": "stdout",
     "output_type": "stream",
     "text": [
      "After dropping 1 events:\n",
      "1. Adlai E. Stevenson High School : 184\n",
      "2. Solon High School : 192\n",
      "3. Mason High School : 193\n",
      "4. Acton-Boxborough Regional High School : 248\n",
      "5. Troy High School : 252\n",
      "6. Harriton High School : 262\n",
      "7. Castro Valley High School : 270\n",
      "8. Seven Lakes High School : 281\n",
      "9. New Trier High School : 283\n",
      "10. Syosset High School : 328\n",
      "11. William G. Enloe High School : 330\n",
      "12. Marquette University High School : 337\n",
      "13. Grand Haven High School : 360\n",
      "14. Lower Merion High School : 376\n",
      "15. West Windsor-Plainsboro High School North : 383\n",
      "16. William P. Clements High School : 414\n",
      "17. North Carolina School of Science and Mathematics : 416\n",
      "18. Carmel High School : 419\n",
      "19. Ward Melville High School : 438\n",
      "20. F.W. Buchholz High School : 449\n",
      "21. duPont Manual High School : 454\n",
      "22. Pioneer High School : 487\n",
      "23. Ladue Horton Watkins High School : 490\n",
      "24. Centennial High School : 490\n",
      "25. Brookwood High School : 514\n",
      "26. Thomas Jefferson High School for Science and Technology : 518\n",
      "27. Iolani School : 536\n",
      "28. Tesla STEM High School : 543\n",
      "29. Boca Raton Community High School : 560\n",
      "30. Ed W. Clark High School : 569\n",
      "31. Fulton Science Academy : 617\n",
      "32. Mounds View High School : 636\n",
      "33. Homeschool Science Colorado : 702\n",
      "34. Langley High School : 715\n",
      "35. Pembroke Hill School : 728\n",
      "36. Blue Valley North High School : 753\n",
      "37. Ames High School : 755\n",
      "38. Ravenwood High School : 781\n",
      "39. South Windsor High School : 838\n",
      "40. Morgantown High School : 848\n",
      "41. BASIS Independent Washington, D.C. : 867\n",
      "42. Waynflete Upper School : 873\n",
      "43. University High School : 899\n",
      "44. Charter School of Wilmington : 930\n",
      "45. James Clemens High School : 948\n",
      "46. West High School : 949\n",
      "47. Casady School : 951\n",
      "48. Barrington High School : 985\n",
      "49. Bismarck High School : 995\n",
      "50. Albuquerque Academy : 1000\n",
      "51. Northwest Rankin High School : 1001\n",
      "52. St. Mary's Academy : 1003\n",
      "53. Lebanon High School : 1004\n",
      "54. Kelly Walsh High School : 1037\n",
      "55. Hamilton High School : 1040\n",
      "56. Clinton High School : 1069\n",
      "57. Millard North High School : 1078\n",
      "58. Saint Johnsbury Academy : 1137\n",
      "59. Little Rock Central High School : 1147\n",
      "60. Baton Rouge Magnet High School : 1152\n"
     ]
    }
   ],
   "source": [
    "print(f\"After dropping {std_dev_model.to_drop} events:\")\n",
    "for i, (t_number, score) in enumerate(std_dev_model.dropped_scores.items()):\n",
    "    print(f\"{i+1}. {std_dev_model.teams[t_number]}: {score}\")"
   ],
   "metadata": {
    "collapsed": false,
    "ExecuteTime": {
     "end_time": "2023-12-26T02:15:59.650672500Z",
     "start_time": "2023-12-26T02:15:59.611841900Z"
    }
   },
   "id": "34f2486fbcb8330a"
  },
  {
   "cell_type": "markdown",
   "source": [],
   "metadata": {
    "collapsed": false
   },
   "id": "db0fee8380b9276a"
  },
  {
   "cell_type": "markdown",
   "source": [
    "# Visualization of Data\n",
    "We can see overall placement changes between teams as well as an overall trend as to how dropping affects the shape of the relationship/curve between teams and their scores."
   ],
   "metadata": {
    "collapsed": false
   },
   "id": "32488e302035d11c"
  },
  {
   "cell_type": "code",
   "execution_count": 55,
   "outputs": [
    {
     "data": {
      "text/plain": "<Figure size 640x480 with 1 Axes>",
      "image/png": "[encoded data removed]"
     },
     "metadata": {},
     "output_type": "display_data"
    }
   ],
   "source": [
    "std_dev_model.visualize()"
   ],
   "metadata": {
    "collapsed": false,
    "ExecuteTime": {
     "end_time": "2023-12-26T02:15:59.765538800Z",
     "start_time": "2023-12-26T02:15:59.624645500Z"
    }
   },
   "id": "ae14a71920de410a"
  }
 ],
 "metadata": {
  "kernelspec": {
   "display_name": "Python 3 (ipykernel)",
   "language": "python",
   "name": "python3"
  },
  "language_info": {
   "codemirror_mode": {
    "name": "ipython",
    "version": 3
   },
   "file_extension": ".py",
   "mimetype": "text/x-python",
   "name": "python",
   "nbconvert_exporter": "python",
   "pygments_lexer": "ipython3",
   "version": "3.9.13"
  }
 },
 "nbformat": 4,
 "nbformat_minor": 5
}
